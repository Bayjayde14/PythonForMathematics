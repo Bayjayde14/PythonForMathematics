{
  "nbformat": 4,
  "nbformat_minor": 0,
  "metadata": {
    "colab": {
      "name": "Math152_Feb18_2021.ipynb",
      "provenance": [],
      "authorship_tag": "ABX9TyMdCo0sdSeynMWaCefS5DGm",
      "include_colab_link": true
    },
    "kernelspec": {
      "name": "python3",
      "display_name": "Python 3"
    }
  },
  "cells": [
    {
      "cell_type": "markdown",
      "metadata": {
        "id": "view-in-github",
        "colab_type": "text"
      },
      "source": [
        "<a href=\"https://colab.research.google.com/github/MartyWeissman/PythonForMathematics/blob/main/Math152_Feb18_2021.ipynb\" target=\"_parent\"><img src=\"https://colab.research.google.com/assets/colab-badge.svg\" alt=\"Open In Colab\"/></a>"
      ]
    },
    {
      "cell_type": "markdown",
      "metadata": {
        "id": "5f0GXobaNvLv"
      },
      "source": [
        "# Teaching notebook, Feb 18, 2021\n",
        "\n",
        "Introduction to Numpy!\n",
        "\n",
        "Outline:\n",
        "\n",
        "1.  Creating numpy ndarrays\n",
        "2.  Coercing types and overflow\n",
        "3.  Broadcasting math functions\n",
        "4.  Cumulative sum.  Approximating $\\gamma$\n",
        "4.  Plotting a function (line plots)\n"
      ]
    },
    {
      "cell_type": "code",
      "metadata": {
        "id": "mDvKuTSGNpGa"
      },
      "source": [
        "import numpy as np"
      ],
      "execution_count": 2,
      "outputs": []
    },
    {
      "cell_type": "code",
      "metadata": {
        "colab": {
          "base_uri": "https://localhost:8080/"
        },
        "id": "NWjciq0iSCBO",
        "outputId": "345bd269-a8d4-46f3-ec86-452059e90a82"
      },
      "source": [
        "np.sqrt(1000)"
      ],
      "execution_count": 3,
      "outputs": [
        {
          "output_type": "execute_result",
          "data": {
            "text/plain": [
              "31.622776601683793"
            ]
          },
          "metadata": {
            "tags": []
          },
          "execution_count": 3
        }
      ]
    },
    {
      "cell_type": "code",
      "metadata": {
        "colab": {
          "base_uri": "https://localhost:8080/"
        },
        "id": "iJFE70ksSB4F",
        "outputId": "eb2d9d3a-70cd-46a6-bf6e-1aa14228047a"
      },
      "source": [
        "np.random.random(5) # An array of random numbers between 0 and 1"
      ],
      "execution_count": 5,
      "outputs": [
        {
          "output_type": "execute_result",
          "data": {
            "text/plain": [
              "array([0.28877017, 0.82633799, 0.70657179, 0.81952535, 0.39004058])"
            ]
          },
          "metadata": {
            "tags": []
          },
          "execution_count": 5
        }
      ]
    },
    {
      "cell_type": "markdown",
      "metadata": {
        "id": "OEXF7AMhN9N0"
      },
      "source": [
        "Numpy ndarrays (\"ndarray\" is an \"n-dimensional array\")"
      ]
    },
    {
      "cell_type": "code",
      "metadata": {
        "id": "IfHhtcdONzHB"
      },
      "source": [
        "A = np.array([1,2,3,4,5])"
      ],
      "execution_count": 7,
      "outputs": []
    },
    {
      "cell_type": "code",
      "metadata": {
        "colab": {
          "base_uri": "https://localhost:8080/"
        },
        "id": "wfmoBO3vSY8K",
        "outputId": "cd51fb06-d98e-4d24-a79f-96a47b632b42"
      },
      "source": [
        "print(A)"
      ],
      "execution_count": 8,
      "outputs": [
        {
          "output_type": "stream",
          "text": [
            "[1 2 3 4 5]\n"
          ],
          "name": "stdout"
        }
      ]
    },
    {
      "cell_type": "code",
      "metadata": {
        "id": "AmVJttRBSaoJ"
      },
      "source": [
        "L = [1,2,3,4,5]"
      ],
      "execution_count": 9,
      "outputs": []
    },
    {
      "cell_type": "code",
      "metadata": {
        "colab": {
          "base_uri": "https://localhost:8080/"
        },
        "id": "kKD4CHFNScxh",
        "outputId": "642420ff-75ab-4510-ab2e-911402053fbc"
      },
      "source": [
        "print(L)"
      ],
      "execution_count": 10,
      "outputs": [
        {
          "output_type": "stream",
          "text": [
            "[1, 2, 3, 4, 5]\n"
          ],
          "name": "stdout"
        }
      ]
    },
    {
      "cell_type": "code",
      "metadata": {
        "colab": {
          "base_uri": "https://localhost:8080/"
        },
        "id": "6Irwuh5tSdZY",
        "outputId": "115fb794-7cfe-4f28-d39f-fc6e5fad9f31"
      },
      "source": [
        "type(L)"
      ],
      "execution_count": 11,
      "outputs": [
        {
          "output_type": "execute_result",
          "data": {
            "text/plain": [
              "list"
            ]
          },
          "metadata": {
            "tags": []
          },
          "execution_count": 11
        }
      ]
    },
    {
      "cell_type": "code",
      "metadata": {
        "colab": {
          "base_uri": "https://localhost:8080/"
        },
        "id": "caWqMBmdSfri",
        "outputId": "c0271a14-4812-43f2-a1eb-4e94a502302d"
      },
      "source": [
        "type(A)"
      ],
      "execution_count": 12,
      "outputs": [
        {
          "output_type": "execute_result",
          "data": {
            "text/plain": [
              "numpy.ndarray"
            ]
          },
          "metadata": {
            "tags": []
          },
          "execution_count": 12
        }
      ]
    },
    {
      "cell_type": "code",
      "metadata": {
        "colab": {
          "base_uri": "https://localhost:8080/"
        },
        "id": "CXBHrZctSguh",
        "outputId": "f42636b6-54a7-4a61-a2e1-692f794fd3eb"
      },
      "source": [
        "A[2]"
      ],
      "execution_count": 13,
      "outputs": [
        {
          "output_type": "execute_result",
          "data": {
            "text/plain": [
              "3"
            ]
          },
          "metadata": {
            "tags": []
          },
          "execution_count": 13
        }
      ]
    },
    {
      "cell_type": "code",
      "metadata": {
        "colab": {
          "base_uri": "https://localhost:8080/"
        },
        "id": "MpvL-_7-Sjpp",
        "outputId": "ddf1ba01-f5a6-4225-c6c1-9819bd058e84"
      },
      "source": [
        "type(A[2])"
      ],
      "execution_count": 14,
      "outputs": [
        {
          "output_type": "execute_result",
          "data": {
            "text/plain": [
              "numpy.int64"
            ]
          },
          "metadata": {
            "tags": []
          },
          "execution_count": 14
        }
      ]
    },
    {
      "cell_type": "code",
      "metadata": {
        "id": "pq-iPFq1SkuI"
      },
      "source": [
        "L = [1, 'S', 3.7]"
      ],
      "execution_count": 16,
      "outputs": []
    },
    {
      "cell_type": "code",
      "metadata": {
        "colab": {
          "base_uri": "https://localhost:8080/"
        },
        "id": "wefA_wSPSpxw",
        "outputId": "047101e8-d046-4fad-9758-4f96413563d7"
      },
      "source": [
        "type(L)"
      ],
      "execution_count": 17,
      "outputs": [
        {
          "output_type": "execute_result",
          "data": {
            "text/plain": [
              "list"
            ]
          },
          "metadata": {
            "tags": []
          },
          "execution_count": 17
        }
      ]
    },
    {
      "cell_type": "code",
      "metadata": {
        "colab": {
          "base_uri": "https://localhost:8080/"
        },
        "id": "y00-XRO8Sre3",
        "outputId": "3ebdbe68-e18c-45ee-d845-ea009dd78f8e"
      },
      "source": [
        "type(L[0])"
      ],
      "execution_count": 18,
      "outputs": [
        {
          "output_type": "execute_result",
          "data": {
            "text/plain": [
              "int"
            ]
          },
          "metadata": {
            "tags": []
          },
          "execution_count": 18
        }
      ]
    },
    {
      "cell_type": "code",
      "metadata": {
        "colab": {
          "base_uri": "https://localhost:8080/"
        },
        "id": "aElfGOCNSsqO",
        "outputId": "2f0afab7-f224-4b0c-ac40-1ffab38b996e"
      },
      "source": [
        "type(L[1])"
      ],
      "execution_count": 19,
      "outputs": [
        {
          "output_type": "execute_result",
          "data": {
            "text/plain": [
              "str"
            ]
          },
          "metadata": {
            "tags": []
          },
          "execution_count": 19
        }
      ]
    },
    {
      "cell_type": "code",
      "metadata": {
        "colab": {
          "base_uri": "https://localhost:8080/"
        },
        "id": "otYIRpkOSueX",
        "outputId": "994e8733-8bbd-4d69-977e-5e4beab6a2af"
      },
      "source": [
        "type(L[2])"
      ],
      "execution_count": 20,
      "outputs": [
        {
          "output_type": "execute_result",
          "data": {
            "text/plain": [
              "float"
            ]
          },
          "metadata": {
            "tags": []
          },
          "execution_count": 20
        }
      ]
    },
    {
      "cell_type": "code",
      "metadata": {
        "id": "57MI5MfySwHf"
      },
      "source": [
        "A = np.array([1,'S',3.7])"
      ],
      "execution_count": 21,
      "outputs": []
    },
    {
      "cell_type": "code",
      "metadata": {
        "colab": {
          "base_uri": "https://localhost:8080/"
        },
        "id": "7HcdB0QzS0IG",
        "outputId": "da86a40a-a8d8-4194-c91b-a84e5d30432d"
      },
      "source": [
        "print(A)"
      ],
      "execution_count": 22,
      "outputs": [
        {
          "output_type": "stream",
          "text": [
            "['1' 'S' '3.7']\n"
          ],
          "name": "stdout"
        }
      ]
    },
    {
      "cell_type": "markdown",
      "metadata": {
        "id": "kuSEZMXPS39D"
      },
      "source": [
        "Numpy arrays must have all terms of the same type!!\n",
        "\n",
        "It will try to force this, when possible."
      ]
    },
    {
      "cell_type": "code",
      "metadata": {
        "id": "ujerCqzRTI2k"
      },
      "source": [
        "n = np.int64(37)"
      ],
      "execution_count": 24,
      "outputs": []
    },
    {
      "cell_type": "code",
      "metadata": {
        "colab": {
          "base_uri": "https://localhost:8080/"
        },
        "id": "tjZAX-nzTcVx",
        "outputId": "a318c1df-8696-483b-ddc1-6f5548dbc3a0"
      },
      "source": [
        "n"
      ],
      "execution_count": 25,
      "outputs": [
        {
          "output_type": "execute_result",
          "data": {
            "text/plain": [
              "37"
            ]
          },
          "metadata": {
            "tags": []
          },
          "execution_count": 25
        }
      ]
    },
    {
      "cell_type": "code",
      "metadata": {
        "colab": {
          "base_uri": "https://localhost:8080/"
        },
        "id": "af1MuLsOTc35",
        "outputId": "0bfbbc10-11d7-4df6-cbf1-51ce79b886a4"
      },
      "source": [
        "type(n)"
      ],
      "execution_count": 26,
      "outputs": [
        {
          "output_type": "execute_result",
          "data": {
            "text/plain": [
              "numpy.int64"
            ]
          },
          "metadata": {
            "tags": []
          },
          "execution_count": 26
        }
      ]
    },
    {
      "cell_type": "code",
      "metadata": {
        "colab": {
          "base_uri": "https://localhost:8080/"
        },
        "id": "rJm54qjuTeQZ",
        "outputId": "740937b6-92fa-4ccb-9f50-1f762c55757b"
      },
      "source": [
        "n**10"
      ],
      "execution_count": 27,
      "outputs": [
        {
          "output_type": "execute_result",
          "data": {
            "text/plain": [
              "4808584372417849"
            ]
          },
          "metadata": {
            "tags": []
          },
          "execution_count": 27
        }
      ]
    },
    {
      "cell_type": "code",
      "metadata": {
        "colab": {
          "base_uri": "https://localhost:8080/"
        },
        "id": "X5PA4mL3TimI",
        "outputId": "b64e67bd-4836-4ac7-f2e4-a3a6c0abf620"
      },
      "source": [
        "37**10"
      ],
      "execution_count": 28,
      "outputs": [
        {
          "output_type": "execute_result",
          "data": {
            "text/plain": [
              "4808584372417849"
            ]
          },
          "metadata": {
            "tags": []
          },
          "execution_count": 28
        }
      ]
    },
    {
      "cell_type": "code",
      "metadata": {
        "colab": {
          "base_uri": "https://localhost:8080/"
        },
        "id": "aNCBgGDdTkVw",
        "outputId": "c1b4eda6-6edb-4f92-fd82-47f3e93f9c77"
      },
      "source": [
        "n**100"
      ],
      "execution_count": 29,
      "outputs": [
        {
          "output_type": "execute_result",
          "data": {
            "text/plain": [
              "-1901415581956121743"
            ]
          },
          "metadata": {
            "tags": []
          },
          "execution_count": 29
        }
      ]
    },
    {
      "cell_type": "code",
      "metadata": {
        "colab": {
          "base_uri": "https://localhost:8080/"
        },
        "id": "Dm5zxDfQTliI",
        "outputId": "5bfa7d62-3215-45c2-d33a-2361f5c60d9f"
      },
      "source": [
        "37**100"
      ],
      "execution_count": 30,
      "outputs": [
        {
          "output_type": "execute_result",
          "data": {
            "text/plain": [
              "6609557828843866774348296857793615320986068325257944996730965130260195627493490637048004105256563742994070037769599882399012397170569200279466412758131334001"
            ]
          },
          "metadata": {
            "tags": []
          },
          "execution_count": 30
        }
      ]
    },
    {
      "cell_type": "markdown",
      "metadata": {
        "id": "J6rFQVCCUBhs"
      },
      "source": [
        "## Broadcasting functions!"
      ]
    },
    {
      "cell_type": "code",
      "metadata": {
        "id": "idd5P_CETrx4"
      },
      "source": [
        "A = np.array([1,2,3,4,5])"
      ],
      "execution_count": 31,
      "outputs": []
    },
    {
      "cell_type": "code",
      "metadata": {
        "colab": {
          "base_uri": "https://localhost:8080/"
        },
        "id": "dVP_0zXbUEpF",
        "outputId": "5bf07999-49af-401f-fcd0-9724cd23978c"
      },
      "source": [
        "print(A)"
      ],
      "execution_count": 32,
      "outputs": [
        {
          "output_type": "stream",
          "text": [
            "[1 2 3 4 5]\n"
          ],
          "name": "stdout"
        }
      ]
    },
    {
      "cell_type": "code",
      "metadata": {
        "colab": {
          "base_uri": "https://localhost:8080/"
        },
        "id": "2HdYV34qUFX8",
        "outputId": "94ed2ba4-386c-49a9-a0ac-02c27bdb3d04"
      },
      "source": [
        "type(A)"
      ],
      "execution_count": 33,
      "outputs": [
        {
          "output_type": "execute_result",
          "data": {
            "text/plain": [
              "numpy.ndarray"
            ]
          },
          "metadata": {
            "tags": []
          },
          "execution_count": 33
        }
      ]
    },
    {
      "cell_type": "code",
      "metadata": {
        "colab": {
          "base_uri": "https://localhost:8080/"
        },
        "id": "eifFGlBuUGF0",
        "outputId": "8e248ca5-bfaa-4846-ff50-e7ccb020fc95"
      },
      "source": [
        "2*[1,2,3,4,5]"
      ],
      "execution_count": 35,
      "outputs": [
        {
          "output_type": "execute_result",
          "data": {
            "text/plain": [
              "[1, 2, 3, 4, 5, 1, 2, 3, 4, 5]"
            ]
          },
          "metadata": {
            "tags": []
          },
          "execution_count": 35
        }
      ]
    },
    {
      "cell_type": "code",
      "metadata": {
        "colab": {
          "base_uri": "https://localhost:8080/"
        },
        "id": "hIKjxdHJUPDT",
        "outputId": "28b3b35d-a66f-4a7a-bd17-a91c8ef34fe6"
      },
      "source": [
        "2*A"
      ],
      "execution_count": 36,
      "outputs": [
        {
          "output_type": "execute_result",
          "data": {
            "text/plain": [
              "array([ 2,  4,  6,  8, 10])"
            ]
          },
          "metadata": {
            "tags": []
          },
          "execution_count": 36
        }
      ]
    },
    {
      "cell_type": "code",
      "metadata": {
        "colab": {
          "base_uri": "https://localhost:8080/"
        },
        "id": "DgGiJDEFUX3K",
        "outputId": "99b738cb-d8b2-4a7c-b903-6851c07a921b"
      },
      "source": [
        "np.sin(A)"
      ],
      "execution_count": 37,
      "outputs": [
        {
          "output_type": "execute_result",
          "data": {
            "text/plain": [
              "array([ 0.84147098,  0.90929743,  0.14112001, -0.7568025 , -0.95892427])"
            ]
          },
          "metadata": {
            "tags": []
          },
          "execution_count": 37
        }
      ]
    },
    {
      "cell_type": "code",
      "metadata": {
        "colab": {
          "base_uri": "https://localhost:8080/"
        },
        "id": "lmUjmIbOUbwB",
        "outputId": "10f420f1-69ca-4b7b-f021-e96d5d4bc153"
      },
      "source": [
        "np.sin(A*A)"
      ],
      "execution_count": 38,
      "outputs": [
        {
          "output_type": "execute_result",
          "data": {
            "text/plain": [
              "array([ 0.84147098, -0.7568025 ,  0.41211849, -0.28790332, -0.13235175])"
            ]
          },
          "metadata": {
            "tags": []
          },
          "execution_count": 38
        }
      ]
    },
    {
      "cell_type": "code",
      "metadata": {
        "colab": {
          "base_uri": "https://localhost:8080/"
        },
        "id": "zpO6ZdXKUg2J",
        "outputId": "19e293a5-a0ac-4353-ab81-226f4a359dce"
      },
      "source": [
        "A*A"
      ],
      "execution_count": 39,
      "outputs": [
        {
          "output_type": "execute_result",
          "data": {
            "text/plain": [
              "array([ 1,  4,  9, 16, 25])"
            ]
          },
          "metadata": {
            "tags": []
          },
          "execution_count": 39
        }
      ]
    },
    {
      "cell_type": "markdown",
      "metadata": {
        "id": "b1RKDBy3Usen"
      },
      "source": [
        "The Euler-Mascheroni constant is\n",
        "$$\\gamma = \\lim_{N \\rightarrow \\infty} \\left( \\sum_{n=1}^N \\frac{1}{n} - \\log(N) \\right).$$"
      ]
    },
    {
      "cell_type": "code",
      "metadata": {
        "id": "Ftm0OhKgUiRY"
      },
      "source": [
        "A = np.arange(1,1000000.0)"
      ],
      "execution_count": 42,
      "outputs": []
    },
    {
      "cell_type": "code",
      "metadata": {
        "colab": {
          "base_uri": "https://localhost:8080/"
        },
        "id": "yVpSMuUOVClr",
        "outputId": "cf30e1d1-c199-4b07-ec0a-e0c301a97796"
      },
      "source": [
        "A[:10]"
      ],
      "execution_count": 43,
      "outputs": [
        {
          "output_type": "execute_result",
          "data": {
            "text/plain": [
              "array([ 1.,  2.,  3.,  4.,  5.,  6.,  7.,  8.,  9., 10.])"
            ]
          },
          "metadata": {
            "tags": []
          },
          "execution_count": 43
        }
      ]
    },
    {
      "cell_type": "code",
      "metadata": {
        "colab": {
          "base_uri": "https://localhost:8080/"
        },
        "id": "LQeMLQnWVDU9",
        "outputId": "3ec02641-7fc9-4319-8d8e-35d40b4d8a39"
      },
      "source": [
        "reciprocals = 1/A\n",
        "print(reciprocals[:10])"
      ],
      "execution_count": 44,
      "outputs": [
        {
          "output_type": "stream",
          "text": [
            "[1.         0.5        0.33333333 0.25       0.2        0.16666667\n",
            " 0.14285714 0.125      0.11111111 0.1       ]\n"
          ],
          "name": "stdout"
        }
      ]
    },
    {
      "cell_type": "code",
      "metadata": {
        "colab": {
          "base_uri": "https://localhost:8080/"
        },
        "id": "s_sH6a7_VRWK",
        "outputId": "512b3e61-7cd1-4f1a-d8ae-ae014a0d18e3"
      },
      "source": [
        "logarithms = np.log(A)\n",
        "print(logarithms[:10])"
      ],
      "execution_count": 45,
      "outputs": [
        {
          "output_type": "stream",
          "text": [
            "[0.         0.69314718 1.09861229 1.38629436 1.60943791 1.79175947\n",
            " 1.94591015 2.07944154 2.19722458 2.30258509]\n"
          ],
          "name": "stdout"
        }
      ]
    },
    {
      "cell_type": "code",
      "metadata": {
        "id": "kbLkakEBVYmH"
      },
      "source": [
        "rec_sums = np.cumsum(reciprocals)"
      ],
      "execution_count": 46,
      "outputs": []
    },
    {
      "cell_type": "code",
      "metadata": {
        "colab": {
          "base_uri": "https://localhost:8080/"
        },
        "id": "5mbgXPrnVgcG",
        "outputId": "aa873ee0-2ba7-43cd-e922-a0e7d423923a"
      },
      "source": [
        "rec_sums[:10]"
      ],
      "execution_count": 47,
      "outputs": [
        {
          "output_type": "execute_result",
          "data": {
            "text/plain": [
              "array([1.        , 1.5       , 1.83333333, 2.08333333, 2.28333333,\n",
              "       2.45      , 2.59285714, 2.71785714, 2.82896825, 2.92896825])"
            ]
          },
          "metadata": {
            "tags": []
          },
          "execution_count": 47
        }
      ]
    },
    {
      "cell_type": "code",
      "metadata": {
        "colab": {
          "base_uri": "https://localhost:8080/"
        },
        "id": "bcuwDpf9VhYO",
        "outputId": "c14de3b0-231d-4881-8cab-1032819108c9"
      },
      "source": [
        "gamma_approx = rec_sums - logarithms\n",
        "print(gamma_approx[:10])"
      ],
      "execution_count": 48,
      "outputs": [
        {
          "output_type": "stream",
          "text": [
            "[1.         0.80685282 0.73472104 0.69703897 0.67389542 0.65824053\n",
            " 0.64694699 0.6384156  0.63174368 0.62638316]\n"
          ],
          "name": "stdout"
        }
      ]
    },
    {
      "cell_type": "code",
      "metadata": {
        "colab": {
          "base_uri": "https://localhost:8080/"
        },
        "id": "nNOgtvH2VwR0",
        "outputId": "a039a550-e434-4060-b957-45a9ce2a6007"
      },
      "source": [
        "gamma_approx[-1]"
      ],
      "execution_count": 49,
      "outputs": [
        {
          "output_type": "execute_result",
          "data": {
            "text/plain": [
              "0.5772161649012162"
            ]
          },
          "metadata": {
            "tags": []
          },
          "execution_count": 49
        }
      ]
    },
    {
      "cell_type": "code",
      "metadata": {
        "colab": {
          "base_uri": "https://localhost:8080/"
        },
        "id": "1MMW8ePpV0xc",
        "outputId": "414a3ba4-7de1-4bb8-dcba-5a9c588b048c"
      },
      "source": [
        "np.euler_gamma"
      ],
      "execution_count": 50,
      "outputs": [
        {
          "output_type": "execute_result",
          "data": {
            "text/plain": [
              "0.5772156649015329"
            ]
          },
          "metadata": {
            "tags": []
          },
          "execution_count": 50
        }
      ]
    },
    {
      "cell_type": "code",
      "metadata": {
        "id": "IwMYb_P1V4Qs"
      },
      "source": [
        ""
      ],
      "execution_count": null,
      "outputs": []
    }
  ]
}