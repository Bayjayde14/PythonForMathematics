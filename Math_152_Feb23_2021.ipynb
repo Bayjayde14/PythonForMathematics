{
  "nbformat": 4,
  "nbformat_minor": 0,
  "metadata": {
    "colab": {
      "name": "Math 152_Feb23_2021.ipynb",
      "provenance": [],
      "authorship_tag": "ABX9TyPCyr/+w1v1Jaw5Sm+4p9l1",
      "include_colab_link": true
    },
    "kernelspec": {
      "name": "python3",
      "display_name": "Python 3"
    }
  },
  "cells": [
    {
      "cell_type": "markdown",
      "metadata": {
        "id": "view-in-github",
        "colab_type": "text"
      },
      "source": [
        "<a href=\"https://colab.research.google.com/github/MartyWeissman/PythonForMathematics/blob/main/Math_152_Feb23_2021.ipynb\" target=\"_parent\"><img src=\"https://colab.research.google.com/assets/colab-badge.svg\" alt=\"Open In Colab\"/></a>"
      ]
    },
    {
      "cell_type": "markdown",
      "metadata": {
        "id": "PVWXIiPJ3cVt"
      },
      "source": [
        "# Math 152, Feb 23, 2021 Teaching Notebook\n",
        "\n",
        "Numpy and linear algebra"
      ]
    },
    {
      "cell_type": "code",
      "metadata": {
        "id": "tRY-PyCr3Zdm"
      },
      "source": [
        "import numpy as np # We're going to use numpy a lot!"
      ],
      "execution_count": null,
      "outputs": []
    },
    {
      "cell_type": "code",
      "metadata": {
        "id": "lvhzBH5T3iVn"
      },
      "source": [
        "M = np.array([[1,2,3],[4,5,6],[7,8,9]])\n",
        "I = np.eye(3)\n",
        "R = np.random.random((3,3))\n",
        "S = np.random.choice([0,1],(5,5))\n",
        "print('M is \\n', M)\n",
        "print('I is \\n', I)\n",
        "print('R is \\n', R)\n",
        "print('S is \\n', S)"
      ],
      "execution_count": null,
      "outputs": []
    },
    {
      "cell_type": "code",
      "metadata": {
        "id": "VgwnKGWD4hH8"
      },
      "source": [
        "M[1,:] # Row 1 of M"
      ],
      "execution_count": null,
      "outputs": []
    },
    {
      "cell_type": "code",
      "metadata": {
        "id": "2fTD3NyG4k-6"
      },
      "source": [
        "M[:,2] # Column 2 of M"
      ],
      "execution_count": null,
      "outputs": []
    },
    {
      "cell_type": "code",
      "metadata": {
        "id": "9v1BT_lQ5bom"
      },
      "source": [
        "M*M"
      ],
      "execution_count": null,
      "outputs": []
    },
    {
      "cell_type": "code",
      "metadata": {
        "id": "KAkm8NFv3qSB"
      },
      "source": [
        "M.dot(M)"
      ],
      "execution_count": null,
      "outputs": []
    },
    {
      "cell_type": "code",
      "metadata": {
        "id": "BfC_0-ih3smn"
      },
      "source": [
        "M.trace()"
      ],
      "execution_count": null,
      "outputs": []
    },
    {
      "cell_type": "code",
      "metadata": {
        "id": "3hoLH5Mh3vaf"
      },
      "source": [
        "M.diagonal()"
      ],
      "execution_count": null,
      "outputs": []
    },
    {
      "cell_type": "markdown",
      "metadata": {
        "id": "SmCnqUCE51SA"
      },
      "source": [
        "# Computing matrix multiplication\n",
        "\n",
        "If $A = (a_{ij})$ and $B = (b_{ij})$ are two matrices, then $A \\cdot B$ is the matrix $C = (c_{ij})$ with\n",
        "$$c_{ij} = \\sum_{k = 1}^m a_{ik} b_{kj}.$$\n",
        "\n",
        "For this to \"work\", the number of columns of $A$ must equal the number of rows of $B$ -- this is the number $m$ in the above formula."
      ]
    },
    {
      "cell_type": "code",
      "metadata": {
        "id": "dRJLYN_S6Pn6"
      },
      "source": [
        "A = np.random.random((3,4)) # 3 rows and 4 columns\n",
        "print(A)"
      ],
      "execution_count": null,
      "outputs": []
    },
    {
      "cell_type": "code",
      "metadata": {
        "id": "aU4Zvy-I6Wdf"
      },
      "source": [
        "def mat_mult(A,B):\n",
        "  '''\n",
        "  Compute the product of two matrices.\n",
        "  Check their shape first!\n",
        "  '''\n",
        "\n",
        "  return C"
      ],
      "execution_count": null,
      "outputs": []
    },
    {
      "cell_type": "markdown",
      "metadata": {
        "id": "kiksdT0c6XDo"
      },
      "source": [
        "# Computing the determinant by row operations\n",
        "\n",
        "The determinant is a function $det$ which takes as input a square matrix and outputs a single number.  It satisfies a bunch of cool properties, including:\n",
        "\n",
        "1.  If you switch two rows of the matrix, the determinant switches sign (i.e., gets multiplied by $-1$.\n",
        "\n",
        "2.  If you add a multiple of one row to another row, the determinant doesn't change.\n",
        "\n",
        "3.  If you scale a row by a number $\\lambda$, then the determinant gets multiplied by $\\lambda$.\n",
        "\n",
        "4.  The determinant of the identity matrix equals 1.\n",
        "\n",
        "In fact, $det$ is the only function which satisfies these properties!  A consequence of these properties is the following:\n",
        "\n",
        "*Fact:* If a square $n \\times n$ matrix $A$ has a single nonzero entry $a$ in the first column, and $a$ lies in the top row, then $det(A) = a \\cdot det(B)$, where $B$ is the $(n-1) \\times (n-1)$ matrix on the bottom-right.\n",
        "\n",
        "$$det \\left( \\begin{array}{c|c} a & 0 \\\\ \\hline 0 & B \\end{array} \\right) = a \\cdot det(B).$$\n",
        "\n",
        "We'll use this to create a pretty fast determinant-computer.  Not as fast as the built-in of course!\n"
      ]
    },
    {
      "cell_type": "code",
      "metadata": {
        "id": "Dw-D-WwN4Aas"
      },
      "source": [
        "np.linalg.det(np.random.random((100,100)))"
      ],
      "execution_count": null,
      "outputs": []
    },
    {
      "cell_type": "code",
      "metadata": {
        "id": "iQnKtd_78w6H"
      },
      "source": [
        "np.flatnonzero(np.array([0,1,3]))"
      ],
      "execution_count": null,
      "outputs": []
    },
    {
      "cell_type": "code",
      "metadata": {
        "id": "EQIEJtC84DN0"
      },
      "source": [
        "def find_nonzero(A):\n",
        "  '''\n",
        "  Takes a square (n x n) matrix A as input.\n",
        "  Looks for an entry in the first column which is nonzero.\n",
        "  Returns -1 if no such entry is found.\n",
        "  Otherwise, returns the index of this entry.\n",
        "  '''\n",
        "  first_column = A[:,0]\n",
        "  nz = np.flatnonzero(first_column)\n",
        "  if len(nz)>0:\n",
        "    return nz[0]\n",
        "  else:\n",
        "    return -1"
      ],
      "execution_count": null,
      "outputs": []
    },
    {
      "cell_type": "code",
      "metadata": {
        "id": "-ioYy3iV9lxZ"
      },
      "source": [
        "print(S)"
      ],
      "execution_count": null,
      "outputs": []
    },
    {
      "cell_type": "code",
      "metadata": {
        "id": "8opbt4wo9m6u"
      },
      "source": [
        "find_nonzero(S)"
      ],
      "execution_count": null,
      "outputs": []
    },
    {
      "cell_type": "code",
      "metadata": {
        "id": "V5Y4CBHx7533"
      },
      "source": [
        "def switch_rows(A,i,j):\n",
        "  '''\n",
        "  Switches rows i and j in a matrix A.\n",
        "  '''\n",
        "  return new_A"
      ],
      "execution_count": null,
      "outputs": []
    },
    {
      "cell_type": "code",
      "metadata": {
        "id": "pOrF8-qd7_zV"
      },
      "source": [
        "def add_rowmult(A,i,j,s):\n",
        "  '''\n",
        "  Adds s times the jth row to the ith row of A.\n",
        "  '''\n",
        "  return new_A"
      ],
      "execution_count": null,
      "outputs": []
    },
    {
      "cell_type": "code",
      "metadata": {
        "id": "zf3KiAJh8LZU"
      },
      "source": [
        "def scale_row(A,i,s):\n",
        "  '''\n",
        "  Scales row i of A by the scalar s.\n",
        "  '''\n",
        "  return new_A"
      ],
      "execution_count": null,
      "outputs": []
    },
    {
      "cell_type": "code",
      "metadata": {
        "id": "OPngxYiA9aZg"
      },
      "source": [
        "def det(A):\n",
        "  '''\n",
        "  Returns the determinant of A.\n",
        "  '''\n",
        "\n",
        "  # Step 1:  Look for a nonzero entry in the first column\n",
        "\n",
        "  # If every entry in the first column is zero, the determinant is zero.\n",
        "\n",
        "  # Step 2:  Switch rows so that there's a nonzero entry in the top-left corner.\n",
        "\n",
        "  # Step 3:  Scale first row so that top-left corner is 1.\n",
        "\n",
        "  # Step 4:  Add multiples of row 1 to all other rows, to make first column 1,0,0,...0.\n",
        "\n",
        "  # Step 5:  Compute determinant in terms of bottom-right matrix (recursive function call!)\n",
        "\n"
      ],
      "execution_count": null,
      "outputs": []
    }
  ]
}