{
  "nbformat": 4,
  "nbformat_minor": 0,
  "metadata": {
    "colab": {
      "name": "Math 152_Feb23_2021.ipynb",
      "provenance": [],
      "authorship_tag": "ABX9TyNba7nmH/efwm1LJvSYfpUd",
      "include_colab_link": true
    },
    "kernelspec": {
      "name": "python3",
      "display_name": "Python 3"
    }
  },
  "cells": [
    {
      "cell_type": "markdown",
      "metadata": {
        "id": "view-in-github",
        "colab_type": "text"
      },
      "source": [
        "<a href=\"https://colab.research.google.com/github/MartyWeissman/PythonForMathematics/blob/main/Math_152_Feb23_2021.ipynb\" target=\"_parent\"><img src=\"https://colab.research.google.com/assets/colab-badge.svg\" alt=\"Open In Colab\"/></a>"
      ]
    },
    {
      "cell_type": "markdown",
      "metadata": {
        "id": "PVWXIiPJ3cVt"
      },
      "source": [
        "# Math 152, Feb 23, 2021 Teaching Notebook\n",
        "\n",
        "Numpy and linear algebra"
      ]
    },
    {
      "cell_type": "code",
      "metadata": {
        "id": "tRY-PyCr3Zdm"
      },
      "source": [
        "import numpy as np # We're going to use numpy a lot!"
      ],
      "execution_count": 50,
      "outputs": []
    },
    {
      "cell_type": "code",
      "metadata": {
        "colab": {
          "base_uri": "https://localhost:8080/"
        },
        "id": "lvhzBH5T3iVn",
        "outputId": "7f26ecc7-9a90-4d9d-83c2-6312258649e7"
      },
      "source": [
        "M = np.array([[1,2,3],[4,5,6],[7,8,9]])\n",
        "I = np.eye(3,dtype=int)\n",
        "R = np.random.random((3,3))\n",
        "S = np.random.choice([0,1],(5,5))\n",
        "print('M is \\n', M)\n",
        "print('I is \\n', I)\n",
        "print('R is \\n', R)\n",
        "print('S is \\n', S)"
      ],
      "execution_count": 56,
      "outputs": [
        {
          "output_type": "stream",
          "text": [
            "M is \n",
            " [[1 2 3]\n",
            " [4 5 6]\n",
            " [7 8 9]]\n",
            "I is \n",
            " [[1 0 0]\n",
            " [0 1 0]\n",
            " [0 0 1]]\n",
            "R is \n",
            " [[0.46225686 0.82828675 0.2578901 ]\n",
            " [0.03089447 0.60190319 0.33670124]\n",
            " [0.13894141 0.93218132 0.4396778 ]]\n",
            "S is \n",
            " [[1 1 0 0 0]\n",
            " [0 1 1 0 0]\n",
            " [0 0 0 0 1]\n",
            " [0 0 1 1 0]\n",
            " [1 1 0 1 0]]\n"
          ],
          "name": "stdout"
        }
      ]
    },
    {
      "cell_type": "code",
      "metadata": {
        "colab": {
          "base_uri": "https://localhost:8080/"
        },
        "id": "VgwnKGWD4hH8",
        "outputId": "a1c2a2e1-9700-4443-ea54-e7d2cf89d976"
      },
      "source": [
        "M[2,:] # Row 1 of M"
      ],
      "execution_count": 60,
      "outputs": [
        {
          "output_type": "execute_result",
          "data": {
            "text/plain": [
              "array([7, 8, 9])"
            ]
          },
          "metadata": {
            "tags": []
          },
          "execution_count": 60
        }
      ]
    },
    {
      "cell_type": "code",
      "metadata": {
        "colab": {
          "base_uri": "https://localhost:8080/"
        },
        "id": "2fTD3NyG4k-6",
        "outputId": "a04d28b3-de7e-446d-9bec-0cac08799cc9"
      },
      "source": [
        "M[:,2] # Column 2 of M"
      ],
      "execution_count": 61,
      "outputs": [
        {
          "output_type": "execute_result",
          "data": {
            "text/plain": [
              "array([3, 6, 9])"
            ]
          },
          "metadata": {
            "tags": []
          },
          "execution_count": 61
        }
      ]
    },
    {
      "cell_type": "code",
      "metadata": {
        "colab": {
          "base_uri": "https://localhost:8080/"
        },
        "id": "9v1BT_lQ5bom",
        "outputId": "ceafd83c-4601-44e0-be41-822088e6bc98"
      },
      "source": [
        "M*M"
      ],
      "execution_count": 62,
      "outputs": [
        {
          "output_type": "execute_result",
          "data": {
            "text/plain": [
              "array([[ 1,  4,  9],\n",
              "       [16, 25, 36],\n",
              "       [49, 64, 81]])"
            ]
          },
          "metadata": {
            "tags": []
          },
          "execution_count": 62
        }
      ]
    },
    {
      "cell_type": "code",
      "metadata": {
        "colab": {
          "base_uri": "https://localhost:8080/"
        },
        "id": "KAkm8NFv3qSB",
        "outputId": "b7e8e155-d1f9-4ec2-d72d-b06d0305e41f"
      },
      "source": [
        "M.dot(M)"
      ],
      "execution_count": 63,
      "outputs": [
        {
          "output_type": "execute_result",
          "data": {
            "text/plain": [
              "array([[ 30,  36,  42],\n",
              "       [ 66,  81,  96],\n",
              "       [102, 126, 150]])"
            ]
          },
          "metadata": {
            "tags": []
          },
          "execution_count": 63
        }
      ]
    },
    {
      "cell_type": "code",
      "metadata": {
        "colab": {
          "base_uri": "https://localhost:8080/"
        },
        "id": "BfC_0-ih3smn",
        "outputId": "91f73e34-50e8-4eec-847b-c2f49b729bc8"
      },
      "source": [
        "M.trace()"
      ],
      "execution_count": 64,
      "outputs": [
        {
          "output_type": "execute_result",
          "data": {
            "text/plain": [
              "15"
            ]
          },
          "metadata": {
            "tags": []
          },
          "execution_count": 64
        }
      ]
    },
    {
      "cell_type": "code",
      "metadata": {
        "colab": {
          "base_uri": "https://localhost:8080/"
        },
        "id": "3hoLH5Mh3vaf",
        "outputId": "fd13ddb2-7400-4ece-89c5-c346cfbc2e94"
      },
      "source": [
        "M.diagonal()"
      ],
      "execution_count": 65,
      "outputs": [
        {
          "output_type": "execute_result",
          "data": {
            "text/plain": [
              "array([1, 5, 9])"
            ]
          },
          "metadata": {
            "tags": []
          },
          "execution_count": 65
        }
      ]
    },
    {
      "cell_type": "markdown",
      "metadata": {
        "id": "SmCnqUCE51SA"
      },
      "source": [
        "# Computing matrix multiplication\n",
        "\n",
        "If $A = (a_{ij})$ and $B = (b_{ij})$ are two matrices, then $A \\cdot B$ is the matrix $C = (c_{ij})$ with\n",
        "$$c_{ij} = \\sum_{k = 1}^m a_{ik} b_{kj}.$$\n",
        "\n",
        "For this to \"work\", the number of columns of $A$ must equal the number of rows of $B$ -- this is the number $m$ in the above formula."
      ]
    },
    {
      "cell_type": "code",
      "metadata": {
        "id": "dRJLYN_S6Pn6"
      },
      "source": [
        "A = np.random.random((3,4)) # 3 rows and 4 columns\n",
        "print(A)"
      ],
      "execution_count": null,
      "outputs": []
    },
    {
      "cell_type": "code",
      "metadata": {
        "id": "aU4Zvy-I6Wdf"
      },
      "source": [
        "def mat_mult(A,B):\n",
        "  '''\n",
        "  Compute the product of two matrices.\n",
        "  Check their shape first!\n",
        "  '''\n",
        "\n",
        "  return C"
      ],
      "execution_count": null,
      "outputs": []
    },
    {
      "cell_type": "markdown",
      "metadata": {
        "id": "kiksdT0c6XDo"
      },
      "source": [
        "# Computing the determinant by row operations\n",
        "\n",
        "The determinant is a function $det$ which takes as input a square matrix and outputs a single number.  It satisfies a bunch of cool properties, including:\n",
        "\n",
        "1.  If you switch two rows of the matrix, the determinant switches sign (i.e., gets multiplied by $-1$).\n",
        "\n",
        "2.  If you add a multiple of one row to another row, the determinant doesn't change.\n",
        "\n",
        "3.  If you scale a row by a number $\\lambda$, then the determinant gets multiplied by $\\lambda$.\n",
        "\n",
        "4.  The determinant of the identity matrix equals 1.\n",
        "\n",
        "In fact, $det$ is the only function which satisfies these properties!  A consequence of these properties is the following:\n",
        "\n",
        "*Fact:* If a square $n \\times n$ matrix $A$ has a single nonzero entry $a$ in the first column, and $a$ lies in the top row, then $det(A) = a \\cdot det(B)$, where $B$ is the $(n-1) \\times (n-1)$ matrix on the bottom-right.\n",
        "\n",
        "$$det \\left( \\begin{array}{c|c} a & U \\\\ \\hline 0 & B \\end{array} \\right) = a \\cdot det(B).$$\n",
        "\n",
        "We'll use this to create a pretty fast determinant-computer.  Not as fast as the built-in of course!\n"
      ]
    },
    {
      "cell_type": "code",
      "metadata": {
        "colab": {
          "base_uri": "https://localhost:8080/"
        },
        "id": "Dw-D-WwN4Aas",
        "outputId": "013b459d-8bff-47e0-8100-0ce1a2544ced"
      },
      "source": [
        "np.linalg.det(np.random.random((100,100)))"
      ],
      "execution_count": 66,
      "outputs": [
        {
          "output_type": "execute_result",
          "data": {
            "text/plain": [
              "1.4800002212370802e+26"
            ]
          },
          "metadata": {
            "tags": []
          },
          "execution_count": 66
        }
      ]
    },
    {
      "cell_type": "code",
      "metadata": {
        "colab": {
          "base_uri": "https://localhost:8080/"
        },
        "id": "-fqnuqwzEqPx",
        "outputId": "d35f58d1-e2c5-42f6-b5ef-58f4262f330c"
      },
      "source": [
        "%timeit np.linalg.det(np.random.random((1000,1000)))"
      ],
      "execution_count": 68,
      "outputs": [
        {
          "output_type": "stream",
          "text": [
            "/usr/local/lib/python3.6/dist-packages/numpy/linalg/linalg.py:2159: RuntimeWarning: overflow encountered in det\n",
            "  r = _umath_linalg.det(a, signature=signature)\n"
          ],
          "name": "stderr"
        },
        {
          "output_type": "stream",
          "text": [
            "10 loops, best of 3: 58.1 ms per loop\n"
          ],
          "name": "stdout"
        }
      ]
    },
    {
      "cell_type": "code",
      "metadata": {
        "colab": {
          "base_uri": "https://localhost:8080/"
        },
        "id": "iQnKtd_78w6H",
        "outputId": "6431f8bc-1cf0-4168-eb3e-88febf29af65"
      },
      "source": [
        "np.flatnonzero(np.array([0,1,0,0,2,3]))"
      ],
      "execution_count": 70,
      "outputs": [
        {
          "output_type": "execute_result",
          "data": {
            "text/plain": [
              "array([1, 4, 5])"
            ]
          },
          "metadata": {
            "tags": []
          },
          "execution_count": 70
        }
      ]
    },
    {
      "cell_type": "code",
      "metadata": {
        "id": "EQIEJtC84DN0"
      },
      "source": [
        "def find_nonzero(A):\n",
        "  '''\n",
        "  Takes a square (n x n) matrix A as input.\n",
        "  Looks for an entry in the first column which is nonzero.\n",
        "  Returns -1 if no such entry is found.\n",
        "  Otherwise, returns the index of this entry.\n",
        "  '''\n",
        "  first_column = A[:,0]\n",
        "  nz = np.flatnonzero(first_column)\n",
        "  if len(nz)>0:\n",
        "    return nz[0]\n",
        "  else:\n",
        "    return -1"
      ],
      "execution_count": 71,
      "outputs": []
    },
    {
      "cell_type": "code",
      "metadata": {
        "colab": {
          "base_uri": "https://localhost:8080/"
        },
        "id": "-ioYy3iV9lxZ",
        "outputId": "8840d674-387a-4f29-c515-4ba78b55b44d"
      },
      "source": [
        "S = np.random.choice([0,1],(5,7))\n",
        "print(S)"
      ],
      "execution_count": 76,
      "outputs": [
        {
          "output_type": "stream",
          "text": [
            "[[0 1 1 1 1 1 0]\n",
            " [1 1 0 0 0 1 0]\n",
            " [1 1 1 0 0 1 1]\n",
            " [1 1 0 0 1 0 0]\n",
            " [1 1 1 1 1 0 1]]\n"
          ],
          "name": "stdout"
        }
      ]
    },
    {
      "cell_type": "code",
      "metadata": {
        "colab": {
          "base_uri": "https://localhost:8080/"
        },
        "id": "pU3v51_7GtpE",
        "outputId": "4bc51eaa-11d2-473a-951b-6ab5ceed8416"
      },
      "source": [
        "S.shape[0]"
      ],
      "execution_count": 78,
      "outputs": [
        {
          "output_type": "execute_result",
          "data": {
            "text/plain": [
              "5"
            ]
          },
          "metadata": {
            "tags": []
          },
          "execution_count": 78
        }
      ]
    },
    {
      "cell_type": "code",
      "metadata": {
        "colab": {
          "base_uri": "https://localhost:8080/"
        },
        "id": "8opbt4wo9m6u",
        "outputId": "b82d1444-4913-4a50-ea49-3a0b24f7c3ed"
      },
      "source": [
        "find_nonzero(S)"
      ],
      "execution_count": 75,
      "outputs": [
        {
          "output_type": "execute_result",
          "data": {
            "text/plain": [
              "2"
            ]
          },
          "metadata": {
            "tags": []
          },
          "execution_count": 75
        }
      ]
    },
    {
      "cell_type": "code",
      "metadata": {
        "id": "V5Y4CBHx7533"
      },
      "source": [
        "def switch_rows(A,i,j):\n",
        "  '''\n",
        "  Switches rows i and j in a matrix A.\n",
        "  '''\n",
        "  return new_A"
      ],
      "execution_count": null,
      "outputs": []
    },
    {
      "cell_type": "code",
      "metadata": {
        "id": "pOrF8-qd7_zV"
      },
      "source": [
        "def add_rowmult(A,i,j,s):\n",
        "  '''\n",
        "  Adds s times the jth row to the ith row of A.\n",
        "  '''\n",
        "  return new_A"
      ],
      "execution_count": null,
      "outputs": []
    },
    {
      "cell_type": "code",
      "metadata": {
        "id": "zf3KiAJh8LZU"
      },
      "source": [
        "def scale_row(A,i,s):\n",
        "  '''\n",
        "  Scales row i of A by the scalar s.\n",
        "  '''\n",
        "  return new_A"
      ],
      "execution_count": null,
      "outputs": []
    },
    {
      "cell_type": "code",
      "metadata": {
        "id": "OPngxYiA9aZg"
      },
      "source": [
        "def det(A, verbose = True):\n",
        "  '''\n",
        "  Returns the determinant of A.\n",
        "  '''\n",
        "  if type(A) == np.ndarray:\n",
        "    if len(A.shape) != 2:\n",
        "      raise ValueError('Input must be a matrix or scalar')\n",
        "    if A.shape[0] != A.shape[1]:\n",
        "      raise ValueError('Matrix must be square!')\n",
        "    if A.shape[0] == 1:\n",
        "      return A[0,0]\n",
        "  else:\n",
        "    A = np.float(A) # try to convert to float.\n",
        "    return A\n",
        "\n",
        "  # Step 1:  Look for a nonzero entry in the first column\n",
        "  nz_index = find_nonzero(A)\n",
        "\n",
        "  # If every entry in the first column is zero, the determinant is zero.\n",
        "  if nz_index == -1:\n",
        "    if verbose:\n",
        "      print('No nonzero entry found in first column.  Det = 0')\n",
        "    return 0\n",
        "  if verbose:\n",
        "    print('Nonzero entry found in row {} of matrix.'.format(nz_index))\n",
        "    print(A)\n",
        "\n",
        "  # Step 2:  Switch rows so that there's a nonzero entry in the top-left corner.\n",
        "  A_new = A.copy()\n",
        "  if verbose: \n",
        "    print('\\n ---------------------- \\n')\n",
        "    print('Switching row 0 and row {}'.format(nz_index))\n",
        "  A_new[0,:] = A[nz_index,:]\n",
        "  A_new[nz_index,:] = A[0,:]\n",
        "  if nz_index == 0:\n",
        "    if verbose:\n",
        "      print('No row-switch needed.')\n",
        "    multiplier = 1\n",
        "  else:\n",
        "    if verbose:\n",
        "      print('Determinant will be multiplied by -1')\n",
        "    multiplier = -1\n",
        "\n",
        "\n",
        "  if verbose: \n",
        "    print('\\n ---------------------- \\n')\n",
        "    print('New matrix is...')\n",
        "    print(A_new)\n",
        "\n",
        "  # Now A_new is the same as A, but with nonzero entry in top-left.\n",
        "  # Step 3:  Scale first row so that top-left corner is 1.\n",
        "  scalar = A_new[0,0]\n",
        "  multiplier = multiplier * scalar\n",
        "  A_new[0,:] = (1/scalar) * A_new[0,:]\n",
        "  if verbose:\n",
        "    print('\\n ---------------------- \\n')\n",
        "    print('Scaling first row by {}.  New matrix is...'.format(scalar))\n",
        "    print(A_new)\n",
        "\n",
        "  # Step 4:  Add multiples of row 0 to all other rows, to make first column 1,0,0,...0.\n",
        "  num_rows = A_new.shape[0]\n",
        "  for row in range(1,num_rows):\n",
        "    A_new[row,:] = A_new[row,:] - A_new[row,0]*A_new[0,:] # Subtract off multiple of 0th row from given row.\n",
        "  # Result is matrix with first column 1,0,0,...,0.\n",
        "  if verbose:\n",
        "    print('\\n ---------------------- \\n')\n",
        "    print('Subtracting multiples of first row from others.  New matrix is...')\n",
        "    print(A_new)\n",
        "\n",
        "  # Step 5:  Compute determinant in terms of bottom-right matrix (recursive function call!)\n",
        "  B = A_new[1:, 1:]\n",
        "  if verbose:\n",
        "    print('\\n ---------------------- \\n')\n",
        "    print('Determinant is now computed as {} times the determinant of ...'.format(multiplier))\n",
        "    print(B)\n",
        "  return multiplier * det(B)\n"
      ],
      "execution_count": 116,
      "outputs": []
    },
    {
      "cell_type": "code",
      "metadata": {
        "colab": {
          "base_uri": "https://localhost:8080/"
        },
        "id": "yzk9qJV5HTg3",
        "outputId": "c417954f-df3d-440c-f1c1-b2aebc046aad"
      },
      "source": [
        "R = np.random.random((5,5)) * np.random.choice([0,1,1,1],(5,5))\n",
        "print(R)"
      ],
      "execution_count": 113,
      "outputs": [
        {
          "output_type": "stream",
          "text": [
            "[[0.         0.21232098 0.99063212 0.72625309 0.24269324]\n",
            " [0.         0.8138585  0.12940067 0.06594133 0.21433889]\n",
            " [0.39948746 0.66408334 0.67688451 0.63753753 0.48291629]\n",
            " [0.         0.67532037 0.46145187 0.         0.18344733]\n",
            " [0.98866517 0.78122639 0.         0.77854702 0.61089788]]\n"
          ],
          "name": "stdout"
        }
      ]
    },
    {
      "cell_type": "code",
      "metadata": {
        "colab": {
          "base_uri": "https://localhost:8080/"
        },
        "id": "Kfa4JnvjHVXp",
        "outputId": "eb63ec16-1a13-4f27-c6e3-578cc4ac2163"
      },
      "source": [
        "np.linalg.det(R)"
      ],
      "execution_count": 117,
      "outputs": [
        {
          "output_type": "execute_result",
          "data": {
            "text/plain": [
              "-0.013724649705939344"
            ]
          },
          "metadata": {
            "tags": []
          },
          "execution_count": 117
        }
      ]
    },
    {
      "cell_type": "code",
      "metadata": {
        "colab": {
          "base_uri": "https://localhost:8080/"
        },
        "id": "w6Hfw6lOHbl4",
        "outputId": "0fb5ed91-535b-4f10-f3e9-0dd5565f334a"
      },
      "source": [
        "det(R)"
      ],
      "execution_count": 118,
      "outputs": [
        {
          "output_type": "stream",
          "text": [
            "Nonzero entry found in row 2 of matrix.\n",
            "[[0.         0.21232098 0.99063212 0.72625309 0.24269324]\n",
            " [0.         0.8138585  0.12940067 0.06594133 0.21433889]\n",
            " [0.39948746 0.66408334 0.67688451 0.63753753 0.48291629]\n",
            " [0.         0.67532037 0.46145187 0.         0.18344733]\n",
            " [0.98866517 0.78122639 0.         0.77854702 0.61089788]]\n",
            "\n",
            " ---------------------- \n",
            "\n",
            "Switching row 0 and row 2\n",
            "Determinant will be multiplied by -1\n",
            "\n",
            " ---------------------- \n",
            "\n",
            "New matrix is...\n",
            "[[0.39948746 0.66408334 0.67688451 0.63753753 0.48291629]\n",
            " [0.         0.8138585  0.12940067 0.06594133 0.21433889]\n",
            " [0.         0.21232098 0.99063212 0.72625309 0.24269324]\n",
            " [0.         0.67532037 0.46145187 0.         0.18344733]\n",
            " [0.98866517 0.78122639 0.         0.77854702 0.61089788]]\n",
            "\n",
            " ---------------------- \n",
            "\n",
            "Scaling first row by 0.399487459459653.  New matrix is...\n",
            "[[1.         1.66233838 1.69438238 1.59588873 1.20883968]\n",
            " [0.         0.8138585  0.12940067 0.06594133 0.21433889]\n",
            " [0.         0.21232098 0.99063212 0.72625309 0.24269324]\n",
            " [0.         0.67532037 0.46145187 0.         0.18344733]\n",
            " [0.98866517 0.78122639 0.         0.77854702 0.61089788]]\n",
            "\n",
            " ---------------------- \n",
            "\n",
            "Subtracting multiples of first row from others.  New matrix is...\n",
            "[[ 1.          1.66233838  1.69438238  1.59588873  1.20883968]\n",
            " [ 0.          0.8138585   0.12940067  0.06594133  0.21433889]\n",
            " [ 0.          0.21232098  0.99063212  0.72625309  0.24269324]\n",
            " [ 0.          0.67532037  0.46145187  0.          0.18344733]\n",
            " [ 0.         -0.86226966 -1.67517683 -0.79925258 -0.5842398 ]]\n",
            "\n",
            " ---------------------- \n",
            "\n",
            "Determinant is now computed as -0.399487459459653 times the determinant of ...\n",
            "[[ 0.8138585   0.12940067  0.06594133  0.21433889]\n",
            " [ 0.21232098  0.99063212  0.72625309  0.24269324]\n",
            " [ 0.67532037  0.46145187  0.          0.18344733]\n",
            " [-0.86226966 -1.67517683 -0.79925258 -0.5842398 ]]\n",
            "Nonzero entry found in row 0 of matrix.\n",
            "[[ 0.8138585   0.12940067  0.06594133  0.21433889]\n",
            " [ 0.21232098  0.99063212  0.72625309  0.24269324]\n",
            " [ 0.67532037  0.46145187  0.          0.18344733]\n",
            " [-0.86226966 -1.67517683 -0.79925258 -0.5842398 ]]\n",
            "\n",
            " ---------------------- \n",
            "\n",
            "Switching row 0 and row 0\n",
            "No row-switch needed.\n",
            "\n",
            " ---------------------- \n",
            "\n",
            "New matrix is...\n",
            "[[ 0.8138585   0.12940067  0.06594133  0.21433889]\n",
            " [ 0.21232098  0.99063212  0.72625309  0.24269324]\n",
            " [ 0.67532037  0.46145187  0.          0.18344733]\n",
            " [-0.86226966 -1.67517683 -0.79925258 -0.5842398 ]]\n",
            "\n",
            " ---------------------- \n",
            "\n",
            "Scaling first row by 0.8138585014709729.  New matrix is...\n",
            "[[ 1.          0.15899652  0.08102309  0.26336137]\n",
            " [ 0.21232098  0.99063212  0.72625309  0.24269324]\n",
            " [ 0.67532037  0.46145187  0.          0.18344733]\n",
            " [-0.86226966 -1.67517683 -0.79925258 -0.5842398 ]]\n",
            "\n",
            " ---------------------- \n",
            "\n",
            "Subtracting multiples of first row from others.  New matrix is...\n",
            "[[ 1.          0.15899652  0.08102309  0.26336137]\n",
            " [ 0.          0.95687382  0.70905018  0.1867761 ]\n",
            " [ 0.          0.35407828 -0.05471655  0.00559403]\n",
            " [ 0.         -1.53807895 -0.72938882 -0.35715128]]\n",
            "\n",
            " ---------------------- \n",
            "\n",
            "Determinant is now computed as 0.8138585014709729 times the determinant of ...\n",
            "[[ 0.95687382  0.70905018  0.1867761 ]\n",
            " [ 0.35407828 -0.05471655  0.00559403]\n",
            " [-1.53807895 -0.72938882 -0.35715128]]\n",
            "Nonzero entry found in row 0 of matrix.\n",
            "[[ 0.95687382  0.70905018  0.1867761 ]\n",
            " [ 0.35407828 -0.05471655  0.00559403]\n",
            " [-1.53807895 -0.72938882 -0.35715128]]\n",
            "\n",
            " ---------------------- \n",
            "\n",
            "Switching row 0 and row 0\n",
            "No row-switch needed.\n",
            "\n",
            " ---------------------- \n",
            "\n",
            "New matrix is...\n",
            "[[ 0.95687382  0.70905018  0.1867761 ]\n",
            " [ 0.35407828 -0.05471655  0.00559403]\n",
            " [-1.53807895 -0.72938882 -0.35715128]]\n",
            "\n",
            " ---------------------- \n",
            "\n",
            "Scaling first row by 0.9568738194088381.  New matrix is...\n",
            "[[ 1.          0.74100699  0.19519408]\n",
            " [ 0.35407828 -0.05471655  0.00559403]\n",
            " [-1.53807895 -0.72938882 -0.35715128]]\n",
            "\n",
            " ---------------------- \n",
            "\n",
            "Subtracting multiples of first row from others.  New matrix is...\n",
            "[[ 1.          0.74100699  0.19519408]\n",
            " [ 0.         -0.31709102 -0.06351995]\n",
            " [ 0.          0.41033843 -0.05692738]]\n",
            "\n",
            " ---------------------- \n",
            "\n",
            "Determinant is now computed as 0.9568738194088381 times the determinant of ...\n",
            "[[-0.31709102 -0.06351995]\n",
            " [ 0.41033843 -0.05692738]]\n",
            "Nonzero entry found in row 0 of matrix.\n",
            "[[-0.31709102 -0.06351995]\n",
            " [ 0.41033843 -0.05692738]]\n",
            "\n",
            " ---------------------- \n",
            "\n",
            "Switching row 0 and row 0\n",
            "No row-switch needed.\n",
            "\n",
            " ---------------------- \n",
            "\n",
            "New matrix is...\n",
            "[[-0.31709102 -0.06351995]\n",
            " [ 0.41033843 -0.05692738]]\n",
            "\n",
            " ---------------------- \n",
            "\n",
            "Scaling first row by -0.31709102428031327.  New matrix is...\n",
            "[[ 1.          0.20032088]\n",
            " [ 0.41033843 -0.05692738]]\n",
            "\n",
            " ---------------------- \n",
            "\n",
            "Subtracting multiples of first row from others.  New matrix is...\n",
            "[[ 1.          0.20032088]\n",
            " [ 0.         -0.13912673]]\n",
            "\n",
            " ---------------------- \n",
            "\n",
            "Determinant is now computed as -0.31709102428031327 times the determinant of ...\n",
            "[[-0.13912673]]\n"
          ],
          "name": "stdout"
        },
        {
          "output_type": "execute_result",
          "data": {
            "text/plain": [
              "-0.013724649705939345"
            ]
          },
          "metadata": {
            "tags": []
          },
          "execution_count": 118
        }
      ]
    },
    {
      "cell_type": "code",
      "metadata": {
        "id": "JYK7UtEDHdow"
      },
      "source": [
        ""
      ],
      "execution_count": null,
      "outputs": []
    }
  ]
}