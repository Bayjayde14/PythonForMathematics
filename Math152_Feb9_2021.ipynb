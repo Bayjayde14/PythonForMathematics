{
  "nbformat": 4,
  "nbformat_minor": 0,
  "metadata": {
    "colab": {
      "name": "Math152_Feb9_2021.ipynb",
      "provenance": [],
      "authorship_tag": "ABX9TyOP+yl/YvjRVIFV8b5Zg/Gl",
      "include_colab_link": true
    },
    "kernelspec": {
      "name": "python3",
      "display_name": "Python 3"
    }
  },
  "cells": [
    {
      "cell_type": "markdown",
      "metadata": {
        "id": "view-in-github",
        "colab_type": "text"
      },
      "source": [
        "<a href=\"https://colab.research.google.com/github/MartyWeissman/PythonForMathematics/blob/main/Math152_Feb9_2021.ipynb\" target=\"_parent\"><img src=\"https://colab.research.google.com/assets/colab-badge.svg\" alt=\"Open In Colab\"/></a>"
      ]
    },
    {
      "cell_type": "markdown",
      "metadata": {
        "id": "JVGPZdDGwqV3"
      },
      "source": [
        "# Math 152, Teaching notebook, Feb 9, 2021"
      ]
    },
    {
      "cell_type": "markdown",
      "metadata": {
        "id": "YSaO5PVpxfag"
      },
      "source": [
        "Lists, tuples, and numpy arrays."
      ]
    },
    {
      "cell_type": "code",
      "metadata": {
        "id": "awED0_ofxqN9"
      },
      "source": [
        "import numpy as np"
      ],
      "execution_count": 90,
      "outputs": []
    },
    {
      "cell_type": "code",
      "metadata": {
        "id": "7ruMBHrlwnJ9"
      },
      "source": [
        "L = [1,2,3,4] # A plain Python list.\n",
        "T = (1,2,3,4) # A Python tuple\n",
        "A = np.array([1,2,3,4]) # A numpy array."
      ],
      "execution_count": 91,
      "outputs": []
    },
    {
      "cell_type": "code",
      "metadata": {
        "colab": {
          "base_uri": "https://localhost:8080/"
        },
        "id": "XYn7WK6KxNcR",
        "outputId": "b09f7be3-931d-4c41-efcd-973793bfe620"
      },
      "source": [
        "L[2]"
      ],
      "execution_count": 92,
      "outputs": [
        {
          "output_type": "execute_result",
          "data": {
            "text/plain": [
              "3"
            ]
          },
          "metadata": {
            "tags": []
          },
          "execution_count": 92
        }
      ]
    },
    {
      "cell_type": "code",
      "metadata": {
        "colab": {
          "base_uri": "https://localhost:8080/"
        },
        "id": "FecfDQB2xQNy",
        "outputId": "00403172-a43e-4bc5-bbda-61c2cbf65840"
      },
      "source": [
        "T[2]"
      ],
      "execution_count": 93,
      "outputs": [
        {
          "output_type": "execute_result",
          "data": {
            "text/plain": [
              "3"
            ]
          },
          "metadata": {
            "tags": []
          },
          "execution_count": 93
        }
      ]
    },
    {
      "cell_type": "code",
      "metadata": {
        "colab": {
          "base_uri": "https://localhost:8080/"
        },
        "id": "330zZ2Ucxs2u",
        "outputId": "5991a63d-7038-4864-f15a-fcaa92d3342b"
      },
      "source": [
        "A[2]"
      ],
      "execution_count": 94,
      "outputs": [
        {
          "output_type": "execute_result",
          "data": {
            "text/plain": [
              "3"
            ]
          },
          "metadata": {
            "tags": []
          },
          "execution_count": 94
        }
      ]
    },
    {
      "cell_type": "code",
      "metadata": {
        "id": "LYy-eMNExQsi"
      },
      "source": [
        "L[2] = -3"
      ],
      "execution_count": 95,
      "outputs": []
    },
    {
      "cell_type": "code",
      "metadata": {
        "colab": {
          "base_uri": "https://localhost:8080/"
        },
        "id": "-L04kmelxU7k",
        "outputId": "ee168f6e-b2ea-417a-d9f1-871cbbee68e6"
      },
      "source": [
        "print(L)"
      ],
      "execution_count": 96,
      "outputs": [
        {
          "output_type": "stream",
          "text": [
            "[1, 2, -3, 4]\n"
          ],
          "name": "stdout"
        }
      ]
    },
    {
      "cell_type": "code",
      "metadata": {
        "colab": {
          "base_uri": "https://localhost:8080/",
          "height": 162
        },
        "id": "1hNgFhxExSSC",
        "outputId": "8288fc4d-9169-4c50-d916-d0a10502bb19"
      },
      "source": [
        "T[2] = -3"
      ],
      "execution_count": 97,
      "outputs": [
        {
          "output_type": "error",
          "ename": "TypeError",
          "evalue": "ignored",
          "traceback": [
            "\u001b[0;31m---------------------------------------------------------------------------\u001b[0m",
            "\u001b[0;31mTypeError\u001b[0m                                 Traceback (most recent call last)",
            "\u001b[0;32m<ipython-input-97-414250d9b8b2>\u001b[0m in \u001b[0;36m<module>\u001b[0;34m()\u001b[0m\n\u001b[0;32m----> 1\u001b[0;31m \u001b[0mT\u001b[0m\u001b[0;34m[\u001b[0m\u001b[0;36m2\u001b[0m\u001b[0;34m]\u001b[0m \u001b[0;34m=\u001b[0m \u001b[0;34m-\u001b[0m\u001b[0;36m3\u001b[0m\u001b[0;34m\u001b[0m\u001b[0;34m\u001b[0m\u001b[0m\n\u001b[0m",
            "\u001b[0;31mTypeError\u001b[0m: 'tuple' object does not support item assignment"
          ]
        }
      ]
    },
    {
      "cell_type": "code",
      "metadata": {
        "id": "SaldDpxo8U14"
      },
      "source": [
        "L = [1,2,-3,4]\n",
        "M = L\n",
        "L = [2,4,6]"
      ],
      "execution_count": 112,
      "outputs": []
    },
    {
      "cell_type": "code",
      "metadata": {
        "colab": {
          "base_uri": "https://localhost:8080/"
        },
        "id": "sY_ST9J_xTAK",
        "outputId": "117e72ae-4599-4452-c2df-0c97ec16dd7f"
      },
      "source": [
        "print(L)"
      ],
      "execution_count": 113,
      "outputs": [
        {
          "output_type": "stream",
          "text": [
            "[2, 4, 6]\n"
          ],
          "name": "stdout"
        }
      ]
    },
    {
      "cell_type": "code",
      "metadata": {
        "colab": {
          "base_uri": "https://localhost:8080/"
        },
        "id": "1USoMIlrxUOJ",
        "outputId": "f22fd352-7077-47ac-a297-882e0e43b110"
      },
      "source": [
        "print(M)"
      ],
      "execution_count": 114,
      "outputs": [
        {
          "output_type": "stream",
          "text": [
            "[1, 2, -3, 4]\n"
          ],
          "name": "stdout"
        }
      ]
    },
    {
      "cell_type": "code",
      "metadata": {
        "id": "Y67hYCbBxZ8Y"
      },
      "source": [
        ""
      ],
      "execution_count": 101,
      "outputs": []
    },
    {
      "cell_type": "code",
      "metadata": {
        "colab": {
          "base_uri": "https://localhost:8080/"
        },
        "id": "xZ8PE5qfxcvY",
        "outputId": "26b97e61-f6a1-4386-c1f9-0b79e026f058"
      },
      "source": [
        "print(L)"
      ],
      "execution_count": 102,
      "outputs": [
        {
          "output_type": "stream",
          "text": [
            "[1, 2.5, -3, 4]\n"
          ],
          "name": "stdout"
        }
      ]
    },
    {
      "cell_type": "code",
      "metadata": {
        "colab": {
          "base_uri": "https://localhost:8080/"
        },
        "id": "VNnXVdwIxdNQ",
        "outputId": "aaaf297b-683d-4eac-d0b5-cc95f8418416"
      },
      "source": [
        "print(M)"
      ],
      "execution_count": 103,
      "outputs": [
        {
          "output_type": "stream",
          "text": [
            "[1, 2.5, -3, 4]\n"
          ],
          "name": "stdout"
        }
      ]
    },
    {
      "cell_type": "code",
      "metadata": {
        "id": "oqEvFafw8x7I"
      },
      "source": [
        "a = 3\n",
        "b = a\n",
        "a = 2"
      ],
      "execution_count": 104,
      "outputs": []
    },
    {
      "cell_type": "code",
      "metadata": {
        "colab": {
          "base_uri": "https://localhost:8080/"
        },
        "id": "qanKOjHl8xt7",
        "outputId": "0fa098a2-61c3-46ad-c5bc-2457d6fe0f1f"
      },
      "source": [
        "print(a)"
      ],
      "execution_count": 105,
      "outputs": [
        {
          "output_type": "stream",
          "text": [
            "2\n"
          ],
          "name": "stdout"
        }
      ]
    },
    {
      "cell_type": "code",
      "metadata": {
        "colab": {
          "base_uri": "https://localhost:8080/"
        },
        "id": "_pZclKZW8xlI",
        "outputId": "3e30eb45-0aaa-4e9e-c8be-54c5ac28d19d"
      },
      "source": [
        "print(b)"
      ],
      "execution_count": 106,
      "outputs": [
        {
          "output_type": "stream",
          "text": [
            "3\n"
          ],
          "name": "stdout"
        }
      ]
    },
    {
      "cell_type": "markdown",
      "metadata": {
        "id": "Ncghg8SE_AGL"
      },
      "source": [
        "## Start here now!"
      ]
    },
    {
      "cell_type": "code",
      "metadata": {
        "colab": {
          "base_uri": "https://localhost:8080/"
        },
        "id": "JzADjbLW_Bz3",
        "outputId": "cd70a4e0-3ce9-41dc-c431-2af9186b0b4a"
      },
      "source": [
        "A"
      ],
      "execution_count": 115,
      "outputs": [
        {
          "output_type": "execute_result",
          "data": {
            "text/plain": [
              "array([1, 2, 3, 4])"
            ]
          },
          "metadata": {
            "tags": []
          },
          "execution_count": 115
        }
      ]
    },
    {
      "cell_type": "code",
      "metadata": {
        "colab": {
          "base_uri": "https://localhost:8080/"
        },
        "id": "v8IKrCQb_D0h",
        "outputId": "5214cdca-fdd8-4dc2-cbc4-a23962dbe054"
      },
      "source": [
        "type(A)"
      ],
      "execution_count": 116,
      "outputs": [
        {
          "output_type": "execute_result",
          "data": {
            "text/plain": [
              "numpy.ndarray"
            ]
          },
          "metadata": {
            "tags": []
          },
          "execution_count": 116
        }
      ]
    },
    {
      "cell_type": "code",
      "metadata": {
        "colab": {
          "base_uri": "https://localhost:8080/"
        },
        "id": "ha_VGhxZ_FTQ",
        "outputId": "cbfe8d6c-d119-4da4-93ee-eceece013ee9"
      },
      "source": [
        "type(A[0])"
      ],
      "execution_count": 117,
      "outputs": [
        {
          "output_type": "execute_result",
          "data": {
            "text/plain": [
              "numpy.int64"
            ]
          },
          "metadata": {
            "tags": []
          },
          "execution_count": 117
        }
      ]
    },
    {
      "cell_type": "code",
      "metadata": {
        "colab": {
          "base_uri": "https://localhost:8080/"
        },
        "id": "c7tyRKujxd2o",
        "outputId": "502a39dd-e8b3-4bc3-bd40-21a1d5a38696"
      },
      "source": [
        "B = A\n",
        "A[1] = 7\n",
        "print(A)\n",
        "print(B)"
      ],
      "execution_count": 118,
      "outputs": [
        {
          "output_type": "stream",
          "text": [
            "[1 7 3 4]\n",
            "[1 7 3 4]\n"
          ],
          "name": "stdout"
        }
      ]
    },
    {
      "cell_type": "code",
      "metadata": {
        "id": "buNYkSSwxyzc"
      },
      "source": [
        "A[1] = 5.7"
      ],
      "execution_count": 123,
      "outputs": []
    },
    {
      "cell_type": "code",
      "metadata": {
        "colab": {
          "base_uri": "https://localhost:8080/"
        },
        "id": "jvrM18icx09k",
        "outputId": "8a9af0b3-84f8-4025-a53c-f87232cede13"
      },
      "source": [
        "print(A)"
      ],
      "execution_count": 124,
      "outputs": [
        {
          "output_type": "stream",
          "text": [
            "[1 5 3 4]\n"
          ],
          "name": "stdout"
        }
      ]
    },
    {
      "cell_type": "code",
      "metadata": {
        "colab": {
          "base_uri": "https://localhost:8080/"
        },
        "id": "T9F7LNUdyxuj",
        "outputId": "fbf9b120-33fe-4fdf-b7d2-d3cbba3f4356"
      },
      "source": [
        "A.sum() # Sum \"method\""
      ],
      "execution_count": 127,
      "outputs": [
        {
          "output_type": "execute_result",
          "data": {
            "text/plain": [
              "13"
            ]
          },
          "metadata": {
            "tags": []
          },
          "execution_count": 127
        }
      ]
    },
    {
      "cell_type": "code",
      "metadata": {
        "colab": {
          "base_uri": "https://localhost:8080/"
        },
        "id": "QraPQaY7yzKc",
        "outputId": "1b076491-3360-44f6-98b2-6c66847f2479"
      },
      "source": [
        "print(L)"
      ],
      "execution_count": 128,
      "outputs": [
        {
          "output_type": "stream",
          "text": [
            "[2, 4, 6]\n"
          ],
          "name": "stdout"
        }
      ]
    },
    {
      "cell_type": "code",
      "metadata": {
        "colab": {
          "base_uri": "https://localhost:8080/",
          "height": 162
        },
        "id": "PZlpf-A__0Et",
        "outputId": "273aa94c-397f-48e2-86d5-32cc11852b7c"
      },
      "source": [
        "L.sum()"
      ],
      "execution_count": 129,
      "outputs": [
        {
          "output_type": "error",
          "ename": "AttributeError",
          "evalue": "ignored",
          "traceback": [
            "\u001b[0;31m---------------------------------------------------------------------------\u001b[0m",
            "\u001b[0;31mAttributeError\u001b[0m                            Traceback (most recent call last)",
            "\u001b[0;32m<ipython-input-129-99d8666d6ce2>\u001b[0m in \u001b[0;36m<module>\u001b[0;34m()\u001b[0m\n\u001b[0;32m----> 1\u001b[0;31m \u001b[0mL\u001b[0m\u001b[0;34m.\u001b[0m\u001b[0msum\u001b[0m\u001b[0;34m(\u001b[0m\u001b[0;34m)\u001b[0m\u001b[0;34m\u001b[0m\u001b[0;34m\u001b[0m\u001b[0m\n\u001b[0m",
            "\u001b[0;31mAttributeError\u001b[0m: 'list' object has no attribute 'sum'"
          ]
        }
      ]
    },
    {
      "cell_type": "code",
      "metadata": {
        "colab": {
          "base_uri": "https://localhost:8080/"
        },
        "id": "Ps04Pl__y2_g",
        "outputId": "3b7e3c0b-141c-4275-edcc-fd5e172a7671"
      },
      "source": [
        "sum(L)"
      ],
      "execution_count": 130,
      "outputs": [
        {
          "output_type": "execute_result",
          "data": {
            "text/plain": [
              "12"
            ]
          },
          "metadata": {
            "tags": []
          },
          "execution_count": 130
        }
      ]
    },
    {
      "cell_type": "code",
      "metadata": {
        "id": "uPee1Ika_6ip"
      },
      "source": [
        "L = [6,2,3,5,13]"
      ],
      "execution_count": 132,
      "outputs": []
    },
    {
      "cell_type": "code",
      "metadata": {
        "id": "VwM6XZcoy8TQ"
      },
      "source": [
        "L.sort() # sort method.  Changes the list!"
      ],
      "execution_count": 133,
      "outputs": []
    },
    {
      "cell_type": "code",
      "metadata": {
        "colab": {
          "base_uri": "https://localhost:8080/"
        },
        "id": "xL0hpy3uy92k",
        "outputId": "375822f7-6e98-4af2-8642-560c21d897d4"
      },
      "source": [
        "print(L)"
      ],
      "execution_count": 134,
      "outputs": [
        {
          "output_type": "stream",
          "text": [
            "[2, 3, 5, 6, 13]\n"
          ],
          "name": "stdout"
        }
      ]
    },
    {
      "cell_type": "code",
      "metadata": {
        "colab": {
          "base_uri": "https://localhost:8080/"
        },
        "id": "Dfk9BCpwAqHF",
        "outputId": "be729aa4-4ee6-4c9e-c1e5-55ca1c1dd57c"
      },
      "source": [
        "np.random.choice(['A','B'],10)"
      ],
      "execution_count": 140,
      "outputs": [
        {
          "output_type": "execute_result",
          "data": {
            "text/plain": [
              "array(['A', 'B', 'B', 'B', 'A', 'B', 'B', 'B', 'B', 'A'], dtype='<U1')"
            ]
          },
          "metadata": {
            "tags": []
          },
          "execution_count": 140
        }
      ]
    },
    {
      "cell_type": "code",
      "metadata": {
        "colab": {
          "base_uri": "https://localhost:8080/"
        },
        "id": "aTetWqMTz4kM",
        "outputId": "8a959cf7-1f57-4d15-c898-76623797e0b9"
      },
      "source": [
        "np.random.random(10)"
      ],
      "execution_count": 135,
      "outputs": [
        {
          "output_type": "execute_result",
          "data": {
            "text/plain": [
              "array([0.47717033, 0.47390068, 0.85238594, 0.08980733, 0.54787138,\n",
              "       0.58122397, 0.57640498, 0.3560591 , 0.13502786, 0.65642672])"
            ]
          },
          "metadata": {
            "tags": []
          },
          "execution_count": 135
        }
      ]
    },
    {
      "cell_type": "code",
      "metadata": {
        "id": "UumM0KK_z85A"
      },
      "source": [
        "R = np.random.random(1000000)"
      ],
      "execution_count": 136,
      "outputs": []
    },
    {
      "cell_type": "code",
      "metadata": {
        "colab": {
          "base_uri": "https://localhost:8080/"
        },
        "id": "Qye6U41U0Bw0",
        "outputId": "0cd988f5-9da2-4a66-cb07-524360c818b5"
      },
      "source": [
        "R.sum()"
      ],
      "execution_count": 137,
      "outputs": [
        {
          "output_type": "execute_result",
          "data": {
            "text/plain": [
              "500559.64935464074"
            ]
          },
          "metadata": {
            "tags": []
          },
          "execution_count": 137
        }
      ]
    },
    {
      "cell_type": "code",
      "metadata": {
        "colab": {
          "base_uri": "https://localhost:8080/"
        },
        "id": "PImwh6ptAfD7",
        "outputId": "00a25947-9f18-4875-f55f-fa5c7ad430b7"
      },
      "source": [
        "%timeit R.sum()"
      ],
      "execution_count": 138,
      "outputs": [
        {
          "output_type": "stream",
          "text": [
            "The slowest run took 4.27 times longer than the fastest. This could mean that an intermediate result is being cached.\n",
            "1000 loops, best of 3: 355 µs per loop\n"
          ],
          "name": "stdout"
        }
      ]
    },
    {
      "cell_type": "code",
      "metadata": {
        "colab": {
          "base_uri": "https://localhost:8080/"
        },
        "id": "JGxIDdNQBDgm",
        "outputId": "e474f236-1939-4d2f-d860-42b982e2930e"
      },
      "source": [
        "[1,2,3] + [3,4,5]"
      ],
      "execution_count": 143,
      "outputs": [
        {
          "output_type": "execute_result",
          "data": {
            "text/plain": [
              "[1, 2, 3, 3, 4, 5]"
            ]
          },
          "metadata": {
            "tags": []
          },
          "execution_count": 143
        }
      ]
    },
    {
      "cell_type": "code",
      "metadata": {
        "colab": {
          "base_uri": "https://localhost:8080/"
        },
        "id": "34qVSfF50HZZ",
        "outputId": "53ac066d-6162-4f07-f4ac-d4adce3c4f5b"
      },
      "source": [
        "25*np.array([3,4,5])"
      ],
      "execution_count": 145,
      "outputs": [
        {
          "output_type": "execute_result",
          "data": {
            "text/plain": [
              "array([ 75, 100, 125])"
            ]
          },
          "metadata": {
            "tags": []
          },
          "execution_count": 145
        }
      ]
    },
    {
      "cell_type": "markdown",
      "metadata": {
        "id": "NRYXLgfMyFZQ"
      },
      "source": [
        "## Numerical integration.\n",
        "\n",
        "Let $f$ be a nice real-valued function whose domain contains the interval $[a,b]$.  Let $N$ be a large integer, and let $w = (b-a) / N$, the \"width\" in what follows.  We can approximate $\\int_a^b f(x) dx$ by the (left) Riemann sum:\n",
        "$$S = \\sum_{n=0}^{N-1} (w \\cdot f(a + wn)).$$\n",
        "Let's implement this as a function `Riemann_sum`"
      ]
    },
    {
      "cell_type": "code",
      "metadata": {
        "id": "ktNk3fPWyCxq"
      },
      "source": [
        "def Riemann_sum(f,a,b,N):\n",
        "  width = (b-a) / N\n",
        "  x_array = np.arange(a,b,width)[:-1]\n",
        "  height_array = f(x_array)\n",
        "  area_array = width * height_array\n",
        "  return area_array.sum()"
      ],
      "execution_count": 146,
      "outputs": []
    },
    {
      "cell_type": "code",
      "metadata": {
        "id": "EeykeY7DCRdZ"
      },
      "source": [
        "def f(x):\n",
        "  return 1/(x+1)"
      ],
      "execution_count": 154,
      "outputs": []
    },
    {
      "cell_type": "code",
      "metadata": {
        "colab": {
          "base_uri": "https://localhost:8080/"
        },
        "id": "h1kGlMTqCVf7",
        "outputId": "fb19189a-90ed-4937-c700-69f6d75d2ef2"
      },
      "source": [
        "Riemann_sum(f,0,1,1000000)"
      ],
      "execution_count": 156,
      "outputs": [
        {
          "output_type": "execute_result",
          "data": {
            "text/plain": [
              "0.6931469305597577"
            ]
          },
          "metadata": {
            "tags": []
          },
          "execution_count": 156
        }
      ]
    },
    {
      "cell_type": "code",
      "metadata": {
        "id": "LT89dOiC3luv"
      },
      "source": [
        "def Gaussian(x, mu=0, sigma=1):\n",
        "  '''\n",
        "  Returns the Gaussian (bell curve, or normal distribution)\n",
        "  evaluated at x.  The Gaussian has mean mu and \n",
        "  standard deviation sigma.\n",
        "\n",
        "  See https://en.wikipedia.org/wiki/Normal_distribution\n",
        "  '''\n",
        "  normalizer = 1/(sigma*np.sqrt(2*np.pi))\n",
        "  x_adjusted = (x - mu) / sigma\n",
        "  return normalizer * np.exp(-0.5 * x_adjusted**2)"
      ],
      "execution_count": null,
      "outputs": []
    },
    {
      "cell_type": "code",
      "metadata": {
        "id": "jt_qY9wS4gsN"
      },
      "source": [
        "x_list = np.arange(-5,5,0.1)\n",
        "y_list = Gaussian(x_list)"
      ],
      "execution_count": null,
      "outputs": []
    },
    {
      "cell_type": "code",
      "metadata": {
        "id": "IXelOc9O4u8d"
      },
      "source": [
        "import matplotlib.pyplot as plt\n",
        "plt.plot(x_list, y_list)"
      ],
      "execution_count": null,
      "outputs": []
    },
    {
      "cell_type": "code",
      "metadata": {
        "id": "hBGh3StN44JS"
      },
      "source": [
        "Riemann_sum(Gaussian, 0, 1, N=1000)"
      ],
      "execution_count": null,
      "outputs": []
    },
    {
      "cell_type": "markdown",
      "metadata": {
        "id": "s1UYGZ6s3GqO"
      },
      "source": [
        "The trapezoidal rule gives a better approximation, usually, by approximating the area under the curve by trapezoids rather than rectangles.  The formula is\n",
        "$$T = \\sum_{n = 0}^{N-1} \\left( w \\cdot \\frac{ f(a+wn) + f(a+w(n+1)) }{2} \\right).$$"
      ]
    },
    {
      "cell_type": "code",
      "metadata": {
        "id": "h51r_5x53FuU"
      },
      "source": [
        ""
      ],
      "execution_count": null,
      "outputs": []
    }
  ]
}