{
  "nbformat": 4,
  "nbformat_minor": 0,
  "metadata": {
    "colab": {
      "name": "Math152_Feb9_2021.ipynb",
      "provenance": [],
      "authorship_tag": "ABX9TyOnNxEd67ifoHJR/UFY+WrB",
      "include_colab_link": true
    },
    "kernelspec": {
      "name": "python3",
      "display_name": "Python 3"
    }
  },
  "cells": [
    {
      "cell_type": "markdown",
      "metadata": {
        "id": "view-in-github",
        "colab_type": "text"
      },
      "source": [
        "<a href=\"https://colab.research.google.com/github/MartyWeissman/PythonForMathematics/blob/main/Math152_Feb9_2021.ipynb\" target=\"_parent\"><img src=\"https://colab.research.google.com/assets/colab-badge.svg\" alt=\"Open In Colab\"/></a>"
      ]
    },
    {
      "cell_type": "markdown",
      "metadata": {
        "id": "JVGPZdDGwqV3"
      },
      "source": [
        "# Math 152, Teaching notebook, Feb 9, 2021"
      ]
    },
    {
      "cell_type": "markdown",
      "metadata": {
        "id": "YSaO5PVpxfag"
      },
      "source": [
        "Lists, tuples, and numpy arrays."
      ]
    },
    {
      "cell_type": "code",
      "metadata": {
        "id": "awED0_ofxqN9"
      },
      "source": [
        "import numpy as np"
      ],
      "execution_count": null,
      "outputs": []
    },
    {
      "cell_type": "code",
      "metadata": {
        "id": "7ruMBHrlwnJ9"
      },
      "source": [
        "L = [1,2,3,4] # A plain Python list.\n",
        "T = (1,2,3,4) # A Python tuple\n",
        "A = np.array([1,2,3,4]) # A numpy array."
      ],
      "execution_count": null,
      "outputs": []
    },
    {
      "cell_type": "code",
      "metadata": {
        "id": "XYn7WK6KxNcR"
      },
      "source": [
        "L[2]"
      ],
      "execution_count": null,
      "outputs": []
    },
    {
      "cell_type": "code",
      "metadata": {
        "id": "FecfDQB2xQNy"
      },
      "source": [
        "T[2]"
      ],
      "execution_count": null,
      "outputs": []
    },
    {
      "cell_type": "code",
      "metadata": {
        "id": "330zZ2Ucxs2u"
      },
      "source": [
        "A[2]"
      ],
      "execution_count": null,
      "outputs": []
    },
    {
      "cell_type": "code",
      "metadata": {
        "id": "LYy-eMNExQsi"
      },
      "source": [
        "L[2] = -3"
      ],
      "execution_count": null,
      "outputs": []
    },
    {
      "cell_type": "code",
      "metadata": {
        "id": "-L04kmelxU7k"
      },
      "source": [
        "print(L)"
      ],
      "execution_count": null,
      "outputs": []
    },
    {
      "cell_type": "code",
      "metadata": {
        "id": "1hNgFhxExSSC"
      },
      "source": [
        "T[2] = -3"
      ],
      "execution_count": null,
      "outputs": []
    },
    {
      "cell_type": "code",
      "metadata": {
        "id": "sY_ST9J_xTAK"
      },
      "source": [
        "M = L"
      ],
      "execution_count": null,
      "outputs": []
    },
    {
      "cell_type": "code",
      "metadata": {
        "id": "1USoMIlrxUOJ"
      },
      "source": [
        "print(M)"
      ],
      "execution_count": null,
      "outputs": []
    },
    {
      "cell_type": "code",
      "metadata": {
        "id": "Y67hYCbBxZ8Y"
      },
      "source": [
        "L[1] = 2.5"
      ],
      "execution_count": null,
      "outputs": []
    },
    {
      "cell_type": "code",
      "metadata": {
        "id": "xZ8PE5qfxcvY"
      },
      "source": [
        "print(L)"
      ],
      "execution_count": null,
      "outputs": []
    },
    {
      "cell_type": "code",
      "metadata": {
        "id": "VNnXVdwIxdNQ"
      },
      "source": [
        "print(M)"
      ],
      "execution_count": null,
      "outputs": []
    },
    {
      "cell_type": "code",
      "metadata": {
        "id": "c7tyRKujxd2o"
      },
      "source": [
        "B = A"
      ],
      "execution_count": null,
      "outputs": []
    },
    {
      "cell_type": "code",
      "metadata": {
        "id": "buNYkSSwxyzc"
      },
      "source": [
        "A[1] = 2.5"
      ],
      "execution_count": null,
      "outputs": []
    },
    {
      "cell_type": "code",
      "metadata": {
        "id": "jvrM18icx09k"
      },
      "source": [
        "A"
      ],
      "execution_count": null,
      "outputs": []
    },
    {
      "cell_type": "code",
      "metadata": {
        "id": "ON-43Pl1x1ib"
      },
      "source": [
        "type(A)"
      ],
      "execution_count": null,
      "outputs": []
    },
    {
      "cell_type": "code",
      "metadata": {
        "id": "RurhWpKpx7kb"
      },
      "source": [
        "type(A[1])"
      ],
      "execution_count": null,
      "outputs": []
    },
    {
      "cell_type": "code",
      "metadata": {
        "id": "ff8ju5LEx86j"
      },
      "source": [
        "A[1] = 5.5"
      ],
      "execution_count": null,
      "outputs": []
    },
    {
      "cell_type": "code",
      "metadata": {
        "id": "14uNrVB-yA2a"
      },
      "source": [
        "print(A)"
      ],
      "execution_count": null,
      "outputs": []
    },
    {
      "cell_type": "code",
      "metadata": {
        "id": "D0-ZPonsyBWy"
      },
      "source": [
        "print(B)"
      ],
      "execution_count": null,
      "outputs": []
    },
    {
      "cell_type": "code",
      "metadata": {
        "id": "T9F7LNUdyxuj"
      },
      "source": [
        "A.sum()"
      ],
      "execution_count": null,
      "outputs": []
    },
    {
      "cell_type": "code",
      "metadata": {
        "id": "QraPQaY7yzKc"
      },
      "source": [
        "L.sum()"
      ],
      "execution_count": null,
      "outputs": []
    },
    {
      "cell_type": "code",
      "metadata": {
        "id": "Ps04Pl__y2_g"
      },
      "source": [
        "sum(L)"
      ],
      "execution_count": null,
      "outputs": []
    },
    {
      "cell_type": "code",
      "metadata": {
        "id": "VwM6XZcoy8TQ"
      },
      "source": [
        "L.sort()"
      ],
      "execution_count": null,
      "outputs": []
    },
    {
      "cell_type": "code",
      "metadata": {
        "id": "xL0hpy3uy92k"
      },
      "source": [
        "print(L)"
      ],
      "execution_count": null,
      "outputs": []
    },
    {
      "cell_type": "code",
      "metadata": {
        "id": "LFd4IK6My-yh"
      },
      "source": [
        "print(M)"
      ],
      "execution_count": null,
      "outputs": []
    },
    {
      "cell_type": "code",
      "metadata": {
        "id": "Pub82W5yzmCl"
      },
      "source": [
        "a = 3\n",
        "b = a\n",
        "a = 2\n",
        "\n",
        "# What is a?\n",
        "# What is b?"
      ],
      "execution_count": null,
      "outputs": []
    },
    {
      "cell_type": "code",
      "metadata": {
        "id": "Lk7fLx3wzl5I"
      },
      "source": [
        "L = [1,2,3]\n",
        "M = L\n",
        "L[2] = 4\n",
        "\n",
        "# What is L?\n",
        "# What is M?"
      ],
      "execution_count": null,
      "outputs": []
    },
    {
      "cell_type": "code",
      "metadata": {
        "id": "aTetWqMTz4kM"
      },
      "source": [
        "np.random.random(10)"
      ],
      "execution_count": null,
      "outputs": []
    },
    {
      "cell_type": "code",
      "metadata": {
        "id": "UumM0KK_z85A"
      },
      "source": [
        "R = np.random.random(1000000)"
      ],
      "execution_count": null,
      "outputs": []
    },
    {
      "cell_type": "code",
      "metadata": {
        "id": "Qye6U41U0Bw0"
      },
      "source": [
        "R.sum()"
      ],
      "execution_count": null,
      "outputs": []
    },
    {
      "cell_type": "code",
      "metadata": {
        "id": "34qVSfF50HZZ"
      },
      "source": [
        "R+R"
      ],
      "execution_count": null,
      "outputs": []
    },
    {
      "cell_type": "markdown",
      "metadata": {
        "id": "NRYXLgfMyFZQ"
      },
      "source": [
        "## Numerical integration.\n",
        "\n",
        "Let $f$ be a nice real-valued function whose domain contains the interval $[a,b]$.  Let $N$ be a large integer, and let $w = (a-b) / N$, the \"width\" in what follows.  We can approximate $\\int_a^b f(x) dx$ by the (left) Riemann sum:\n",
        "$$S = \\sum_{n=0}^{N-1} (w \\cdot f(a + wn)).$$\n",
        "Let's implement this as a function `Riemann_sum`"
      ]
    },
    {
      "cell_type": "code",
      "metadata": {
        "id": "ktNk3fPWyCxq"
      },
      "source": [
        ""
      ],
      "execution_count": null,
      "outputs": []
    },
    {
      "cell_type": "code",
      "metadata": {
        "id": "LT89dOiC3luv"
      },
      "source": [
        "def Gaussian(x, mu=0, sigma=1):\n",
        "  '''\n",
        "  Returns the Gaussian (bell curve, or normal distribution)\n",
        "  evaluated at x.  The Gaussian has mean mu and \n",
        "  standard deviation sigma.\n",
        "\n",
        "  See https://en.wikipedia.org/wiki/Normal_distribution\n",
        "  '''\n",
        "  normalizer = 1/(sigma*np.sqrt(2*np.pi))\n",
        "  x_adjusted = (x - mu) / sigma\n",
        "  return normalizer * np.exp(-0.5 * x_adjusted**2)"
      ],
      "execution_count": null,
      "outputs": []
    },
    {
      "cell_type": "code",
      "metadata": {
        "id": "jt_qY9wS4gsN"
      },
      "source": [
        "x_list = np.arange(-5,5,0.1)\n",
        "y_list = Gaussian(x_list)"
      ],
      "execution_count": null,
      "outputs": []
    },
    {
      "cell_type": "code",
      "metadata": {
        "id": "IXelOc9O4u8d"
      },
      "source": [
        "import matplotlib.pyplot as plt\n",
        "plt.plot(x_list, y_list)"
      ],
      "execution_count": null,
      "outputs": []
    },
    {
      "cell_type": "code",
      "metadata": {
        "id": "hBGh3StN44JS"
      },
      "source": [
        "Riemann_sum(Gaussian, 0, 1, N=1000)"
      ],
      "execution_count": null,
      "outputs": []
    },
    {
      "cell_type": "markdown",
      "metadata": {
        "id": "s1UYGZ6s3GqO"
      },
      "source": [
        "The trapezoidal rule gives a better approximation, usually, by approximating the area under the curve by trapezoids rather than rectangles.  The formula is\n",
        "$$T = \\sum_{n = 0}^{N-1} \\left( w \\cdot \\frac{ f(a+wn) + f(a+w(n+1)) }{2} \\right).$$"
      ]
    },
    {
      "cell_type": "code",
      "metadata": {
        "id": "h51r_5x53FuU"
      },
      "source": [
        ""
      ],
      "execution_count": null,
      "outputs": []
    }
  ]
}