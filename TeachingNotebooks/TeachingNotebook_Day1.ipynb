{
  "nbformat": 4,
  "nbformat_minor": 0,
  "metadata": {
    "colab": {
      "name": "TeachingNotebook_Day1.ipynb",
      "provenance": [],
      "authorship_tag": "ABX9TyPBlA1YaUScns9Ywd7hXQbg",
      "include_colab_link": true
    },
    "kernelspec": {
      "name": "python3",
      "display_name": "Python 3"
    },
    "language_info": {
      "name": "python"
    }
  },
  "cells": [
    {
      "cell_type": "markdown",
      "metadata": {
        "id": "view-in-github",
        "colab_type": "text"
      },
      "source": [
        "<a href=\"https://colab.research.google.com/github/MartyWeissman/PythonForMathematics/blob/main/TeachingNotebooks/TeachingNotebook_Day1.ipynb\" target=\"_parent\"><img src=\"https://colab.research.google.com/assets/colab-badge.svg\" alt=\"Open In Colab\"/></a>"
      ]
    },
    {
      "cell_type": "markdown",
      "source": [
        "# Starter Python Notebook\n",
        "\n",
        "I'm teaching the first day of class today."
      ],
      "metadata": {
        "id": "SE55WS-RIsCc"
      }
    },
    {
      "cell_type": "code",
      "execution_count": 1,
      "metadata": {
        "colab": {
          "base_uri": "https://localhost:8080/"
        },
        "id": "mOXiz9puIWKA",
        "outputId": "d6083c6a-0b8e-4a74-8657-d5488cc49932"
      },
      "outputs": [
        {
          "output_type": "execute_result",
          "data": {
            "text/plain": [
              "4"
            ]
          },
          "metadata": {},
          "execution_count": 1
        }
      ],
      "source": [
        "2+2"
      ]
    },
    {
      "cell_type": "markdown",
      "source": [
        "Now I know what 2 + 2 is!"
      ],
      "metadata": {
        "id": "9KHjoaZLIxrz"
      }
    },
    {
      "cell_type": "code",
      "source": [
        "pi = 3.14159"
      ],
      "metadata": {
        "id": "H7xvlovKIZOX"
      },
      "execution_count": 2,
      "outputs": []
    },
    {
      "cell_type": "markdown",
      "source": [
        "This is just an approximation of $\\pi$."
      ],
      "metadata": {
        "id": "cZJ2Zee-I03X"
      }
    },
    {
      "cell_type": "code",
      "source": [
        "pi*pi"
      ],
      "metadata": {
        "colab": {
          "base_uri": "https://localhost:8080/"
        },
        "id": "tGVYvHLRIdaH",
        "outputId": "30ebc381-ec73-4763-9020-3648e26276cb"
      },
      "execution_count": 3,
      "outputs": [
        {
          "output_type": "execute_result",
          "data": {
            "text/plain": [
              "9.869587728099999"
            ]
          },
          "metadata": {},
          "execution_count": 3
        }
      ]
    },
    {
      "cell_type": "markdown",
      "source": [
        "$\\int_{-\\infty}^\\infty e^{-x^2} dx = \\sqrt{\\pi}$"
      ],
      "metadata": {
        "id": "9A96GujTI4cl"
      }
    },
    {
      "cell_type": "code",
      "source": [
        "S = 0"
      ],
      "metadata": {
        "id": "zbPZ7W6mPynL"
      },
      "execution_count": 21,
      "outputs": []
    },
    {
      "cell_type": "code",
      "source": [
        "print(S)"
      ],
      "metadata": {
        "colab": {
          "base_uri": "https://localhost:8080/"
        },
        "id": "aCTeMdCZPykk",
        "outputId": "8693df4b-2846-409c-a8b3-0adf56f1b57f"
      },
      "execution_count": 22,
      "outputs": [
        {
          "output_type": "stream",
          "name": "stdout",
          "text": [
            "0\n"
          ]
        }
      ]
    },
    {
      "cell_type": "code",
      "source": [
        "S = 0  # Initializes the value of S to be zero.\n",
        "for j in range(1001): # j is cycling through 0,1,2,... up to 10\n",
        "  S = S + (j**5) # The new value of S is the old value of S, plus j.\n",
        "print(S)  # Prints the current value of S."
      ],
      "metadata": {
        "colab": {
          "base_uri": "https://localhost:8080/"
        },
        "id": "2Gl-0epzPyiO",
        "outputId": "809da3b7-40a1-4c41-d5dc-cb235a5f1d64"
      },
      "execution_count": 29,
      "outputs": [
        {
          "output_type": "stream",
          "name": "stdout",
          "text": [
            "167167083333250000\n"
          ]
        }
      ]
    },
    {
      "cell_type": "code",
      "source": [
        ""
      ],
      "metadata": {
        "id": "2K2hKHTOPvNc"
      },
      "execution_count": null,
      "outputs": []
    }
  ]
}