{
  "nbformat": 4,
  "nbformat_minor": 0,
  "metadata": {
    "colab": {
      "name": "Math152_Feb25_2021.ipynb",
      "provenance": [],
      "authorship_tag": "ABX9TyNMxNlXXxrYWln2V6JV8MEY",
      "include_colab_link": true
    },
    "kernelspec": {
      "name": "python3",
      "display_name": "Python 3"
    }
  },
  "cells": [
    {
      "cell_type": "markdown",
      "metadata": {
        "id": "view-in-github",
        "colab_type": "text"
      },
      "source": [
        "<a href=\"https://colab.research.google.com/github/MartyWeissman/PythonForMathematics/blob/main/Math152_Feb25_2021.ipynb\" target=\"_parent\"><img src=\"https://colab.research.google.com/assets/colab-badge.svg\" alt=\"Open In Colab\"/></a>"
      ]
    },
    {
      "cell_type": "markdown",
      "metadata": {
        "id": "RvbQ7Q1qKzbt"
      },
      "source": [
        "# Teaching Notebook, February 25, 2021\n",
        "\n",
        "Here we're going to look at matplotlib for visualizing data."
      ]
    },
    {
      "cell_type": "code",
      "metadata": {
        "id": "58m7fPS5Ky_n"
      },
      "source": [
        "import numpy as np\n",
        "import matplotlib.pyplot as plt\n",
        "from numpy.linalg import det"
      ],
      "execution_count": null,
      "outputs": []
    },
    {
      "cell_type": "code",
      "metadata": {
        "id": "_82lr4-5LG2H"
      },
      "source": [
        "M = np.random.choice([0,1],(2,2))\n",
        "print(M)"
      ],
      "execution_count": null,
      "outputs": []
    },
    {
      "cell_type": "code",
      "metadata": {
        "id": "eZOs3vstLMgA"
      },
      "source": [
        "det(M)"
      ],
      "execution_count": null,
      "outputs": []
    },
    {
      "cell_type": "code",
      "metadata": {
        "id": "PPmr_qmjLNlA"
      },
      "source": [
        "M = np.random.choice([0,1],(5,2,2))\n",
        "print(M)"
      ],
      "execution_count": null,
      "outputs": []
    },
    {
      "cell_type": "code",
      "metadata": {
        "id": "hgpHB6loLiJV"
      },
      "source": [
        "det(M)"
      ],
      "execution_count": null,
      "outputs": []
    },
    {
      "cell_type": "markdown",
      "metadata": {
        "id": "-3Eg2lx_OOaB"
      },
      "source": [
        "# The histogram -- for looking at the distribution of a set of numbers.\n",
        "\n",
        "Data is one-dimensional.  Each data point is a single number!"
      ]
    },
    {
      "cell_type": "code",
      "metadata": {
        "id": "5ohSyHQMLjF0"
      },
      "source": [
        "def det_hist(matrix_size, num_matrices = 1000):\n",
        "  random_matrices = np.random.choice([0,1], (num_matrices, matrix_size, matrix_size))\n",
        "  dets = det(random_matrices)\n",
        "  plt.hist(dets)\n",
        "  plt.show()"
      ],
      "execution_count": null,
      "outputs": []
    },
    {
      "cell_type": "code",
      "metadata": {
        "id": "Ei3efn6zL3aL"
      },
      "source": [
        "det_hist(5)"
      ],
      "execution_count": null,
      "outputs": []
    },
    {
      "cell_type": "code",
      "metadata": {
        "id": "dABsGBykL4eS"
      },
      "source": [
        "import seaborn as sns # Seaborn package for style!"
      ],
      "execution_count": null,
      "outputs": []
    },
    {
      "cell_type": "code",
      "metadata": {
        "id": "GyNKtVrrL8zS"
      },
      "source": [
        "def det_hist(matrix_size, num_matrices = 1000):\n",
        "  random_matrices = np.random.choice([0,1], (num_matrices, matrix_size, matrix_size))\n",
        "  dets = det(random_matrices)\n",
        "  bin_edges = np.arange(dets.min() - 0.5, dets.max() + 0.5, 1.0)\n",
        "  sns.histplot(dets, bins=bin_edges)\n",
        "  plt.xticks(np.arange(dets.min(), dets.max(), np.ceil(1+(dets.max() / 5) )))\n",
        "  plt.xlim(dets.min() - 1, dets.max() + 1)\n",
        "  plt.show()"
      ],
      "execution_count": null,
      "outputs": []
    },
    {
      "cell_type": "code",
      "metadata": {
        "id": "8e4Al8UIMAqS"
      },
      "source": [
        "det_hist(8)"
      ],
      "execution_count": null,
      "outputs": []
    },
    {
      "cell_type": "markdown",
      "metadata": {
        "id": "2Ep4g_QaOXaj"
      },
      "source": [
        "# The line plot\n",
        "\n",
        "For exhibiting a relationship between two variables, where one variable \"progresses\" in a natural fashion and the other variable depends on it."
      ]
    },
    {
      "cell_type": "code",
      "metadata": {
        "id": "08vM308bMf6m"
      },
      "source": [
        "def det_trend(num_matrices = 100):\n",
        "  sizes = np.arange(2,20)\n",
        "  det_aves = np.zeros(len(sizes)) # An array of zeros\n",
        "  det_stds = np.zeros(len(sizes)) # An array of zeros\n",
        "\n",
        "  # The standard deviations are given by a theoretically derived formula below.\n",
        "  factorials = np.array([np.math.factorial(s+1) for s in sizes]) # factorial doesn't broadcast :()\n",
        "  theoretical_stds = np.sqrt(factorials) / 2**sizes\n",
        "  ##\n",
        "\n",
        "  for j,s in enumerate(sizes):\n",
        "    random_matrices = np.random.choice([0,1], (num_matrices, s, s))\n",
        "    dets = det(random_matrices)\n",
        "    det_aves[j] = dets.mean()\n",
        "    det_stds[j] = dets.std()\n",
        "  plt.plot(sizes, det_aves)\n",
        "  plt.plot(sizes, det_stds)\n",
        "  plt.plot(sizes, theoretical_stds)\n",
        "  plt.yscale('symlog')\n",
        "  plt.show()"
      ],
      "execution_count": null,
      "outputs": []
    },
    {
      "cell_type": "code",
      "metadata": {
        "id": "Bok_WF55PNnH"
      },
      "source": [
        "det_trend()"
      ],
      "execution_count": null,
      "outputs": []
    },
    {
      "cell_type": "code",
      "metadata": {
        "id": "e4Kq4xSORbLy"
      },
      "source": [
        ""
      ],
      "execution_count": null,
      "outputs": []
    }
  ]
}