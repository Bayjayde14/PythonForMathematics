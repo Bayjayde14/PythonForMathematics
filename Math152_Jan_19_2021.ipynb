{
  "nbformat": 4,
  "nbformat_minor": 0,
  "metadata": {
    "colab": {
      "name": "Math152_Jan_19_2021.ipynb",
      "provenance": [],
      "authorship_tag": "ABX9TyPEYBYrvHKmg31hFGp2t3Uh",
      "include_colab_link": true
    },
    "kernelspec": {
      "name": "python3",
      "display_name": "Python 3"
    }
  },
  "cells": [
    {
      "cell_type": "markdown",
      "metadata": {
        "id": "view-in-github",
        "colab_type": "text"
      },
      "source": [
        "<a href=\"https://colab.research.google.com/github/MartyWeissman/PythonForMathematics/blob/main/Math152_Jan_19_2021.ipynb\" target=\"_parent\"><img src=\"https://colab.research.google.com/assets/colab-badge.svg\" alt=\"Open In Colab\"/></a>"
      ]
    },
    {
      "cell_type": "markdown",
      "metadata": {
        "id": "jU_65CnHrjDE"
      },
      "source": [
        "# Teaching notebook, January 19, 2021"
      ]
    },
    {
      "cell_type": "code",
      "metadata": {
        "id": "F8JQNHe8rhjn"
      },
      "source": [
        "def print_square(x):\n",
        "  answer = x*x\n",
        "  print('The square of {} is {}.'.format(x,answer))"
      ],
      "execution_count": 15,
      "outputs": []
    },
    {
      "cell_type": "code",
      "metadata": {
        "colab": {
          "base_uri": "https://localhost:8080/"
        },
        "id": "_2Fb95Iy_HRp",
        "outputId": "76192b98-01a4-4052-c46b-dd64324b3534"
      },
      "source": [
        "print_square(9)"
      ],
      "execution_count": 17,
      "outputs": [
        {
          "output_type": "stream",
          "text": [
            "The square of 9 is 81.\n"
          ],
          "name": "stdout"
        }
      ]
    },
    {
      "cell_type": "code",
      "metadata": {
        "id": "CoCzWnjcrsas"
      },
      "source": [
        "def return_square(x):\n",
        "  answer = x*x\n",
        "  print('The square of {} is {}.'.format(x,answer))\n",
        "  return answer"
      ],
      "execution_count": 22,
      "outputs": []
    },
    {
      "cell_type": "code",
      "metadata": {
        "colab": {
          "base_uri": "https://localhost:8080/"
        },
        "id": "vsOvx9B6_Yuh",
        "outputId": "8bbf5c4f-3618-4279-a7ac-a6bae1d9f6c4"
      },
      "source": [
        "return_square(9)"
      ],
      "execution_count": 23,
      "outputs": [
        {
          "output_type": "stream",
          "text": [
            "The square of 9 is 81.\n"
          ],
          "name": "stdout"
        },
        {
          "output_type": "execute_result",
          "data": {
            "text/plain": [
              "81"
            ]
          },
          "metadata": {
            "tags": []
          },
          "execution_count": 23
        }
      ]
    },
    {
      "cell_type": "code",
      "metadata": {
        "colab": {
          "base_uri": "https://localhost:8080/"
        },
        "id": "Lcx_L_3K_cY_",
        "outputId": "bd47ab98-4580-4cb5-a1e8-05763821f1b0"
      },
      "source": [
        "return_square(9) * 5"
      ],
      "execution_count": 24,
      "outputs": [
        {
          "output_type": "stream",
          "text": [
            "The square of 9 is 81.\n"
          ],
          "name": "stdout"
        },
        {
          "output_type": "execute_result",
          "data": {
            "text/plain": [
              "405"
            ]
          },
          "metadata": {
            "tags": []
          },
          "execution_count": 24
        }
      ]
    },
    {
      "cell_type": "code",
      "metadata": {
        "colab": {
          "base_uri": "https://localhost:8080/",
          "height": 179
        },
        "id": "87ppxhxd_iUs",
        "outputId": "72703282-0ff4-4e28-c472-ff0a6f921766"
      },
      "source": [
        "print_square(9) * 5"
      ],
      "execution_count": 21,
      "outputs": [
        {
          "output_type": "stream",
          "text": [
            "The square of 9 is 81.\n"
          ],
          "name": "stdout"
        },
        {
          "output_type": "error",
          "ename": "TypeError",
          "evalue": "ignored",
          "traceback": [
            "\u001b[0;31m---------------------------------------------------------------------------\u001b[0m",
            "\u001b[0;31mTypeError\u001b[0m                                 Traceback (most recent call last)",
            "\u001b[0;32m<ipython-input-21-8f6744db08ff>\u001b[0m in \u001b[0;36m<module>\u001b[0;34m()\u001b[0m\n\u001b[0;32m----> 1\u001b[0;31m \u001b[0mprint_square\u001b[0m\u001b[0;34m(\u001b[0m\u001b[0;36m9\u001b[0m\u001b[0;34m)\u001b[0m \u001b[0;34m*\u001b[0m \u001b[0;36m5\u001b[0m\u001b[0;34m\u001b[0m\u001b[0;34m\u001b[0m\u001b[0m\n\u001b[0m",
            "\u001b[0;31mTypeError\u001b[0m: unsupported operand type(s) for *: 'NoneType' and 'int'"
          ]
        }
      ]
    },
    {
      "cell_type": "code",
      "metadata": {
        "id": "_FxCsTylru-t"
      },
      "source": [
        "def quick_square(x):\n",
        "  return x*x"
      ],
      "execution_count": 25,
      "outputs": []
    },
    {
      "cell_type": "code",
      "metadata": {
        "colab": {
          "base_uri": "https://localhost:8080/"
        },
        "id": "xVcCaGaHAFk6",
        "outputId": "7450dd4e-9e2c-4c19-c33b-870ed9aa96ad"
      },
      "source": [
        "quick_square(quick_square(9))"
      ],
      "execution_count": 28,
      "outputs": [
        {
          "output_type": "execute_result",
          "data": {
            "text/plain": [
              "6561"
            ]
          },
          "metadata": {
            "tags": []
          },
          "execution_count": 28
        }
      ]
    },
    {
      "cell_type": "code",
      "metadata": {
        "id": "BIjI8qrgrxx0"
      },
      "source": [
        "from time import time # a package to tell the current time.\n",
        "sec_min = 60\n",
        "sec_hour = sec_min * 60\n",
        "sec_day = sec_hour * 24\n",
        "sec_year = sec_day * 365 # Ignore leap years.  Oh well.\n",
        "\n",
        "def tell_time():\n",
        "  t = time() # Seconds since 1970.\n",
        "  yrs = t // sec_year # Number of years since 1970.\n",
        "  t_rest = t % sec_year  # Number of seconds left over.\n",
        "  days = t_rest // sec_day  # Number of days left over.\n",
        "  t_rest = t_rest % sec_day  # Number of seconds left over.\n",
        "  print('The current time is {}'.format(t))\n",
        "  print('This is {} years and {} days since the start of 1970.'.format(yrs, days))"
      ],
      "execution_count": 32,
      "outputs": []
    },
    {
      "cell_type": "code",
      "metadata": {
        "colab": {
          "base_uri": "https://localhost:8080/"
        },
        "id": "jAeYr450AtRi",
        "outputId": "87473f54-29be-43ae-8d6f-eb1a8bb654a9"
      },
      "source": [
        "time()"
      ],
      "execution_count": 33,
      "outputs": [
        {
          "output_type": "execute_result",
          "data": {
            "text/plain": [
              "1611082774.8816526"
            ]
          },
          "metadata": {
            "tags": []
          },
          "execution_count": 33
        }
      ]
    },
    {
      "cell_type": "code",
      "metadata": {
        "colab": {
          "base_uri": "https://localhost:8080/"
        },
        "id": "waeSZi9Rr6_i",
        "outputId": "a9b26c1b-998a-4b05-cfce-d7952dc92ef6"
      },
      "source": [
        "tell_time()"
      ],
      "execution_count": 34,
      "outputs": [
        {
          "output_type": "stream",
          "text": [
            "The current time is 1611082779.9330168\n",
            "This is 51.0 years and 31.0 days since the start of 1970.\n"
          ],
          "name": "stdout"
        }
      ]
    },
    {
      "cell_type": "code",
      "metadata": {
        "colab": {
          "base_uri": "https://localhost:8080/"
        },
        "id": "0IwgFV3Xr8BL",
        "outputId": "33c7ca14-a12e-4cbf-e80a-8350ea3b594a"
      },
      "source": [
        "from mpmath import *\n",
        "mpf(3.14)"
      ],
      "execution_count": 11,
      "outputs": [
        {
          "output_type": "execute_result",
          "data": {
            "text/plain": [
              "mpf('3.1400000000000001')"
            ]
          },
          "metadata": {
            "tags": []
          },
          "execution_count": 11
        }
      ]
    },
    {
      "cell_type": "code",
      "metadata": {
        "colab": {
          "base_uri": "https://localhost:8080/"
        },
        "id": "g_nEq8qG-aBc",
        "outputId": "7ce0cd3b-d20b-47a2-f01e-2bda42d9494d"
      },
      "source": [
        "mpf(3.14)**100"
      ],
      "execution_count": 12,
      "outputs": [
        {
          "output_type": "execute_result",
          "data": {
            "text/plain": [
              "mpf('4.9313384166056348e+49')"
            ]
          },
          "metadata": {
            "tags": []
          },
          "execution_count": 12
        }
      ]
    },
    {
      "cell_type": "code",
      "metadata": {
        "colab": {
          "base_uri": "https://localhost:8080/"
        },
        "id": "aLeF50VvFDiX",
        "outputId": "3fba6fc9-51a4-4f02-d179-7e6f601cf88c"
      },
      "source": [
        "# Angelly's code\n",
        "\n",
        "import math\n",
        "\n",
        "S = 0 # S stands for sum.\n",
        "x = 1 # constant.\n",
        "for i in range(10):\n",
        "  S = S + x**i/math.factorial(i)\n",
        "  print(\"e={}\".format(S))"
      ],
      "execution_count": 42,
      "outputs": [
        {
          "output_type": "stream",
          "text": [
            "e=1.0\n",
            "e=2.0\n",
            "e=2.5\n",
            "e=2.6666666666666665\n",
            "e=2.708333333333333\n",
            "e=2.7166666666666663\n",
            "e=2.7180555555555554\n",
            "e=2.7182539682539684\n",
            "e=2.71827876984127\n",
            "e=2.7182815255731922\n"
          ],
          "name": "stdout"
        }
      ]
    },
    {
      "cell_type": "code",
      "metadata": {
        "colab": {
          "base_uri": "https://localhost:8080/"
        },
        "id": "cXqW9eHs-cd7",
        "outputId": "4b907840-a26c-4914-c719-d18b57ed3213"
      },
      "source": [
        "# Edward's solution\n",
        "\n",
        "fact = 1 # Running factorial\n",
        "approx_e = fact # Approximation of e.\n",
        "for i in range(1,10):\n",
        "  fact = fact * i\n",
        "  print(\"The current factorial is {}\".format(fact))\n",
        "  approx_e = approx_e + (1/fact)\n",
        "  print(approx_e)"
      ],
      "execution_count": 44,
      "outputs": [
        {
          "output_type": "stream",
          "text": [
            "The current factorial is 1\n",
            "2.0\n",
            "The current factorial is 2\n",
            "2.5\n",
            "The current factorial is 6\n",
            "2.6666666666666665\n",
            "The current factorial is 24\n",
            "2.708333333333333\n",
            "The current factorial is 120\n",
            "2.7166666666666663\n",
            "The current factorial is 720\n",
            "2.7180555555555554\n",
            "The current factorial is 5040\n",
            "2.7182539682539684\n",
            "The current factorial is 40320\n",
            "2.71827876984127\n",
            "The current factorial is 362880\n",
            "2.7182815255731922\n"
          ],
          "name": "stdout"
        }
      ]
    },
    {
      "cell_type": "code",
      "metadata": {
        "colab": {
          "base_uri": "https://localhost:8080/"
        },
        "id": "3O0Ao4ECFW1E",
        "outputId": "f05116e8-3589-49b0-aaac-922778b94570"
      },
      "source": [
        "x=1\n",
        "sum=1\n",
        "factorial = 1\n",
        "for i in range(1,11):\n",
        "  factorial = factorial * i\n",
        "  sum = sum + (1/factorial)\n",
        "print(sum)"
      ],
      "execution_count": 37,
      "outputs": [
        {
          "output_type": "stream",
          "text": [
            "2.7182818011463845\n"
          ],
          "name": "stdout"
        }
      ]
    },
    {
      "cell_type": "code",
      "metadata": {
        "id": "yPLXkCbAJNVa"
      },
      "source": [
        ""
      ],
      "execution_count": null,
      "outputs": []
    }
  ]
}