{
  "nbformat": 4,
  "nbformat_minor": 0,
  "metadata": {
    "colab": {
      "name": "Untitled14.ipynb",
      "provenance": [],
      "authorship_tag": "ABX9TyOUHdcwkIFmhoT53hzF45dZ",
      "include_colab_link": true
    },
    "kernelspec": {
      "name": "python3",
      "display_name": "Python 3"
    },
    "language_info": {
      "name": "python"
    }
  },
  "cells": [
    {
      "cell_type": "markdown",
      "metadata": {
        "id": "view-in-github",
        "colab_type": "text"
      },
      "source": [
        "<a href=\"https://colab.research.google.com/github/MartyWeissman/PythonForMathematics/blob/main/TeachingNotebook_Day1.ipynb\" target=\"_parent\"><img src=\"https://colab.research.google.com/assets/colab-badge.svg\" alt=\"Open In Colab\"/></a>"
      ]
    },
    {
      "cell_type": "markdown",
      "source": [
        "# Starter Python Notebook\n",
        "\n",
        "I'm teaching the first day of class today."
      ],
      "metadata": {
        "id": "SE55WS-RIsCc"
      }
    },
    {
      "cell_type": "code",
      "execution_count": 1,
      "metadata": {
        "colab": {
          "base_uri": "https://localhost:8080/"
        },
        "id": "mOXiz9puIWKA",
        "outputId": "d6083c6a-0b8e-4a74-8657-d5488cc49932"
      },
      "outputs": [
        {
          "output_type": "execute_result",
          "data": {
            "text/plain": [
              "4"
            ]
          },
          "metadata": {},
          "execution_count": 1
        }
      ],
      "source": [
        "2+2"
      ]
    },
    {
      "cell_type": "markdown",
      "source": [
        "Now I know what 2 + 2 is!"
      ],
      "metadata": {
        "id": "9KHjoaZLIxrz"
      }
    },
    {
      "cell_type": "code",
      "source": [
        "pi = 3.14159"
      ],
      "metadata": {
        "id": "H7xvlovKIZOX"
      },
      "execution_count": 2,
      "outputs": []
    },
    {
      "cell_type": "markdown",
      "source": [
        "This is just an approximation of $\\pi$."
      ],
      "metadata": {
        "id": "cZJ2Zee-I03X"
      }
    },
    {
      "cell_type": "code",
      "source": [
        "pi*pi"
      ],
      "metadata": {
        "colab": {
          "base_uri": "https://localhost:8080/"
        },
        "id": "tGVYvHLRIdaH",
        "outputId": "30ebc381-ec73-4763-9020-3648e26276cb"
      },
      "execution_count": 3,
      "outputs": [
        {
          "output_type": "execute_result",
          "data": {
            "text/plain": [
              "9.869587728099999"
            ]
          },
          "metadata": {},
          "execution_count": 3
        }
      ]
    },
    {
      "cell_type": "markdown",
      "source": [
        "$\\int_{-\\infty}^\\infty e^{-x^2} dx = \\sqrt{\\pi}$"
      ],
      "metadata": {
        "id": "9A96GujTI4cl"
      }
    },
    {
      "cell_type": "code",
      "source": [
        ""
      ],
      "metadata": {
        "id": "YVJEi4R9IeHO"
      },
      "execution_count": null,
      "outputs": []
    }
  ]
}