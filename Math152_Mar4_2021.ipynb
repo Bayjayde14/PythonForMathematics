{
  "nbformat": 4,
  "nbformat_minor": 0,
  "metadata": {
    "colab": {
      "name": "Math152_Mar4_2021.ipynb",
      "provenance": [],
      "authorship_tag": "ABX9TyP4lsR30UDXzNfCnuvp7b93",
      "include_colab_link": true
    },
    "kernelspec": {
      "name": "python3",
      "display_name": "Python 3"
    }
  },
  "cells": [
    {
      "cell_type": "markdown",
      "metadata": {
        "id": "view-in-github",
        "colab_type": "text"
      },
      "source": [
        "<a href=\"https://colab.research.google.com/github/MartyWeissman/PythonForMathematics/blob/main/Math152_Mar4_2021.ipynb\" target=\"_parent\"><img src=\"https://colab.research.google.com/assets/colab-badge.svg\" alt=\"Open In Colab\"/></a>"
      ]
    },
    {
      "cell_type": "markdown",
      "metadata": {
        "id": "ngN6h3b9Mlen"
      },
      "source": [
        "# Math 152 Teaching Notebook, March 4, 2021"
      ]
    },
    {
      "cell_type": "markdown",
      "metadata": {
        "id": "Un4XdztUMozo"
      },
      "source": [
        "# Part 1.  Choosing colors\n",
        "\n",
        "Color can be a flexible tool for displaying information.  We can use gradients to display continuously varying data.  We can use evenly spaced hues to differentiate categorical data.  We can use unevenly spaced hues to differentiate categorical data, while placing some categories in close relation.\n",
        "\n",
        "See [the matplotlib documentation](https://matplotlib.org/stable/tutorials/colors/colormaps.html) for many examples of palettes, useful for different kinds of data.\n",
        "\n",
        "Try [ColorBrewer](https://colorbrewer2.org/) to create palettes of different types, and get the RGB codes for your colors!\n",
        "\n"
      ]
    },
    {
      "cell_type": "markdown",
      "metadata": {
        "id": "PN4iPERVTzjF"
      },
      "source": [
        "A good visualization tells a story directly and clearly. It is fruitful, and raises more questions for research. It is packed with information (high \"data/ink ratio\"), but does not seem cluttered. It does not have decorative ducks.\n",
        "\n",
        "Two visualizations that I find excellent:\n",
        "\n",
        "1.  [Visualizing the roots of 0/1 polynomials](https://math.ucr.edu/home/baez/roots/), by John Baez.\n",
        "\n",
        "2.  [Anscomb's quartet](https://seaborn.pydata.org/examples/anscombes_quartet.html), a classic, here produced in Seaborn.  See [the original article](https://www.tandfonline.com/doi/abs/10.1080/00031305.1973.10478966) which is not so pretty, but still holds up.\n",
        "\n",
        "Visualizations that are not so good.  See [a worst 10 list from published papers](https://www.biostat.wisc.edu/~kbroman/topten_worstgraphs/)\n",
        "\n",
        "1.  A [bad way to stack line-graphs](https://www.biostat.wisc.edu/~kbroman/topten_worstgraphs/roeder_fig4.jpg).  Just avoid 3-d charts.  This one could be fixed with a [ridge plot](https://seaborn.pydata.org/examples/kde_ridgeplot.html).\n",
        "\n",
        "2.  Never [use 3-d pie charts](https://www.biostat.wisc.edu/~kbroman/topten_worstgraphs/cawley_fig1.jpg).  In fact, even 2-d pie charts are rarely the best approach.\n",
        "\n",
        "3.  Axes should be honest, almost always having a baseline at zero.  Axes should be clearly labeled.  Choose the right kind of plot for the data.  See [https://www.biostat.wisc.edu/~kbroman/topten_worstgraphs/kim_fig1.png](a bad bad bar chart).\n",
        "\n",
        "4.  What is the data/ink ratio in [this sorta bar chart](https://flowingdata.com/2012/04/25/world-happiness-report-makes-statisticians-unhappy/)?"
      ]
    },
    {
      "cell_type": "code",
      "metadata": {
        "id": "aWjjjhBbMi4B"
      },
      "source": [
        ""
      ],
      "execution_count": null,
      "outputs": []
    },
    {
      "cell_type": "markdown",
      "metadata": {
        "id": "getB7VgKNoP-"
      },
      "source": [
        "# Part 2.  Thinking about the process\n",
        "\n",
        "Before you get into coding again, answer the following questions with your group.\n",
        "\n",
        "1.  Describe the *data* that you are producing.  Is it a large list of numbers?  Multiple lists?  Lists of x/y coordinates?  Does one of your variables depend on another?  Does your data belong to different categories?  If so, what are they?  Are some categories more closely related to each other than others?\n",
        "\n",
        "2.  After looking at your data, what questions do you have?  Write a few questions that might have *precise* answers.  How would you answer those questions precisely, if you could do all the analysis you wanted?\n",
        "\n",
        "3.  How much more data do you need?  Are there any bottlenecks in producing this data?  What programming techniques might be useful for solving this?"
      ]
    },
    {
      "cell_type": "code",
      "metadata": {
        "id": "nHZ-yTBcOsmi"
      },
      "source": [
        ""
      ],
      "execution_count": null,
      "outputs": []
    }
  ]
}