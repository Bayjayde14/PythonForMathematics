{
  "nbformat": 4,
  "nbformat_minor": 0,
  "metadata": {
    "colab": {
      "name": "Math152_Mar2_2021.ipynb",
      "provenance": [],
      "authorship_tag": "ABX9TyNzTpG7kUUg5MvsSaWB2QM0",
      "include_colab_link": true
    },
    "kernelspec": {
      "name": "python3",
      "display_name": "Python 3"
    }
  },
  "cells": [
    {
      "cell_type": "markdown",
      "metadata": {
        "id": "view-in-github",
        "colab_type": "text"
      },
      "source": [
        "<a href=\"https://colab.research.google.com/github/MartyWeissman/PythonForMathematics/blob/main/Math152_Mar2_2021.ipynb\" target=\"_parent\"><img src=\"https://colab.research.google.com/assets/colab-badge.svg\" alt=\"Open In Colab\"/></a>"
      ]
    },
    {
      "cell_type": "markdown",
      "metadata": {
        "id": "2Yn2F7In62hD"
      },
      "source": [
        "# Math 152, Teaching Notebook, March 2, 2021\n",
        "\n",
        "We're going to look at PIL (Python Imaging Library) today, and make a Mandelbrot set just for fun!"
      ]
    },
    {
      "cell_type": "code",
      "metadata": {
        "id": "e9kjfVz9y0Oe"
      },
      "source": [
        "import numpy as np\n",
        "import pandas as pd\n",
        "from PIL import Image # Load the package.\n",
        "from google.colab import files"
      ],
      "execution_count": null,
      "outputs": []
    },
    {
      "cell_type": "code",
      "metadata": {
        "id": "aeN-grx79ZpB"
      },
      "source": [
        "grays = np.full((300,300),0, dtype=np.uint8)\n",
        "img = Image.fromarray(grays)\n",
        "display(img)"
      ],
      "execution_count": null,
      "outputs": []
    },
    {
      "cell_type": "code",
      "metadata": {
        "id": "BoJIl66Y9r2m"
      },
      "source": [
        ""
      ],
      "execution_count": null,
      "outputs": []
    },
    {
      "cell_type": "code",
      "metadata": {
        "id": "gsyiMoa49rvw"
      },
      "source": [
        ""
      ],
      "execution_count": null,
      "outputs": []
    },
    {
      "cell_type": "code",
      "metadata": {
        "id": "xJC1pxxD9ZCC"
      },
      "source": [
        ""
      ],
      "execution_count": null,
      "outputs": []
    },
    {
      "cell_type": "code",
      "metadata": {
        "id": "W0NtHQPrzYQ7"
      },
      "source": [
        "def show_block(r,g,b, size=200):\n",
        "  red_channel = np.full((size,size),r, dtype=np.uint8)\n",
        "  green_channel = np.full((size,size),g, dtype=np.uint8)\n",
        "  blue_channel = np.full((size,size),b, dtype=np.uint8)\n",
        "  \n",
        "  solid = np.stack((red_channel,green_channel,blue_channel), axis=-1) # Stack the channels together.\n",
        "  #print(solid)\n",
        "  img = Image.fromarray(solid) # Create an image from the array.\n",
        "  display(img)"
      ],
      "execution_count": null,
      "outputs": []
    },
    {
      "cell_type": "code",
      "metadata": {
        "id": "ZzZRKodfz3GX"
      },
      "source": [
        "show_block(255,0,0, size=100)"
      ],
      "execution_count": null,
      "outputs": []
    },
    {
      "cell_type": "code",
      "metadata": {
        "id": "tlxnQ-pYz4Jf"
      },
      "source": [
        ""
      ],
      "execution_count": null,
      "outputs": []
    },
    {
      "cell_type": "code",
      "metadata": {
        "id": "Jh-tOf6o0-c3"
      },
      "source": [
        ""
      ],
      "execution_count": null,
      "outputs": []
    },
    {
      "cell_type": "code",
      "metadata": {
        "id": "Bw2B9bF20-UQ"
      },
      "source": [
        ""
      ],
      "execution_count": null,
      "outputs": []
    },
    {
      "cell_type": "code",
      "metadata": {
        "id": "p0kUtA_F0-JX"
      },
      "source": [
        ""
      ],
      "execution_count": null,
      "outputs": []
    },
    {
      "cell_type": "markdown",
      "metadata": {
        "id": "coZHwYvN0-5V"
      },
      "source": [
        "# Mandelbrot\n",
        "\n",
        "The Mandelbrot set is a way of visualizing way happens if you repeat the function $f(z) = z^2 + c$ over and over again.  Here, you start with $z = 0$, and $c$ is a constant. \n",
        "\n",
        "If $c = 0$, then it's not so interesting, since $f(0) = 0^2 + 0 = 0$, and it just stabilizes at zero.  But if $c = 1$ then $f(0) = 1$ and $f(1) = 1^2 + 1 = 2$, and $f(2) = 4 + 1 = 5$, etc... it runs away.\n",
        "\n",
        "The Mandelbrot set gives a visualization of what happens for a large array of complex numbers."
      ]
    },
    {
      "cell_type": "code",
      "metadata": {
        "id": "BV_q_YNM12L-"
      },
      "source": [
        "np.add.outer() # We're going to use this."
      ],
      "execution_count": null,
      "outputs": []
    },
    {
      "cell_type": "code",
      "metadata": {
        "id": "eX2svmri7mkY"
      },
      "source": [
        "1j * 1j"
      ],
      "execution_count": null,
      "outputs": []
    },
    {
      "cell_type": "code",
      "metadata": {
        "id": "htO8xNaC7Z-U"
      },
      "source": [
        "type(1j)"
      ],
      "execution_count": null,
      "outputs": []
    },
    {
      "cell_type": "code",
      "metadata": {
        "id": "KWye0ldW1X2I"
      },
      "source": [
        "# Make a big array of complex numbers.\n",
        "\n",
        "real_min = -2\n",
        "real_max = 1\n",
        "imag_min = -1\n",
        "imag_max = 1\n",
        "resolution = 300\n",
        "\n",
        "x_array = np.linspace(real_min,real_max, resolution * (real_max-real_min) )\n",
        "y_array = np.linspace(imag_min,imag_max, resolution * (imag_max-imag_min) )\n",
        "\n",
        "c_array = np.add.outer(x_array,y_array*1j) #1j is the complex number we usually call i."
      ],
      "execution_count": null,
      "outputs": []
    },
    {
      "cell_type": "code",
      "metadata": {
        "id": "d8WbwEHC7ibT"
      },
      "source": [
        "type(c_array[0,0])"
      ],
      "execution_count": null,
      "outputs": []
    },
    {
      "cell_type": "code",
      "metadata": {
        "id": "BEhlvfpq2FcK"
      },
      "source": [
        "c_shape = c_array.shape\n",
        "z_array = np.zeros(c_shape) # Initialize at all zeros.\n",
        "for i in range(100):\n",
        "  z_array = z_array**2 + c_array # Gives an error!"
      ],
      "execution_count": null,
      "outputs": []
    },
    {
      "cell_type": "code",
      "metadata": {
        "id": "gBCHl9tw2I0Z"
      },
      "source": [
        "c_shape = c_array.shape\n",
        "z_array = np.zeros(c_shape) # Initialize at all zeros.\n",
        "\n",
        "clip_min = -100\n",
        "clip_max = 100\n",
        "max_iter = 100\n",
        "\n",
        "for i in range(max_iter):\n",
        "  z_array = z_array**2 + c_array \n",
        "  np.clip(z_array.real, clip_min, clip_max, out=z_array.real) # Clips at window\n",
        "  np.clip(z_array.imag, clip_min, clip_max, out=z_array.imag) # Clips at window"
      ],
      "execution_count": null,
      "outputs": []
    },
    {
      "cell_type": "code",
      "metadata": {
        "id": "7vP83TnA5aUG"
      },
      "source": [
        "abs_array = np.abs(z_array) # We'll plot absolute values."
      ],
      "execution_count": null,
      "outputs": []
    },
    {
      "cell_type": "code",
      "metadata": {
        "id": "1VsIKwem5wWs"
      },
      "source": [
        "def color_scale(A):\n",
        "  '''\n",
        "  Takes an array of numbers, and scales/shifts them so that\n",
        "  the smallest value is 0 and the largest value is 255.\n",
        "  Then it coerces them into uint8 type.\n",
        "  That is useful for turning the numbers into colors.\n",
        "  '''\n",
        "  A_scaled = np.interp(A, (A.min(), A.max()), (0, 255)) # Use numpy's interpolate function.\n",
        "  return A.astype(np.uint8)"
      ],
      "execution_count": null,
      "outputs": []
    },
    {
      "cell_type": "code",
      "metadata": {
        "id": "Sl61Mk-A5Jrv"
      },
      "source": [
        "grays = color_scale(abs_array)\n",
        "img = Image.fromarray(grays) # Create an image from the array.\n",
        "display(img)"
      ],
      "execution_count": null,
      "outputs": []
    },
    {
      "cell_type": "code",
      "metadata": {
        "id": "D70c6ba85KWG"
      },
      "source": [
        ""
      ],
      "execution_count": null,
      "outputs": []
    }
  ]
}