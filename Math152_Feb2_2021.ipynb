{
  "nbformat": 4,
  "nbformat_minor": 0,
  "metadata": {
    "colab": {
      "name": "Math152_Feb2_2021.ipynb",
      "provenance": [],
      "authorship_tag": "ABX9TyPpN/mGqDCL28WXCjoJx1ib",
      "include_colab_link": true
    },
    "kernelspec": {
      "name": "python3",
      "display_name": "Python 3"
    }
  },
  "cells": [
    {
      "cell_type": "markdown",
      "metadata": {
        "id": "view-in-github",
        "colab_type": "text"
      },
      "source": [
        "<a href=\"https://colab.research.google.com/github/MartyWeissman/PythonForMathematics/blob/main/Math152_Feb2_2021.ipynb\" target=\"_parent\"><img src=\"https://colab.research.google.com/assets/colab-badge.svg\" alt=\"Open In Colab\"/></a>"
      ]
    },
    {
      "cell_type": "markdown",
      "metadata": {
        "id": "ZPnJWPgPvHa0"
      },
      "source": [
        "# Math 152, Feb 2, 2021 Teaching notebook\n",
        "\n",
        "Let's look at lists!  Time and space too."
      ]
    },
    {
      "cell_type": "markdown",
      "metadata": {
        "id": "TIRlYe7ev-0J"
      },
      "source": [
        "## The %timeit magic, and the getsizeof() function."
      ]
    },
    {
      "cell_type": "code",
      "metadata": {
        "id": "53cQiQIVwFVD"
      },
      "source": [
        "from sys import getsizeof # So we can use getsizeof() later."
      ],
      "execution_count": null,
      "outputs": []
    },
    {
      "cell_type": "code",
      "metadata": {
        "id": "ZEvGObGXvWIu"
      },
      "source": [
        "%timeit 3**1000 # mu s = microseconds = millionths of a second."
      ],
      "execution_count": null,
      "outputs": []
    },
    {
      "cell_type": "code",
      "metadata": {
        "id": "x3Wl5y1LvX8t"
      },
      "source": [
        "getsizeof(2.3) # number of bytes of space the number occupies in memory."
      ],
      "execution_count": null,
      "outputs": []
    },
    {
      "cell_type": "code",
      "metadata": {
        "id": "OP-YnTh6v0mZ"
      },
      "source": [
        "getsizeof(3**1000)"
      ],
      "execution_count": null,
      "outputs": []
    },
    {
      "cell_type": "code",
      "metadata": {
        "id": "6uAXMIar506H"
      },
      "source": [
        "L = [1,2,3]"
      ],
      "execution_count": null,
      "outputs": []
    },
    {
      "cell_type": "code",
      "metadata": {
        "id": "5qgS8Asj501Y"
      },
      "source": [
        "type(L)"
      ],
      "execution_count": null,
      "outputs": []
    },
    {
      "cell_type": "code",
      "metadata": {
        "id": "0bxRT3fb50yv"
      },
      "source": [
        "L[0]"
      ],
      "execution_count": null,
      "outputs": []
    },
    {
      "cell_type": "code",
      "metadata": {
        "id": "1EYs0e2g50wG"
      },
      "source": [
        "L[1]"
      ],
      "execution_count": null,
      "outputs": []
    },
    {
      "cell_type": "code",
      "metadata": {
        "id": "CN5qv0cnwWEw"
      },
      "source": [
        "L[2]"
      ],
      "execution_count": null,
      "outputs": []
    },
    {
      "cell_type": "code",
      "metadata": {
        "id": "ObeHqh-w598P"
      },
      "source": [
        "getsizeof(L) # Number of bytes of memory occupied by L."
      ],
      "execution_count": null,
      "outputs": []
    },
    {
      "cell_type": "code",
      "metadata": {
        "id": "fMIikOjA595E"
      },
      "source": [
        "A = list(range(10))\n",
        "print(A)"
      ],
      "execution_count": null,
      "outputs": []
    },
    {
      "cell_type": "code",
      "metadata": {
        "id": "Wprpwz8-592Q"
      },
      "source": [
        "B = list(range(100))\n",
        "C = list(range(1000))\n",
        "D = list(range(10000))"
      ],
      "execution_count": null,
      "outputs": []
    },
    {
      "cell_type": "code",
      "metadata": {
        "id": "S5sM3VGn6RC6"
      },
      "source": [
        "print(getsizeof(A))\n",
        "print(getsizeof(B))\n",
        "print(getsizeof(C))\n",
        "print(getsizeof(D))"
      ],
      "execution_count": null,
      "outputs": []
    },
    {
      "cell_type": "code",
      "metadata": {
        "id": "T2UETSx76cxo"
      },
      "source": [
        "getsizeof(list(range(100000)))"
      ],
      "execution_count": null,
      "outputs": []
    },
    {
      "cell_type": "code",
      "metadata": {
        "id": "DlhIKlYJwWBa"
      },
      "source": [
        "import matplotlib.pyplot as plt"
      ],
      "execution_count": null,
      "outputs": []
    },
    {
      "cell_type": "code",
      "metadata": {
        "id": "2iUggA3F2V0l"
      },
      "source": [
        "xlist = [10,100,1000,10000,100000]\n",
        "ylist = [200,1008,9112,90112,900112]\n",
        "fig,ax = plt.subplots(1,1,figsize=(6,4))\n",
        "plt.plot(xlist,ylist, marker='o')\n",
        "ax.set_xlabel('Length of list = n')\n",
        "ax.set_ylabel('Bytes of memory occupied')\n",
        "plt.suptitle('Memory occupied by list(range(n))')\n",
        "plt.show()"
      ],
      "execution_count": null,
      "outputs": []
    },
    {
      "cell_type": "code",
      "metadata": {
        "id": "bumH-99s2Vxa"
      },
      "source": [
        "getsizeof(range(100000000))"
      ],
      "execution_count": null,
      "outputs": []
    },
    {
      "cell_type": "code",
      "metadata": {
        "id": "zhpm09kh2VqZ"
      },
      "source": [
        "getsizeof(list(range(1000000)))"
      ],
      "execution_count": null,
      "outputs": []
    },
    {
      "cell_type": "markdown",
      "metadata": {
        "id": "2edl-UUCwW1R"
      },
      "source": [
        "# List indexing and manipulations"
      ]
    },
    {
      "cell_type": "markdown",
      "metadata": {
        "id": "YAVPtzS1w1Q1"
      },
      "source": [
        "1.  List indexing\n",
        "2.  List methods (append, sort, reverse)\n",
        "3.  Looping through a list\n",
        "4.  List comprehension (list of powers)"
      ]
    },
    {
      "cell_type": "code",
      "metadata": {
        "id": "L-3jIvm4wY3N"
      },
      "source": [
        "L = [0,1,2,3,4,5]"
      ],
      "execution_count": null,
      "outputs": []
    },
    {
      "cell_type": "code",
      "metadata": {
        "id": "IolhQ1vswdhc"
      },
      "source": [
        "L[0]"
      ],
      "execution_count": null,
      "outputs": []
    },
    {
      "cell_type": "code",
      "metadata": {
        "id": "4kdzpV_H8UEk"
      },
      "source": [
        "L[3]"
      ],
      "execution_count": null,
      "outputs": []
    },
    {
      "cell_type": "code",
      "metadata": {
        "id": "oin3Lz318UuK"
      },
      "source": [
        "L[-1]"
      ],
      "execution_count": null,
      "outputs": []
    },
    {
      "cell_type": "code",
      "metadata": {
        "id": "h_gI0_fx8bXm"
      },
      "source": [
        "L[-2]"
      ],
      "execution_count": null,
      "outputs": []
    },
    {
      "cell_type": "code",
      "metadata": {
        "id": "cmG04Rs68cCF"
      },
      "source": [
        "L[-3]"
      ],
      "execution_count": null,
      "outputs": []
    },
    {
      "cell_type": "code",
      "metadata": {
        "id": "29jqt1yQ8hCl"
      },
      "source": [
        "L[6]"
      ],
      "execution_count": null,
      "outputs": []
    },
    {
      "cell_type": "code",
      "metadata": {
        "id": "-qb4cXpZ8j5L"
      },
      "source": [
        "L[-6]"
      ],
      "execution_count": null,
      "outputs": []
    },
    {
      "cell_type": "code",
      "metadata": {
        "id": "ieA9Z0Xo8lw0"
      },
      "source": [
        "L[-7]"
      ],
      "execution_count": null,
      "outputs": []
    },
    {
      "cell_type": "code",
      "metadata": {
        "id": "oSmua-KZ8mhL"
      },
      "source": [
        "print(L)"
      ],
      "execution_count": null,
      "outputs": []
    },
    {
      "cell_type": "code",
      "metadata": {
        "id": "cr6_RVaQ8rnc"
      },
      "source": [
        "L[2:5] # This will extract a list of [L[2], L[3], L[4]]"
      ],
      "execution_count": null,
      "outputs": []
    },
    {
      "cell_type": "code",
      "metadata": {
        "id": "zCdCWmpZ8zhD"
      },
      "source": [
        "L[1:6] # A *slice* of the list."
      ],
      "execution_count": null,
      "outputs": []
    },
    {
      "cell_type": "code",
      "metadata": {
        "id": "CyvujggE82La"
      },
      "source": [
        "L[1:]"
      ],
      "execution_count": null,
      "outputs": []
    },
    {
      "cell_type": "code",
      "metadata": {
        "id": "rmkJmNPG89eB"
      },
      "source": [
        "L[:3]"
      ],
      "execution_count": null,
      "outputs": []
    },
    {
      "cell_type": "code",
      "metadata": {
        "id": "Z-K-sbB59AFy"
      },
      "source": [
        "L[:3] + L[3:]"
      ],
      "execution_count": null,
      "outputs": []
    },
    {
      "cell_type": "code",
      "metadata": {
        "id": "4cGeZRvw9DK5"
      },
      "source": [
        "L[:]"
      ],
      "execution_count": null,
      "outputs": []
    },
    {
      "cell_type": "code",
      "metadata": {
        "id": "1z_GnSDF9KB4"
      },
      "source": [
        "L = list(range(100))\n",
        "print(L)"
      ],
      "execution_count": null,
      "outputs": []
    },
    {
      "cell_type": "code",
      "metadata": {
        "id": "jGVrX2iz9OEX"
      },
      "source": [
        "L[::7]"
      ],
      "execution_count": null,
      "outputs": []
    },
    {
      "cell_type": "code",
      "metadata": {
        "id": "OaIjANG39WTX"
      },
      "source": [
        "L[13:70:7]"
      ],
      "execution_count": null,
      "outputs": []
    },
    {
      "cell_type": "code",
      "metadata": {
        "id": "ys-XACZr9Y6t"
      },
      "source": [
        "L[70:13:-7]"
      ],
      "execution_count": null,
      "outputs": []
    },
    {
      "cell_type": "markdown",
      "metadata": {
        "id": "5HN-HVeH9o8h"
      },
      "source": [
        "##  Appending to a list."
      ]
    },
    {
      "cell_type": "code",
      "metadata": {
        "id": "wVA9U7i_9end"
      },
      "source": [
        "L = []\n",
        "for n in range(10):\n",
        "  L = L + [n]\n",
        "print(L)"
      ],
      "execution_count": null,
      "outputs": []
    },
    {
      "cell_type": "code",
      "metadata": {
        "id": "XP849kgZ94nb"
      },
      "source": [
        "[] + [0]"
      ],
      "execution_count": null,
      "outputs": []
    },
    {
      "cell_type": "code",
      "metadata": {
        "id": "1Bk1rd9-985h"
      },
      "source": [
        "[0] + [1]"
      ],
      "execution_count": null,
      "outputs": []
    },
    {
      "cell_type": "code",
      "metadata": {
        "id": "H02sN2709-Oi"
      },
      "source": [
        "def make_sq_one(N):\n",
        "  L = []\n",
        "  for n in range(N):\n",
        "    L = L + [n*n]\n",
        "  return L"
      ],
      "execution_count": null,
      "outputs": []
    },
    {
      "cell_type": "code",
      "metadata": {
        "id": "FR4obBvJ-O2p"
      },
      "source": [
        "make_sq_one(10)"
      ],
      "execution_count": null,
      "outputs": []
    },
    {
      "cell_type": "code",
      "metadata": {
        "id": "HSI1xgN--P44"
      },
      "source": [
        "def make_sq_two(N):\n",
        "  L = []\n",
        "  for n in range(N):\n",
        "    L.append(n*n)\n",
        "  return L"
      ],
      "execution_count": null,
      "outputs": []
    },
    {
      "cell_type": "code",
      "metadata": {
        "id": "seju6EwM-YEH"
      },
      "source": [
        "make_sq_two(10)"
      ],
      "execution_count": null,
      "outputs": []
    },
    {
      "cell_type": "code",
      "metadata": {
        "id": "mM4Z22ab-Zfm"
      },
      "source": [
        "%timeit make_sq_one(1000)"
      ],
      "execution_count": null,
      "outputs": []
    },
    {
      "cell_type": "code",
      "metadata": {
        "id": "m7lfOmVD-fm2"
      },
      "source": [
        "%timeit make_sq_two(1000)"
      ],
      "execution_count": null,
      "outputs": []
    },
    {
      "cell_type": "code",
      "metadata": {
        "id": "oBR86gWQ-jh2"
      },
      "source": [
        "def make_sq_three(N):\n",
        "  return [n*n for n in range(N)] # A \"list comprehension\""
      ],
      "execution_count": null,
      "outputs": []
    },
    {
      "cell_type": "code",
      "metadata": {
        "id": "MD7yoiTp_Bay"
      },
      "source": [
        "make_sq_three(10)"
      ],
      "execution_count": null,
      "outputs": []
    },
    {
      "cell_type": "code",
      "metadata": {
        "id": "pMic0Rx4_Czj"
      },
      "source": [
        "%timeit make_sq_three(1000)"
      ],
      "execution_count": null,
      "outputs": []
    },
    {
      "cell_type": "code",
      "metadata": {
        "id": "A10AvAeB_F3a"
      },
      "source": [
        "def make_Fib_one(N):\n",
        "  L = [0] * N # Make a list of N zeros.\n",
        "  L[1] = 1\n",
        "  for n in range(2,N):\n",
        "    L[n] = L[n-1] + L[n-2]\n",
        "  return L"
      ],
      "execution_count": null,
      "outputs": []
    },
    {
      "cell_type": "code",
      "metadata": {
        "id": "dJ1lRF8W_iXY"
      },
      "source": [
        "make_Fib_one(10)"
      ],
      "execution_count": null,
      "outputs": []
    },
    {
      "cell_type": "code",
      "metadata": {
        "id": "XgjnD6Rh_jNf"
      },
      "source": [
        "def make_Fib_two(N):\n",
        "  L = [0,1]\n",
        "  for n in range(2,N):\n",
        "    L.append(L[n-1]+L[n-2])\n",
        "  return L"
      ],
      "execution_count": null,
      "outputs": []
    },
    {
      "cell_type": "code",
      "metadata": {
        "id": "XaVi_m0__ss_"
      },
      "source": [
        "make_Fib_two(10)"
      ],
      "execution_count": null,
      "outputs": []
    },
    {
      "cell_type": "code",
      "metadata": {
        "id": "6x2Pl6_c_uCW"
      },
      "source": [
        "%timeit make_Fib_one(1000)"
      ],
      "execution_count": null,
      "outputs": []
    },
    {
      "cell_type": "code",
      "metadata": {
        "id": "Lxkn-2ZQ_wUl"
      },
      "source": [
        "%timeit make_Fib_two(1000)"
      ],
      "execution_count": null,
      "outputs": []
    },
    {
      "cell_type": "code",
      "metadata": {
        "id": "ztR0ENdb_yis"
      },
      "source": [
        "from time import time"
      ],
      "execution_count": 86,
      "outputs": []
    },
    {
      "cell_type": "code",
      "metadata": {
        "colab": {
          "base_uri": "https://localhost:8080/"
        },
        "id": "CqN83FX_JC5D",
        "outputId": "574fc0ec-4c34-4871-c133-b8ee76a7dbbc"
      },
      "source": [
        "time()"
      ],
      "execution_count": 87,
      "outputs": [
        {
          "output_type": "execute_result",
          "data": {
            "text/plain": [
              "1612293751.0034058"
            ]
          },
          "metadata": {
            "tags": []
          },
          "execution_count": 87
        }
      ]
    },
    {
      "cell_type": "code",
      "metadata": {
        "colab": {
          "base_uri": "https://localhost:8080/"
        },
        "id": "7N3IR4EwMnZ9",
        "outputId": "53624aa3-c67b-4e55-b94f-3ac76be1e15e"
      },
      "source": [
        "time()"
      ],
      "execution_count": 88,
      "outputs": [
        {
          "output_type": "execute_result",
          "data": {
            "text/plain": [
              "1612293767.952816"
            ]
          },
          "metadata": {
            "tags": []
          },
          "execution_count": 88
        }
      ]
    },
    {
      "cell_type": "code",
      "metadata": {
        "id": "UgyG7RV6JRjf"
      },
      "source": [
        "timelog = []\n",
        "for n in range(1000):\n",
        "  t = time()\n",
        "  x = 3**100000\n",
        "  t_elapsed = time() - t\n",
        "  timelog.append(t_elapsed)"
      ],
      "execution_count": 89,
      "outputs": []
    },
    {
      "cell_type": "code",
      "metadata": {
        "colab": {
          "base_uri": "https://localhost:8080/"
        },
        "id": "Aa9WabQxJiik",
        "outputId": "3ceb0a70-92b1-4457-9a8f-3701c1bc7c5d"
      },
      "source": [
        "timelog[:10]"
      ],
      "execution_count": 90,
      "outputs": [
        {
          "output_type": "execute_result",
          "data": {
            "text/plain": [
              "[0.002894878387451172,\n",
              " 0.0026044845581054688,\n",
              " 0.005460023880004883,\n",
              " 0.0030739307403564453,\n",
              " 0.0021009445190429688,\n",
              " 0.0021092891693115234,\n",
              " 0.0020623207092285156,\n",
              " 0.002058744430541992,\n",
              " 0.0020515918731689453,\n",
              " 0.002050161361694336]"
            ]
          },
          "metadata": {
            "tags": []
          },
          "execution_count": 90
        }
      ]
    },
    {
      "cell_type": "code",
      "metadata": {
        "id": "73Dynt-jJjvi"
      },
      "source": [
        "sum(timelog) / len(timelog)"
      ],
      "execution_count": null,
      "outputs": []
    },
    {
      "cell_type": "code",
      "metadata": {
        "id": "WOTzPr4fJp66"
      },
      "source": [
        "timelog[-10:]"
      ],
      "execution_count": null,
      "outputs": []
    },
    {
      "cell_type": "code",
      "metadata": {
        "id": "GreCdXvrJwhJ"
      },
      "source": [
        ""
      ],
      "execution_count": null,
      "outputs": []
    }
  ]
}