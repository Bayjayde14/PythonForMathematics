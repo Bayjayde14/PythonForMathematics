{
  "nbformat": 4,
  "nbformat_minor": 0,
  "metadata": {
    "colab": {
      "name": "Math152_Feb2_2021.ipynb",
      "provenance": [],
      "authorship_tag": "ABX9TyPStExrq3lLr2KszZgg2p4H"
    },
    "kernelspec": {
      "name": "python3",
      "display_name": "Python 3"
    }
  },
  "cells": [
    {
      "cell_type": "markdown",
      "metadata": {
        "id": "ZPnJWPgPvHa0"
      },
      "source": [
        "# Math 152, Feb 2, 2021 Teaching notebook\n",
        "\n",
        "Let's look at lists!  Time and space too."
      ]
    },
    {
      "cell_type": "markdown",
      "metadata": {
        "id": "TIRlYe7ev-0J"
      },
      "source": [
        "## The %timeit magic, and the getsizeof() function."
      ]
    },
    {
      "cell_type": "code",
      "metadata": {
        "id": "53cQiQIVwFVD"
      },
      "source": [
        "from sys import getsizeof # So we can use getsizeof() later."
      ],
      "execution_count": 19,
      "outputs": []
    },
    {
      "cell_type": "code",
      "metadata": {
        "colab": {
          "base_uri": "https://localhost:8080/"
        },
        "id": "ZEvGObGXvWIu",
        "outputId": "2741c693-504d-4618-8bc5-4e2348d03a86"
      },
      "source": [
        "%timeit 3**1000 # mu s = microseconds = millionths of a second."
      ],
      "execution_count": 20,
      "outputs": [
        {
          "output_type": "stream",
          "text": [
            "1000000 loops, best of 3: 1.23 µs per loop\n"
          ],
          "name": "stdout"
        }
      ]
    },
    {
      "cell_type": "code",
      "metadata": {
        "colab": {
          "base_uri": "https://localhost:8080/"
        },
        "id": "x3Wl5y1LvX8t",
        "outputId": "18c69ffc-37a2-42af-ead0-0e8402c1f0cd"
      },
      "source": [
        "getsizeof(2.3) # number of bytes of space the number occupies in memory."
      ],
      "execution_count": 21,
      "outputs": [
        {
          "output_type": "execute_result",
          "data": {
            "text/plain": [
              "24"
            ]
          },
          "metadata": {
            "tags": []
          },
          "execution_count": 21
        }
      ]
    },
    {
      "cell_type": "code",
      "metadata": {
        "colab": {
          "base_uri": "https://localhost:8080/"
        },
        "id": "OP-YnTh6v0mZ",
        "outputId": "b0354253-c73c-4629-e77b-ea070e824234"
      },
      "source": [
        "getsizeof(3**1000)"
      ],
      "execution_count": 22,
      "outputs": [
        {
          "output_type": "execute_result",
          "data": {
            "text/plain": [
              "236"
            ]
          },
          "metadata": {
            "tags": []
          },
          "execution_count": 22
        }
      ]
    },
    {
      "cell_type": "code",
      "metadata": {
        "id": "6uAXMIar506H"
      },
      "source": [
        "L = [1,2,3]"
      ],
      "execution_count": 23,
      "outputs": []
    },
    {
      "cell_type": "code",
      "metadata": {
        "colab": {
          "base_uri": "https://localhost:8080/"
        },
        "id": "5qgS8Asj501Y",
        "outputId": "fa32d674-7edc-4cdd-8576-8c643f46f4fc"
      },
      "source": [
        "type(L)"
      ],
      "execution_count": 24,
      "outputs": [
        {
          "output_type": "execute_result",
          "data": {
            "text/plain": [
              "list"
            ]
          },
          "metadata": {
            "tags": []
          },
          "execution_count": 24
        }
      ]
    },
    {
      "cell_type": "code",
      "metadata": {
        "colab": {
          "base_uri": "https://localhost:8080/"
        },
        "id": "0bxRT3fb50yv",
        "outputId": "72f9ea08-800f-4f1a-d6e1-19ca762d5b0d"
      },
      "source": [
        "L[0]"
      ],
      "execution_count": 27,
      "outputs": [
        {
          "output_type": "execute_result",
          "data": {
            "text/plain": [
              "1"
            ]
          },
          "metadata": {
            "tags": []
          },
          "execution_count": 27
        }
      ]
    },
    {
      "cell_type": "code",
      "metadata": {
        "colab": {
          "base_uri": "https://localhost:8080/"
        },
        "id": "1EYs0e2g50wG",
        "outputId": "41ba2990-f773-4dd8-e354-25651a35c068"
      },
      "source": [
        "L[1]"
      ],
      "execution_count": 28,
      "outputs": [
        {
          "output_type": "execute_result",
          "data": {
            "text/plain": [
              "2"
            ]
          },
          "metadata": {
            "tags": []
          },
          "execution_count": 28
        }
      ]
    },
    {
      "cell_type": "code",
      "metadata": {
        "colab": {
          "base_uri": "https://localhost:8080/"
        },
        "id": "CN5qv0cnwWEw",
        "outputId": "f243da37-f302-4d22-fa97-b38e011118c1"
      },
      "source": [
        "L[2]"
      ],
      "execution_count": 29,
      "outputs": [
        {
          "output_type": "execute_result",
          "data": {
            "text/plain": [
              "3"
            ]
          },
          "metadata": {
            "tags": []
          },
          "execution_count": 29
        }
      ]
    },
    {
      "cell_type": "code",
      "metadata": {
        "colab": {
          "base_uri": "https://localhost:8080/"
        },
        "id": "ObeHqh-w598P",
        "outputId": "27bfb1d9-2489-4990-9d96-64b9ece530b1"
      },
      "source": [
        "getsizeof(L) # Number of bytes of memory occupied by L."
      ],
      "execution_count": 30,
      "outputs": [
        {
          "output_type": "execute_result",
          "data": {
            "text/plain": [
              "88"
            ]
          },
          "metadata": {
            "tags": []
          },
          "execution_count": 30
        }
      ]
    },
    {
      "cell_type": "code",
      "metadata": {
        "colab": {
          "base_uri": "https://localhost:8080/"
        },
        "id": "fMIikOjA595E",
        "outputId": "cbc1f71a-a0e1-4716-f34e-c3a4860c661f"
      },
      "source": [
        "A = list(range(10))\n",
        "print(A)"
      ],
      "execution_count": 31,
      "outputs": [
        {
          "output_type": "stream",
          "text": [
            "[0, 1, 2, 3, 4, 5, 6, 7, 8, 9]\n"
          ],
          "name": "stdout"
        }
      ]
    },
    {
      "cell_type": "code",
      "metadata": {
        "id": "Wprpwz8-592Q"
      },
      "source": [
        "B = list(range(100))\n",
        "C = list(range(1000))\n",
        "D = list(range(10000))"
      ],
      "execution_count": 32,
      "outputs": []
    },
    {
      "cell_type": "code",
      "metadata": {
        "colab": {
          "base_uri": "https://localhost:8080/"
        },
        "id": "S5sM3VGn6RC6",
        "outputId": "7735eda4-b584-4d85-8bf8-918878ba14ac"
      },
      "source": [
        "print(getsizeof(A))\n",
        "print(getsizeof(B))\n",
        "print(getsizeof(C))\n",
        "print(getsizeof(D))"
      ],
      "execution_count": 33,
      "outputs": [
        {
          "output_type": "stream",
          "text": [
            "200\n",
            "1008\n",
            "9112\n",
            "90112\n"
          ],
          "name": "stdout"
        }
      ]
    },
    {
      "cell_type": "code",
      "metadata": {
        "colab": {
          "base_uri": "https://localhost:8080/"
        },
        "id": "T2UETSx76cxo",
        "outputId": "16d83d07-afdb-4c48-db92-c24a6931e224"
      },
      "source": [
        "getsizeof(list(range(100000)))"
      ],
      "execution_count": 34,
      "outputs": [
        {
          "output_type": "execute_result",
          "data": {
            "text/plain": [
              "900112"
            ]
          },
          "metadata": {
            "tags": []
          },
          "execution_count": 34
        }
      ]
    },
    {
      "cell_type": "code",
      "metadata": {
        "id": "DlhIKlYJwWBa"
      },
      "source": [
        "import matplotlib.pyplot as plt"
      ],
      "execution_count": null,
      "outputs": []
    },
    {
      "cell_type": "code",
      "metadata": {
        "colab": {
          "base_uri": "https://localhost:8080/",
          "height": 308
        },
        "id": "2iUggA3F2V0l",
        "outputId": "917287e9-b437-4dae-8a0d-1afd394817d6"
      },
      "source": [
        "xlist = [10,100,1000,10000,100000]\n",
        "ylist = [200,1008,9112,90112,900112]\n",
        "fig,ax = plt.subplots(1,1,figsize=(6,4))\n",
        "plt.plot(xlist,ylist, marker='o')\n",
        "ax.set_xlabel('Length of list = n')\n",
        "ax.set_ylabel('Bytes of memory occupied')\n",
        "plt.suptitle('Memory occupied by list(range(n))')\n",
        "plt.show()"
      ],
      "execution_count": 35,
      "outputs": [
        {
          "output_type": "display_data",
          "data": {
            "image/png": "[encoded data removed]",
            "text/plain": [
              "<Figure size 432x288 with 1 Axes>"
            ]
          },
          "metadata": {
            "tags": [],
            "needs_background": "light"
          }
        }
      ]
    },
    {
      "cell_type": "code",
      "metadata": {
        "colab": {
          "base_uri": "https://localhost:8080/"
        },
        "id": "bumH-99s2Vxa",
        "outputId": "916a8c59-4611-4f66-9ef5-00c551185e0e"
      },
      "source": [
        "getsizeof(range(100000000))"
      ],
      "execution_count": 38,
      "outputs": [
        {
          "output_type": "execute_result",
          "data": {
            "text/plain": [
              "48"
            ]
          },
          "metadata": {
            "tags": []
          },
          "execution_count": 38
        }
      ]
    },
    {
      "cell_type": "code",
      "metadata": {
        "colab": {
          "base_uri": "https://localhost:8080/"
        },
        "id": "zhpm09kh2VqZ",
        "outputId": "8648f77e-e665-42fb-df16-73909b1ba546"
      },
      "source": [
        "getsizeof(list(range(1000000)))"
      ],
      "execution_count": 37,
      "outputs": [
        {
          "output_type": "execute_result",
          "data": {
            "text/plain": [
              "9000112"
            ]
          },
          "metadata": {
            "tags": []
          },
          "execution_count": 37
        }
      ]
    },
    {
      "cell_type": "markdown",
      "metadata": {
        "id": "2edl-UUCwW1R"
      },
      "source": [
        "# List indexing and manipulations"
      ]
    },
    {
      "cell_type": "markdown",
      "metadata": {
        "id": "YAVPtzS1w1Q1"
      },
      "source": [
        "1.  List indexing\n",
        "2.  List methods (append, sort, reverse)\n",
        "3.  Looping through a list\n",
        "4.  List comprehension (list of powers)"
      ]
    },
    {
      "cell_type": "code",
      "metadata": {
        "id": "L-3jIvm4wY3N"
      },
      "source": [
        "L = [0,1,2,3,4,5]"
      ],
      "execution_count": 39,
      "outputs": []
    },
    {
      "cell_type": "code",
      "metadata": {
        "colab": {
          "base_uri": "https://localhost:8080/"
        },
        "id": "IolhQ1vswdhc",
        "outputId": "0de9da98-ea07-4c29-8021-526ca8d73b4b"
      },
      "source": [
        "L[0]"
      ],
      "execution_count": 40,
      "outputs": [
        {
          "output_type": "execute_result",
          "data": {
            "text/plain": [
              "0"
            ]
          },
          "metadata": {
            "tags": []
          },
          "execution_count": 40
        }
      ]
    },
    {
      "cell_type": "code",
      "metadata": {
        "colab": {
          "base_uri": "https://localhost:8080/"
        },
        "id": "4kdzpV_H8UEk",
        "outputId": "b7527ec0-8773-419d-fcc9-0303d30723b2"
      },
      "source": [
        "L[3]"
      ],
      "execution_count": 41,
      "outputs": [
        {
          "output_type": "execute_result",
          "data": {
            "text/plain": [
              "3"
            ]
          },
          "metadata": {
            "tags": []
          },
          "execution_count": 41
        }
      ]
    },
    {
      "cell_type": "code",
      "metadata": {
        "colab": {
          "base_uri": "https://localhost:8080/"
        },
        "id": "oin3Lz318UuK",
        "outputId": "8e2d3599-ee44-416d-8ec9-366c8f77fe98"
      },
      "source": [
        "L[-1]"
      ],
      "execution_count": 42,
      "outputs": [
        {
          "output_type": "execute_result",
          "data": {
            "text/plain": [
              "5"
            ]
          },
          "metadata": {
            "tags": []
          },
          "execution_count": 42
        }
      ]
    },
    {
      "cell_type": "code",
      "metadata": {
        "colab": {
          "base_uri": "https://localhost:8080/"
        },
        "id": "h_gI0_fx8bXm",
        "outputId": "247a2692-9c62-44ca-abcd-20157a8e60f4"
      },
      "source": [
        "L[-2]"
      ],
      "execution_count": 43,
      "outputs": [
        {
          "output_type": "execute_result",
          "data": {
            "text/plain": [
              "4"
            ]
          },
          "metadata": {
            "tags": []
          },
          "execution_count": 43
        }
      ]
    },
    {
      "cell_type": "code",
      "metadata": {
        "colab": {
          "base_uri": "https://localhost:8080/"
        },
        "id": "cmG04Rs68cCF",
        "outputId": "70dc853c-e2a4-43ea-b753-eeb560c47e1e"
      },
      "source": [
        "L[-3]"
      ],
      "execution_count": 44,
      "outputs": [
        {
          "output_type": "execute_result",
          "data": {
            "text/plain": [
              "3"
            ]
          },
          "metadata": {
            "tags": []
          },
          "execution_count": 44
        }
      ]
    },
    {
      "cell_type": "code",
      "metadata": {
        "colab": {
          "base_uri": "https://localhost:8080/",
          "height": 162
        },
        "id": "29jqt1yQ8hCl",
        "outputId": "bac9cd39-2ef0-4d5b-8df1-78ad793a385e"
      },
      "source": [
        "L[6]"
      ],
      "execution_count": 45,
      "outputs": [
        {
          "output_type": "error",
          "ename": "IndexError",
          "evalue": "ignored",
          "traceback": [
            "\u001b[0;31m---------------------------------------------------------------------------\u001b[0m",
            "\u001b[0;31mIndexError\u001b[0m                                Traceback (most recent call last)",
            "\u001b[0;32m<ipython-input-45-7cef68ff5cbc>\u001b[0m in \u001b[0;36m<module>\u001b[0;34m()\u001b[0m\n\u001b[0;32m----> 1\u001b[0;31m \u001b[0mL\u001b[0m\u001b[0;34m[\u001b[0m\u001b[0;36m6\u001b[0m\u001b[0;34m]\u001b[0m\u001b[0;34m\u001b[0m\u001b[0;34m\u001b[0m\u001b[0m\n\u001b[0m",
            "\u001b[0;31mIndexError\u001b[0m: list index out of range"
          ]
        }
      ]
    },
    {
      "cell_type": "code",
      "metadata": {
        "colab": {
          "base_uri": "https://localhost:8080/"
        },
        "id": "-qb4cXpZ8j5L",
        "outputId": "965bfdbc-27b8-4867-e774-d3fc59029e26"
      },
      "source": [
        "L[-6]"
      ],
      "execution_count": 46,
      "outputs": [
        {
          "output_type": "execute_result",
          "data": {
            "text/plain": [
              "0"
            ]
          },
          "metadata": {
            "tags": []
          },
          "execution_count": 46
        }
      ]
    },
    {
      "cell_type": "code",
      "metadata": {
        "colab": {
          "base_uri": "https://localhost:8080/",
          "height": 162
        },
        "id": "ieA9Z0Xo8lw0",
        "outputId": "c1a1d810-1464-4c40-cf42-02b404434653"
      },
      "source": [
        "L[-7]"
      ],
      "execution_count": 47,
      "outputs": [
        {
          "output_type": "error",
          "ename": "IndexError",
          "evalue": "ignored",
          "traceback": [
            "\u001b[0;31m---------------------------------------------------------------------------\u001b[0m",
            "\u001b[0;31mIndexError\u001b[0m                                Traceback (most recent call last)",
            "\u001b[0;32m<ipython-input-47-67ac5ae4a84b>\u001b[0m in \u001b[0;36m<module>\u001b[0;34m()\u001b[0m\n\u001b[0;32m----> 1\u001b[0;31m \u001b[0mL\u001b[0m\u001b[0;34m[\u001b[0m\u001b[0;34m-\u001b[0m\u001b[0;36m7\u001b[0m\u001b[0;34m]\u001b[0m\u001b[0;34m\u001b[0m\u001b[0;34m\u001b[0m\u001b[0m\n\u001b[0m",
            "\u001b[0;31mIndexError\u001b[0m: list index out of range"
          ]
        }
      ]
    },
    {
      "cell_type": "code",
      "metadata": {
        "colab": {
          "base_uri": "https://localhost:8080/"
        },
        "id": "oSmua-KZ8mhL",
        "outputId": "cf4165d5-4b9f-4db7-d3ec-f12531f4bccf"
      },
      "source": [
        "print(L)"
      ],
      "execution_count": 48,
      "outputs": [
        {
          "output_type": "stream",
          "text": [
            "[0, 1, 2, 3, 4, 5]\n"
          ],
          "name": "stdout"
        }
      ]
    },
    {
      "cell_type": "code",
      "metadata": {
        "colab": {
          "base_uri": "https://localhost:8080/"
        },
        "id": "cr6_RVaQ8rnc",
        "outputId": "8dbf4dcc-091c-4e85-e7f3-9a3fda572e06"
      },
      "source": [
        "L[2:5] # This will extract a list of [L[2], L[3], L[4]]"
      ],
      "execution_count": 49,
      "outputs": [
        {
          "output_type": "execute_result",
          "data": {
            "text/plain": [
              "[2, 3, 4]"
            ]
          },
          "metadata": {
            "tags": []
          },
          "execution_count": 49
        }
      ]
    },
    {
      "cell_type": "code",
      "metadata": {
        "colab": {
          "base_uri": "https://localhost:8080/"
        },
        "id": "zCdCWmpZ8zhD",
        "outputId": "8cdb320b-fb95-4e62-b886-3006f4cf6394"
      },
      "source": [
        "L[1:6] # A *slice* of the list."
      ],
      "execution_count": 50,
      "outputs": [
        {
          "output_type": "execute_result",
          "data": {
            "text/plain": [
              "[1, 2, 3, 4, 5]"
            ]
          },
          "metadata": {
            "tags": []
          },
          "execution_count": 50
        }
      ]
    },
    {
      "cell_type": "code",
      "metadata": {
        "colab": {
          "base_uri": "https://localhost:8080/"
        },
        "id": "CyvujggE82La",
        "outputId": "d2b7945b-b400-41ed-c04a-5a0e4c251f57"
      },
      "source": [
        "L[1:]"
      ],
      "execution_count": 51,
      "outputs": [
        {
          "output_type": "execute_result",
          "data": {
            "text/plain": [
              "[1, 2, 3, 4, 5]"
            ]
          },
          "metadata": {
            "tags": []
          },
          "execution_count": 51
        }
      ]
    },
    {
      "cell_type": "code",
      "metadata": {
        "colab": {
          "base_uri": "https://localhost:8080/"
        },
        "id": "rmkJmNPG89eB",
        "outputId": "44877caa-dc9b-4c81-af06-7baf9bdd0c34"
      },
      "source": [
        "L[:3]"
      ],
      "execution_count": 52,
      "outputs": [
        {
          "output_type": "execute_result",
          "data": {
            "text/plain": [
              "[0, 1, 2]"
            ]
          },
          "metadata": {
            "tags": []
          },
          "execution_count": 52
        }
      ]
    },
    {
      "cell_type": "code",
      "metadata": {
        "colab": {
          "base_uri": "https://localhost:8080/"
        },
        "id": "Z-K-sbB59AFy",
        "outputId": "256f8fce-f379-43fd-a96f-6e3aa668e7c6"
      },
      "source": [
        "L[:3] + L[3:]"
      ],
      "execution_count": 53,
      "outputs": [
        {
          "output_type": "execute_result",
          "data": {
            "text/plain": [
              "[0, 1, 2, 3, 4, 5]"
            ]
          },
          "metadata": {
            "tags": []
          },
          "execution_count": 53
        }
      ]
    },
    {
      "cell_type": "code",
      "metadata": {
        "colab": {
          "base_uri": "https://localhost:8080/"
        },
        "id": "4cGeZRvw9DK5",
        "outputId": "a46d7c76-5d46-492c-835f-728465b9c676"
      },
      "source": [
        "L[:]"
      ],
      "execution_count": 54,
      "outputs": [
        {
          "output_type": "execute_result",
          "data": {
            "text/plain": [
              "[0, 1, 2, 3, 4, 5]"
            ]
          },
          "metadata": {
            "tags": []
          },
          "execution_count": 54
        }
      ]
    },
    {
      "cell_type": "code",
      "metadata": {
        "colab": {
          "base_uri": "https://localhost:8080/"
        },
        "id": "1z_GnSDF9KB4",
        "outputId": "d8625485-079c-4d94-d02a-744fea1e49cf"
      },
      "source": [
        "L = list(range(100))\n",
        "print(L)"
      ],
      "execution_count": 56,
      "outputs": [
        {
          "output_type": "stream",
          "text": [
            "[0, 1, 2, 3, 4, 5, 6, 7, 8, 9, 10, 11, 12, 13, 14, 15, 16, 17, 18, 19, 20, 21, 22, 23, 24, 25, 26, 27, 28, 29, 30, 31, 32, 33, 34, 35, 36, 37, 38, 39, 40, 41, 42, 43, 44, 45, 46, 47, 48, 49, 50, 51, 52, 53, 54, 55, 56, 57, 58, 59, 60, 61, 62, 63, 64, 65, 66, 67, 68, 69, 70, 71, 72, 73, 74, 75, 76, 77, 78, 79, 80, 81, 82, 83, 84, 85, 86, 87, 88, 89, 90, 91, 92, 93, 94, 95, 96, 97, 98, 99]\n"
          ],
          "name": "stdout"
        }
      ]
    },
    {
      "cell_type": "code",
      "metadata": {
        "colab": {
          "base_uri": "https://localhost:8080/"
        },
        "id": "jGVrX2iz9OEX",
        "outputId": "aecc46a4-3176-486b-81f8-2645cc10ab30"
      },
      "source": [
        "L[::7]"
      ],
      "execution_count": 57,
      "outputs": [
        {
          "output_type": "execute_result",
          "data": {
            "text/plain": [
              "[0, 7, 14, 21, 28, 35, 42, 49, 56, 63, 70, 77, 84, 91, 98]"
            ]
          },
          "metadata": {
            "tags": []
          },
          "execution_count": 57
        }
      ]
    },
    {
      "cell_type": "code",
      "metadata": {
        "colab": {
          "base_uri": "https://localhost:8080/"
        },
        "id": "OaIjANG39WTX",
        "outputId": "50b0352b-d079-4ec7-cbb1-c3504c3eee76"
      },
      "source": [
        "L[13:70:7]"
      ],
      "execution_count": 58,
      "outputs": [
        {
          "output_type": "execute_result",
          "data": {
            "text/plain": [
              "[13, 20, 27, 34, 41, 48, 55, 62, 69]"
            ]
          },
          "metadata": {
            "tags": []
          },
          "execution_count": 58
        }
      ]
    },
    {
      "cell_type": "code",
      "metadata": {
        "colab": {
          "base_uri": "https://localhost:8080/"
        },
        "id": "ys-XACZr9Y6t",
        "outputId": "e9013597-0b9e-4308-a415-c6e15768c21d"
      },
      "source": [
        "L[70:13:-7]"
      ],
      "execution_count": 59,
      "outputs": [
        {
          "output_type": "execute_result",
          "data": {
            "text/plain": [
              "[70, 63, 56, 49, 42, 35, 28, 21, 14]"
            ]
          },
          "metadata": {
            "tags": []
          },
          "execution_count": 59
        }
      ]
    },
    {
      "cell_type": "markdown",
      "metadata": {
        "id": "5HN-HVeH9o8h"
      },
      "source": [
        "##  Appending to a list."
      ]
    },
    {
      "cell_type": "code",
      "metadata": {
        "colab": {
          "base_uri": "https://localhost:8080/"
        },
        "id": "wVA9U7i_9end",
        "outputId": "946acf29-403a-470b-9329-4f906b4a5a59"
      },
      "source": [
        "L = []\n",
        "for n in range(10):\n",
        "  L = L + [n]\n",
        "print(L)"
      ],
      "execution_count": 60,
      "outputs": [
        {
          "output_type": "stream",
          "text": [
            "[0, 1, 2, 3, 4, 5, 6, 7, 8, 9]\n"
          ],
          "name": "stdout"
        }
      ]
    },
    {
      "cell_type": "code",
      "metadata": {
        "colab": {
          "base_uri": "https://localhost:8080/"
        },
        "id": "XP849kgZ94nb",
        "outputId": "ed7b3756-945c-461b-be33-7fcdbff774b0"
      },
      "source": [
        "[] + [0]"
      ],
      "execution_count": 61,
      "outputs": [
        {
          "output_type": "execute_result",
          "data": {
            "text/plain": [
              "[0]"
            ]
          },
          "metadata": {
            "tags": []
          },
          "execution_count": 61
        }
      ]
    },
    {
      "cell_type": "code",
      "metadata": {
        "colab": {
          "base_uri": "https://localhost:8080/"
        },
        "id": "1Bk1rd9-985h",
        "outputId": "4e9e6007-6162-4415-9d28-1e8ca668d716"
      },
      "source": [
        "[0] + [1]"
      ],
      "execution_count": 62,
      "outputs": [
        {
          "output_type": "execute_result",
          "data": {
            "text/plain": [
              "[0, 1]"
            ]
          },
          "metadata": {
            "tags": []
          },
          "execution_count": 62
        }
      ]
    },
    {
      "cell_type": "code",
      "metadata": {
        "id": "H02sN2709-Oi"
      },
      "source": [
        "def make_sq_one(N):\n",
        "  L = []\n",
        "  for n in range(N):\n",
        "    L = L + [n*n]\n",
        "  return L"
      ],
      "execution_count": 63,
      "outputs": []
    },
    {
      "cell_type": "code",
      "metadata": {
        "colab": {
          "base_uri": "https://localhost:8080/"
        },
        "id": "FR4obBvJ-O2p",
        "outputId": "230ad3de-7432-4276-b755-91d5c90c46b6"
      },
      "source": [
        "make_sq_one(10)"
      ],
      "execution_count": 64,
      "outputs": [
        {
          "output_type": "execute_result",
          "data": {
            "text/plain": [
              "[0, 1, 4, 9, 16, 25, 36, 49, 64, 81]"
            ]
          },
          "metadata": {
            "tags": []
          },
          "execution_count": 64
        }
      ]
    },
    {
      "cell_type": "code",
      "metadata": {
        "id": "HSI1xgN--P44"
      },
      "source": [
        "def make_sq_two(N):\n",
        "  L = []\n",
        "  for n in range(N):\n",
        "    L.append(n*n)\n",
        "  return L"
      ],
      "execution_count": 67,
      "outputs": []
    },
    {
      "cell_type": "code",
      "metadata": {
        "colab": {
          "base_uri": "https://localhost:8080/"
        },
        "id": "seju6EwM-YEH",
        "outputId": "f6ab4b92-3ad8-4c11-d79a-bb56ee65939c"
      },
      "source": [
        "make_sq_two(10)"
      ],
      "execution_count": 68,
      "outputs": [
        {
          "output_type": "execute_result",
          "data": {
            "text/plain": [
              "[0, 1, 4, 9, 16, 25, 36, 49, 64, 81]"
            ]
          },
          "metadata": {
            "tags": []
          },
          "execution_count": 68
        }
      ]
    },
    {
      "cell_type": "code",
      "metadata": {
        "colab": {
          "base_uri": "https://localhost:8080/"
        },
        "id": "mM4Z22ab-Zfm",
        "outputId": "0292b799-28a2-4d5e-9e7c-45bf9fa16ce9"
      },
      "source": [
        "%timeit make_sq_one(1000)"
      ],
      "execution_count": 69,
      "outputs": [
        {
          "output_type": "stream",
          "text": [
            "1000 loops, best of 3: 1.33 ms per loop\n"
          ],
          "name": "stdout"
        }
      ]
    },
    {
      "cell_type": "code",
      "metadata": {
        "colab": {
          "base_uri": "https://localhost:8080/"
        },
        "id": "m7lfOmVD-fm2",
        "outputId": "ae16784e-1483-4063-af8a-25bd9f9a609d"
      },
      "source": [
        "%timeit make_sq_two(1000)"
      ],
      "execution_count": 70,
      "outputs": [
        {
          "output_type": "stream",
          "text": [
            "10000 loops, best of 3: 95.2 µs per loop\n"
          ],
          "name": "stdout"
        }
      ]
    },
    {
      "cell_type": "code",
      "metadata": {
        "id": "oBR86gWQ-jh2"
      },
      "source": [
        "def make_sq_three(N):\n",
        "  return [n*n for n in range(N)] # A \"list comprehension\""
      ],
      "execution_count": 71,
      "outputs": []
    },
    {
      "cell_type": "code",
      "metadata": {
        "colab": {
          "base_uri": "https://localhost:8080/"
        },
        "id": "MD7yoiTp_Bay",
        "outputId": "fdbb7627-a475-4479-cb38-7dbcba621f9a"
      },
      "source": [
        "make_sq_three(10)"
      ],
      "execution_count": 72,
      "outputs": [
        {
          "output_type": "execute_result",
          "data": {
            "text/plain": [
              "[0, 1, 4, 9, 16, 25, 36, 49, 64, 81]"
            ]
          },
          "metadata": {
            "tags": []
          },
          "execution_count": 72
        }
      ]
    },
    {
      "cell_type": "code",
      "metadata": {
        "colab": {
          "base_uri": "https://localhost:8080/"
        },
        "id": "pMic0Rx4_Czj",
        "outputId": "ba1946d2-a0af-4ff7-d4c9-6a1d513b433b"
      },
      "source": [
        "%timeit make_sq_three(1000)"
      ],
      "execution_count": 73,
      "outputs": [
        {
          "output_type": "stream",
          "text": [
            "10000 loops, best of 3: 60.1 µs per loop\n"
          ],
          "name": "stdout"
        }
      ]
    },
    {
      "cell_type": "code",
      "metadata": {
        "id": "A10AvAeB_F3a"
      },
      "source": [
        "def make_Fib_one(N):\n",
        "  L = [0] * N # Make a list of N zeros.\n",
        "  L[1] = 1\n",
        "  for n in range(2,N):\n",
        "    L[n] = L[n-1] + L[n-2]\n",
        "  return L"
      ],
      "execution_count": 74,
      "outputs": []
    },
    {
      "cell_type": "code",
      "metadata": {
        "colab": {
          "base_uri": "https://localhost:8080/"
        },
        "id": "dJ1lRF8W_iXY",
        "outputId": "b31a5cad-5337-40f6-c48c-815b7462336c"
      },
      "source": [
        "make_Fib_one(10)"
      ],
      "execution_count": 75,
      "outputs": [
        {
          "output_type": "execute_result",
          "data": {
            "text/plain": [
              "[0, 1, 1, 2, 3, 5, 8, 13, 21, 34]"
            ]
          },
          "metadata": {
            "tags": []
          },
          "execution_count": 75
        }
      ]
    },
    {
      "cell_type": "code",
      "metadata": {
        "id": "XgjnD6Rh_jNf"
      },
      "source": [
        "def make_Fib_two(N):\n",
        "  L = [0,1]\n",
        "  for n in range(2,N):\n",
        "    L.append(L[n-1]+L[n-2])\n",
        "  return L"
      ],
      "execution_count": 76,
      "outputs": []
    },
    {
      "cell_type": "code",
      "metadata": {
        "colab": {
          "base_uri": "https://localhost:8080/"
        },
        "id": "XaVi_m0__ss_",
        "outputId": "d7f8c7b6-a13a-4f2d-d228-db55864f06a0"
      },
      "source": [
        "make_Fib_two(10)"
      ],
      "execution_count": 77,
      "outputs": [
        {
          "output_type": "execute_result",
          "data": {
            "text/plain": [
              "[0, 1, 1, 2, 3, 5, 8, 13, 21, 34]"
            ]
          },
          "metadata": {
            "tags": []
          },
          "execution_count": 77
        }
      ]
    },
    {
      "cell_type": "code",
      "metadata": {
        "colab": {
          "base_uri": "https://localhost:8080/"
        },
        "id": "6x2Pl6_c_uCW",
        "outputId": "6f70ae58-afd8-4832-ebab-9ef4f40f2bf3"
      },
      "source": [
        "%timeit make_Fib_one(1000)"
      ],
      "execution_count": 78,
      "outputs": [
        {
          "output_type": "stream",
          "text": [
            "10000 loops, best of 3: 153 µs per loop\n"
          ],
          "name": "stdout"
        }
      ]
    },
    {
      "cell_type": "code",
      "metadata": {
        "colab": {
          "base_uri": "https://localhost:8080/"
        },
        "id": "Lxkn-2ZQ_wUl",
        "outputId": "50c126cc-e66d-4db0-c735-388b7db9583a"
      },
      "source": [
        "%timeit make_Fib_two(1000)"
      ],
      "execution_count": 79,
      "outputs": [
        {
          "output_type": "stream",
          "text": [
            "10000 loops, best of 3: 180 µs per loop\n"
          ],
          "name": "stdout"
        }
      ]
    },
    {
      "cell_type": "code",
      "metadata": {
        "id": "ztR0ENdb_yis"
      },
      "source": [
        ""
      ],
      "execution_count": null,
      "outputs": []
    }
  ]
}