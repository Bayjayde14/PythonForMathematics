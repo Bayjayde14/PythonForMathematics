{
  "nbformat": 4,
  "nbformat_minor": 0,
  "metadata": {
    "colab": {
      "name": "Math152_Jan26_2021.ipynb",
      "provenance": [],
      "authorship_tag": "ABX9TyPmOqRtRfhOvTMkvGyBOvyr",
      "include_colab_link": true
    },
    "kernelspec": {
      "name": "python3",
      "display_name": "Python 3"
    }
  },
  "cells": [
    {
      "cell_type": "markdown",
      "metadata": {
        "id": "view-in-github",
        "colab_type": "text"
      },
      "source": [
        "<a href=\"https://colab.research.google.com/github/MartyWeissman/PythonForMathematics/blob/main/Math152_Jan26_2021.ipynb\" target=\"_parent\"><img src=\"https://colab.research.google.com/assets/colab-badge.svg\" alt=\"Open In Colab\"/></a>"
      ]
    },
    {
      "cell_type": "markdown",
      "metadata": {
        "id": "tdSRZH4arou4"
      },
      "source": [
        "# January 26, 2021\n",
        "\n",
        "Error handling and while loops."
      ]
    },
    {
      "cell_type": "code",
      "metadata": {
        "id": "7uxJ6agKrn4I"
      },
      "source": [
        "def add_frac(a,b,c,d):\n",
        "  "
      ],
      "execution_count": null,
      "outputs": []
    },
    {
      "cell_type": "code",
      "metadata": {
        "id": "LBLWs96zsCw2"
      },
      "source": [
        ""
      ],
      "execution_count": null,
      "outputs": []
    },
    {
      "cell_type": "code",
      "metadata": {
        "id": "ocbdOVKOsCnc"
      },
      "source": [
        ""
      ],
      "execution_count": null,
      "outputs": []
    },
    {
      "cell_type": "markdown",
      "metadata": {
        "id": "TgyqTRkusAC1"
      },
      "source": [
        "Fibonacci numbers and while loops"
      ]
    },
    {
      "cell_type": "code",
      "metadata": {
        "id": "RwfOnfxAsDm-"
      },
      "source": [
        ""
      ],
      "execution_count": null,
      "outputs": []
    },
    {
      "cell_type": "code",
      "metadata": {
        "id": "xhDMY1bPsDS8"
      },
      "source": [
        ""
      ],
      "execution_count": null,
      "outputs": []
    },
    {
      "cell_type": "code",
      "metadata": {
        "id": "q1t7nvBhsBvV"
      },
      "source": [
        ""
      ],
      "execution_count": null,
      "outputs": []
    }
  ]
}