{
  "nbformat": 4,
  "nbformat_minor": 0,
  "metadata": {
    "colab": {
      "name": "Math152_Jan26_2021.ipynb",
      "provenance": [],
      "authorship_tag": "ABX9TyPG4un/6gGIt56qlIWRc+hn",
      "include_colab_link": true
    },
    "kernelspec": {
      "name": "python3",
      "display_name": "Python 3"
    }
  },
  "cells": [
    {
      "cell_type": "markdown",
      "metadata": {
        "id": "view-in-github",
        "colab_type": "text"
      },
      "source": [
        "<a href=\"https://colab.research.google.com/github/MartyWeissman/PythonForMathematics/blob/main/Math152_Jan26_2021.ipynb\" target=\"_parent\"><img src=\"https://colab.research.google.com/assets/colab-badge.svg\" alt=\"Open In Colab\"/></a>"
      ]
    },
    {
      "cell_type": "markdown",
      "metadata": {
        "id": "tdSRZH4arou4"
      },
      "source": [
        "# January 26, 2021\n",
        "\n",
        "Error handling and while loops."
      ]
    },
    {
      "cell_type": "code",
      "metadata": {
        "id": "8JQtED2h289p"
      },
      "source": [
        "def add_frac(a,b,c,d):\n",
        "  f = b*d\n",
        "  e = a*d+b*c\n",
        "  return e,f"
      ],
      "execution_count": 11,
      "outputs": []
    },
    {
      "cell_type": "code",
      "metadata": {
        "id": "7uxJ6agKrn4I"
      },
      "source": [
        "def add_frac(a,b,c,d):\n",
        "  '''\n",
        "  This function is meant to add a/b + c/d.\n",
        "  The output will be a pair of numbers e,f\n",
        "  representing the fraction e/f.\n",
        "\n",
        "  args:\n",
        "  integers a,b,c,d\n",
        "\n",
        "  returns:\n",
        "  integers e,f.\n",
        "  '''\n",
        "  if (b == 0) or (d == 0):\n",
        "    raise ValueError('Denominators of fractions should not be zero.')\n",
        "  if (type(a) != int) or (type(b) != int) or (type(c) != int) or (type(d) != int):\n",
        "    raise TypeError('Numerators and denominators of fractions should be integers.')\n",
        "  f = b*d # Demoninator of the sum.\n",
        "  e = a*d + b*c # Numerator of the sum.\n",
        "  return e,f"
      ],
      "execution_count": 18,
      "outputs": []
    },
    {
      "cell_type": "code",
      "metadata": {
        "id": "O8QrCXXv14Z7"
      },
      "source": [
        "x = add_frac(1,2,2,3)"
      ],
      "execution_count": 19,
      "outputs": []
    },
    {
      "cell_type": "code",
      "metadata": {
        "colab": {
          "base_uri": "https://localhost:8080/"
        },
        "id": "7SkxrIVN3NM_",
        "outputId": "80e72ba5-6aea-4ad8-e935-d314a3924ed9"
      },
      "source": [
        "x"
      ],
      "execution_count": 20,
      "outputs": [
        {
          "output_type": "execute_result",
          "data": {
            "text/plain": [
              "(7, 6)"
            ]
          },
          "metadata": {
            "tags": []
          },
          "execution_count": 20
        }
      ]
    },
    {
      "cell_type": "code",
      "metadata": {
        "colab": {
          "base_uri": "https://localhost:8080/"
        },
        "id": "hGj__4G73Vnv",
        "outputId": "a4573ffb-0259-48d8-c15b-98ba68121617"
      },
      "source": [
        "x+x"
      ],
      "execution_count": 21,
      "outputs": [
        {
          "output_type": "execute_result",
          "data": {
            "text/plain": [
              "(7, 6, 7, 6)"
            ]
          },
          "metadata": {
            "tags": []
          },
          "execution_count": 21
        }
      ]
    },
    {
      "cell_type": "code",
      "metadata": {
        "colab": {
          "base_uri": "https://localhost:8080/"
        },
        "id": "LBLWs96zsCw2",
        "outputId": "8f11ec48-0e7f-4947-c019-585bfe651b2c"
      },
      "source": [
        "add_frac(1,2,1,3)"
      ],
      "execution_count": 7,
      "outputs": [
        {
          "output_type": "execute_result",
          "data": {
            "text/plain": [
              "(5, 6)"
            ]
          },
          "metadata": {
            "tags": []
          },
          "execution_count": 7
        }
      ]
    },
    {
      "cell_type": "code",
      "metadata": {
        "id": "ocbdOVKOsCnc"
      },
      "source": [
        ""
      ],
      "execution_count": null,
      "outputs": []
    },
    {
      "cell_type": "markdown",
      "metadata": {
        "id": "TgyqTRkusAC1"
      },
      "source": [
        "# Fibonacci numbers and while loops\n",
        "\n",
        "The Fibonacci numbers are:\n",
        "$$0,1,1,2,3,5,8,13,21,34,\\ldots$$\n",
        "\n",
        "The recursive definition is:  $a_0 = 0$ and $a_1 = 1$, and\n",
        "$$a_{n+1} = a_n + a_{n-1}$$\n",
        "for all $n \\geq 1$."
      ]
    },
    {
      "cell_type": "code",
      "metadata": {
        "id": "iQvFco7rEJaE"
      },
      "source": [
        "a,b = 3,4"
      ],
      "execution_count": 25,
      "outputs": []
    },
    {
      "cell_type": "code",
      "metadata": {
        "colab": {
          "base_uri": "https://localhost:8080/"
        },
        "id": "uJ0uzexKELfI",
        "outputId": "8922d798-005c-4123-bb78-1e8ec00a2149"
      },
      "source": [
        "a"
      ],
      "execution_count": 26,
      "outputs": [
        {
          "output_type": "execute_result",
          "data": {
            "text/plain": [
              "3"
            ]
          },
          "metadata": {
            "tags": []
          },
          "execution_count": 26
        }
      ]
    },
    {
      "cell_type": "code",
      "metadata": {
        "colab": {
          "base_uri": "https://localhost:8080/"
        },
        "id": "B5N5IT-mEMzf",
        "outputId": "c6fff61e-7df6-486b-8528-d4f39e0b86b8"
      },
      "source": [
        "b"
      ],
      "execution_count": 27,
      "outputs": [
        {
          "output_type": "execute_result",
          "data": {
            "text/plain": [
              "4"
            ]
          },
          "metadata": {
            "tags": []
          },
          "execution_count": 27
        }
      ]
    },
    {
      "cell_type": "code",
      "metadata": {
        "id": "wxWA1fs-ERHd"
      },
      "source": [
        "a,b = b,a"
      ],
      "execution_count": 28,
      "outputs": []
    },
    {
      "cell_type": "code",
      "metadata": {
        "colab": {
          "base_uri": "https://localhost:8080/"
        },
        "id": "bWNoHuDTEYg1",
        "outputId": "29790d4d-1f31-437c-b133-84163c096070"
      },
      "source": [
        "a"
      ],
      "execution_count": 29,
      "outputs": [
        {
          "output_type": "execute_result",
          "data": {
            "text/plain": [
              "4"
            ]
          },
          "metadata": {
            "tags": []
          },
          "execution_count": 29
        }
      ]
    },
    {
      "cell_type": "code",
      "metadata": {
        "colab": {
          "base_uri": "https://localhost:8080/"
        },
        "id": "BI3QLyMsEbiM",
        "outputId": "d198a5b4-2d3c-4e43-c0b7-e81e2ddc6cdc"
      },
      "source": [
        "b"
      ],
      "execution_count": 30,
      "outputs": [
        {
          "output_type": "execute_result",
          "data": {
            "text/plain": [
              "3"
            ]
          },
          "metadata": {
            "tags": []
          },
          "execution_count": 30
        }
      ]
    },
    {
      "cell_type": "code",
      "metadata": {
        "id": "WP1dGORSEdEH"
      },
      "source": [
        "a,b = b,a+b"
      ],
      "execution_count": 31,
      "outputs": []
    },
    {
      "cell_type": "code",
      "metadata": {
        "colab": {
          "base_uri": "https://localhost:8080/"
        },
        "id": "H0FpmcjdExqN",
        "outputId": "31bfcce2-4c98-4551-f894-474524e90a0e"
      },
      "source": [
        "a"
      ],
      "execution_count": 32,
      "outputs": [
        {
          "output_type": "execute_result",
          "data": {
            "text/plain": [
              "3"
            ]
          },
          "metadata": {
            "tags": []
          },
          "execution_count": 32
        }
      ]
    },
    {
      "cell_type": "code",
      "metadata": {
        "colab": {
          "base_uri": "https://localhost:8080/"
        },
        "id": "NXLd6DpyExc2",
        "outputId": "c70bd0ec-bd6e-4a89-8fc5-b3b9c8f58a62"
      },
      "source": [
        "b"
      ],
      "execution_count": 33,
      "outputs": [
        {
          "output_type": "execute_result",
          "data": {
            "text/plain": [
              "7"
            ]
          },
          "metadata": {
            "tags": []
          },
          "execution_count": 33
        }
      ]
    },
    {
      "cell_type": "code",
      "metadata": {
        "colab": {
          "base_uri": "https://localhost:8080/"
        },
        "id": "RwfOnfxAsDm-",
        "outputId": "768c9509-b26b-4ea8-f09a-4e4e8da1b66f"
      },
      "source": [
        "a = 0\n",
        "b = 1\n",
        "for t in range(10):\n",
        "  print(b)\n",
        "  a,b = b,a+b"
      ],
      "execution_count": 35,
      "outputs": [
        {
          "output_type": "stream",
          "text": [
            "1\n",
            "1\n",
            "2\n",
            "3\n",
            "5\n",
            "8\n",
            "13\n",
            "21\n",
            "34\n",
            "55\n"
          ],
          "name": "stdout"
        }
      ]
    },
    {
      "cell_type": "code",
      "metadata": {
        "id": "xhDMY1bPsDS8"
      },
      "source": [
        "def print_Fib(a,b,num_steps=10):\n",
        "  '''\n",
        "  Starts with a and b.\n",
        "  Produces sequence where each term is sum of two previous.\n",
        "  Prints resulting sequence, up to num_steps\n",
        "  '''\n",
        "  for t in range(num_steps):\n",
        "    print(b)\n",
        "    a,b = b,a+b"
      ],
      "execution_count": 46,
      "outputs": []
    },
    {
      "cell_type": "code",
      "metadata": {
        "colab": {
          "base_uri": "https://localhost:8080/"
        },
        "id": "q1t7nvBhsBvV",
        "outputId": "069dff1b-76fb-4c8b-c53d-739638ee2f97"
      },
      "source": [
        "print_Fib(4,3, num_steps=20)"
      ],
      "execution_count": 48,
      "outputs": [
        {
          "output_type": "stream",
          "text": [
            "3\n",
            "7\n",
            "10\n",
            "17\n",
            "27\n",
            "44\n",
            "71\n",
            "115\n",
            "186\n",
            "301\n",
            "487\n",
            "788\n",
            "1275\n",
            "2063\n",
            "3338\n",
            "5401\n",
            "8739\n",
            "14140\n",
            "22879\n",
            "37019\n"
          ],
          "name": "stdout"
        }
      ]
    },
    {
      "cell_type": "code",
      "metadata": {
        "id": "X4BBKoDGFXGQ"
      },
      "source": [
        "def Fib_max(a,b,max_b):\n",
        "  '''\n",
        "  Starts with a and b.\n",
        "  Produces sequence where each term is sum of two previous.\n",
        "  Prints resulting sequence, until b exceeds max_b.\n",
        "  '''\n",
        "  while b <= max_b:\n",
        "    a,b = b,a+b\n",
        "  return a"
      ],
      "execution_count": 43,
      "outputs": []
    },
    {
      "cell_type": "code",
      "metadata": {
        "colab": {
          "base_uri": "https://localhost:8080/"
        },
        "id": "H5rFZcqbFmpI",
        "outputId": "f2bbef9d-78dd-4325-cbb0-a00987844dbf"
      },
      "source": [
        "Fib_max(0,1,1000000000)"
      ],
      "execution_count": 45,
      "outputs": [
        {
          "output_type": "execute_result",
          "data": {
            "text/plain": [
              "701408733"
            ]
          },
          "metadata": {
            "tags": []
          },
          "execution_count": 45
        }
      ]
    },
    {
      "cell_type": "code",
      "metadata": {
        "id": "sH4xyapnGSbh"
      },
      "source": [
        "def is_prime(n):\n",
        "  f = 1\n",
        "  while f < n:\n",
        "    if "
      ],
      "execution_count": null,
      "outputs": []
    }
  ]
}