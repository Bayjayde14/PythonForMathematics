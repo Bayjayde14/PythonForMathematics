{
  "nbformat": 4,
  "nbformat_minor": 0,
  "metadata": {
    "colab": {
      "name": "Math152_Jan14_2021.ipynb",
      "provenance": [],
      "authorship_tag": "ABX9TyOQakD8gi8HOY8xoyWV/QCL",
      "include_colab_link": true
    },
    "kernelspec": {
      "name": "python3",
      "display_name": "Python 3"
    }
  },
  "cells": [
    {
      "cell_type": "markdown",
      "metadata": {
        "id": "view-in-github",
        "colab_type": "text"
      },
      "source": [
        "<a href=\"https://colab.research.google.com/github/MartyWeissman/PythonForMathematics/blob/main/Math152_Jan14_2021.ipynb\" target=\"_parent\"><img src=\"https://colab.research.google.com/assets/colab-badge.svg\" alt=\"Open In Colab\"/></a>"
      ]
    },
    {
      "cell_type": "markdown",
      "metadata": {
        "id": "OqcHBRNl65on"
      },
      "source": [
        "# January 14, teaching notebook\n",
        "\n",
        "Here is some material related to the \"explorations\" in the Python notebook 1.  The explorations all relate to *approximations* of real numbers:  $\\sqrt{2}$ and $e$ and $\\pi$.  \n",
        "\n",
        "They involve two distinct methods of approximation:  one is recursive and the other involves infinite series.\n",
        "\n",
        "A recursive method for approximating square roots goes back to the Babylonians, and goes like this:  say you want to approximate $\\sqrt{n}$ for some positive number $n$.  Begin with the guess $g_0 = 1$.  Or a better guess if you have it!  Then the \"real\" square root $\\sqrt{n}$ will be a number between $g_0$ and $n / g_0$.  Thus you can improve your guess by setting $g_1 = \\frac{1}{2} (g_0 + \\frac{n}{g_0} )$.  This is your new guess.  Repeat this process to give a sequence:\n",
        "$$g_{j+1} = \\frac{1}{2} (g_j + \\frac{n}{g_j} ).$$\n",
        "\n",
        "This is a special case of Newton's method.  Suppose you want to find a root of a function $f$.  E.g., $\\sqrt{2}$ is a root of the function $f(x) = x^2 - 2$.  Then you can begin with a guess $g_0$, and create a sequence by the rule\n",
        "$$g_{j+1} = g_j - \\frac{ f(g_j)}{f'(g_j)}.$$\n",
        "This often converges to a root of the function $f$, and often very quickly!"
      ]
    },
    {
      "cell_type": "markdown",
      "metadata": {
        "id": "O5AZHO7h_hYV"
      },
      "source": [
        "Here we look at Babylonian notation for numbers."
      ]
    },
    {
      "cell_type": "code",
      "metadata": {
        "id": "MkO9EV2B-Rqh"
      },
      "source": [
        "def bab(x, num_steps = 4):\n",
        "  num = x\n",
        "  S = ''\n",
        "  for j in range(num_steps):\n",
        "    if num < 1:\n",
        "      num = num * 60\n",
        "    inum = int(num)\n",
        "    S = S + str(inum) + '; '\n",
        "    num = num - inum\n",
        "  return S"
      ],
      "execution_count": 14,
      "outputs": []
    },
    {
      "cell_type": "code",
      "metadata": {
        "colab": {
          "base_uri": "https://localhost:8080/",
          "height": 35
        },
        "id": "cdXcOJIc_aXE",
        "outputId": "5492dbc2-d44e-4cf0-865a-c9e158894ceb"
      },
      "source": [
        "bab(0.5)"
      ],
      "execution_count": 15,
      "outputs": [
        {
          "output_type": "execute_result",
          "data": {
            "application/vnd.google.colaboratory.intrinsic+json": {
              "type": "string"
            },
            "text/plain": [
              "'30; 0; 0; 0; '"
            ]
          },
          "metadata": {
            "tags": []
          },
          "execution_count": 15
        }
      ]
    },
    {
      "cell_type": "code",
      "metadata": {
        "colab": {
          "base_uri": "https://localhost:8080/",
          "height": 35
        },
        "id": "lKBr8u9Q_ccp",
        "outputId": "5db1f5e9-4113-465e-bcb6-8cc857473587"
      },
      "source": [
        "bab(1/3)"
      ],
      "execution_count": 16,
      "outputs": [
        {
          "output_type": "execute_result",
          "data": {
            "application/vnd.google.colaboratory.intrinsic+json": {
              "type": "string"
            },
            "text/plain": [
              "'20; 0; 0; 0; '"
            ]
          },
          "metadata": {
            "tags": []
          },
          "execution_count": 16
        }
      ]
    },
    {
      "cell_type": "code",
      "metadata": {
        "colab": {
          "base_uri": "https://localhost:8080/",
          "height": 35
        },
        "id": "t6gaPWi3D7sO",
        "outputId": "c8f762ec-fee2-41f4-cc04-1e3952501290"
      },
      "source": [
        "bab(1/7)"
      ],
      "execution_count": 17,
      "outputs": [
        {
          "output_type": "execute_result",
          "data": {
            "application/vnd.google.colaboratory.intrinsic+json": {
              "type": "string"
            },
            "text/plain": [
              "'8; 34; 17; 8; '"
            ]
          },
          "metadata": {
            "tags": []
          },
          "execution_count": 17
        }
      ]
    },
    {
      "cell_type": "code",
      "metadata": {
        "colab": {
          "base_uri": "https://localhost:8080/",
          "height": 35
        },
        "id": "nMZPOzI0-Rme",
        "outputId": "9361a1e3-4875-4191-bcfb-9ed13579f1eb"
      },
      "source": [
        "from numpy import sqrt\n",
        "bab(sqrt(2))"
      ],
      "execution_count": 18,
      "outputs": [
        {
          "output_type": "execute_result",
          "data": {
            "application/vnd.google.colaboratory.intrinsic+json": {
              "type": "string"
            },
            "text/plain": [
              "'1; 24; 51; 10; '"
            ]
          },
          "metadata": {
            "tags": []
          },
          "execution_count": 18
        }
      ]
    },
    {
      "cell_type": "code",
      "metadata": {
        "colab": {
          "base_uri": "https://localhost:8080/",
          "height": 35
        },
        "id": "HrtiCUIN-RiF",
        "outputId": "c96f69ba-449e-4af6-f828-c14c55f60503"
      },
      "source": [
        "bab(sqrt(2) / 2)"
      ],
      "execution_count": 19,
      "outputs": [
        {
          "output_type": "execute_result",
          "data": {
            "application/vnd.google.colaboratory.intrinsic+json": {
              "type": "string"
            },
            "text/plain": [
              "'42; 25; 35; 3; '"
            ]
          },
          "metadata": {
            "tags": []
          },
          "execution_count": 19
        }
      ]
    },
    {
      "cell_type": "markdown",
      "metadata": {
        "id": "xz6vJ_pCY7DW"
      },
      "source": [
        "Hello, my name is Marty.\n",
        "\n",
        "3+3"
      ]
    },
    {
      "cell_type": "code",
      "metadata": {
        "colab": {
          "base_uri": "https://localhost:8080/"
        },
        "id": "G-Mw59TgY_in",
        "outputId": "80420e6d-a7a6-496e-f41c-0785aa7860e1"
      },
      "source": [
        "3+3"
      ],
      "execution_count": 20,
      "outputs": [
        {
          "output_type": "execute_result",
          "data": {
            "text/plain": [
              "6"
            ]
          },
          "metadata": {
            "tags": []
          },
          "execution_count": 20
        }
      ]
    },
    {
      "cell_type": "code",
      "metadata": {
        "id": "Y-j-NWZ0Y5-4"
      },
      "source": [
        ""
      ],
      "execution_count": null,
      "outputs": []
    },
    {
      "cell_type": "code",
      "metadata": {
        "id": "wz6zVfmN-RaA"
      },
      "source": [
        ""
      ],
      "execution_count": null,
      "outputs": []
    },
    {
      "cell_type": "code",
      "metadata": {
        "id": "-yZvKUwn6xiZ"
      },
      "source": [
        ""
      ],
      "execution_count": null,
      "outputs": []
    },
    {
      "cell_type": "markdown",
      "metadata": {
        "id": "DmeBVEXq6yHu"
      },
      "source": [
        ""
      ]
    },
    {
      "cell_type": "markdown",
      "metadata": {
        "id": "bi60OYHr8Hcm"
      },
      "source": [
        "The real number $e$ arises all over mathematics.  The simplest \"definition\" of $e$ is the following:\n",
        "$$e = 1 + \\frac{1}{1!} + \\frac{1}{2!} + \\frac{1}{3!} + \\frac{1}{4!} + \\cdots.$$\n",
        "This series converges quickly, so one may approximate $e$ by summing up 10 or 20 or 100 terms.\n",
        "\n",
        "In fact, this definition can be used to prove that $e$ is irrational."
      ]
    },
    {
      "cell_type": "code",
      "metadata": {
        "id": "b_MwsOq08X91"
      },
      "source": [
        ""
      ],
      "execution_count": null,
      "outputs": []
    },
    {
      "cell_type": "markdown",
      "metadata": {
        "id": "lgJkpfwS8ZTd"
      },
      "source": [
        "The real number $\\pi$ is older than $e$, but is harder to approximate closely.  (It's also harder to prove that $\\pi$ is irrational!)  We can use an infinite series, but the simplest infinite series that converge to $\\pi$ tend to converge very slowly.  E.g., \n",
        "$$1 - \\frac{1}{3} + \\frac{1}{5} - + \\cdots = arctan(1) = \\frac{\\pi}{4}.$$\n",
        "\n",
        "This is a \"conditionally convergent\" series, really at the edge of the disc of convergence for $arctan(x)$.  It takes a *lot* of terms to get close to $\\pi$ by summing this series.  \n",
        "\n",
        "It's a lot better to use a method of Archimedes (recursive) or Machin (series) to approximate $\\pi$.\n"
      ]
    },
    {
      "cell_type": "markdown",
      "metadata": {
        "id": "kNJC4Ohq8ZKU"
      },
      "source": [
        ""
      ]
    },
    {
      "cell_type": "markdown",
      "metadata": {
        "id": "nT8bR3Fg8Y91"
      },
      "source": [
        ""
      ]
    }
  ]
}