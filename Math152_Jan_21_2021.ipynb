{
  "nbformat": 4,
  "nbformat_minor": 0,
  "metadata": {
    "colab": {
      "name": "Math152_Jan_21_2021.ipynb",
      "provenance": [],
      "authorship_tag": "ABX9TyMHoXl7ZyCxw3FvvEEU36pX",
      "include_colab_link": true
    },
    "kernelspec": {
      "name": "python3",
      "display_name": "Python 3"
    }
  },
  "cells": [
    {
      "cell_type": "markdown",
      "metadata": {
        "id": "view-in-github",
        "colab_type": "text"
      },
      "source": [
        "<a href=\"https://colab.research.google.com/github/MartyWeissman/PythonForMathematics/blob/main/Math152_Jan_21_2021.ipynb\" target=\"_parent\"><img src=\"https://colab.research.google.com/assets/colab-badge.svg\" alt=\"Open In Colab\"/></a>"
      ]
    },
    {
      "cell_type": "markdown",
      "metadata": {
        "id": "xQRH5MK47h6f"
      },
      "source": [
        "# Teaching notebook, January 21, 2021"
      ]
    },
    {
      "cell_type": "markdown",
      "metadata": {
        "id": "1MjvoMX_-ASg"
      },
      "source": [
        "Recall the formula for $e^x$:\n",
        "$$e^x = 1 + x + \\frac{x^2}{2!} + \\frac{x^3}{3!} + \\frac{x^4}{4!} + \\cdots.$$"
      ]
    },
    {
      "cell_type": "markdown",
      "metadata": {
        "id": "S05vUI7-8ZGp"
      },
      "source": [
        "Approximating e.  Solution 1"
      ]
    },
    {
      "cell_type": "code",
      "metadata": {
        "id": "eioWYl_n7hKU"
      },
      "source": [
        "e = 1\n",
        "x = 1\n",
        "for n in range(1,21):\n",
        "    x = x*n\n",
        "    e = e + (1/x)\n",
        "    print(e)"
      ],
      "execution_count": null,
      "outputs": []
    },
    {
      "cell_type": "markdown",
      "metadata": {
        "id": "T21qI-_A8bsj"
      },
      "source": [
        "Approximating e.  Solution 2."
      ]
    },
    {
      "cell_type": "code",
      "metadata": {
        "id": "0vlKjmls8pKw"
      },
      "source": [
        "'Approximating e'\n",
        "coff=1\n",
        "x_pow=1\n",
        "Sum=1\n",
        "for m in range(1,30):\n",
        "  coff=((1/m)*coff)\n",
        "  term=coff*(x_pow**m)\n",
        "  Sum=(Sum+term)\n",
        "print((Sum))"
      ],
      "execution_count": null,
      "outputs": []
    },
    {
      "cell_type": "markdown",
      "metadata": {
        "id": "ut6OFyPv-Wp8"
      },
      "source": [
        "Approximating e.  Solution 3."
      ]
    },
    {
      "cell_type": "code",
      "metadata": {
        "id": "YyWbOfsu-VlZ"
      },
      "source": [
        "s=1\n",
        "f=1\n",
        "y=0\n",
        "for x in list(range(1,18)):\n",
        "  f=f*(y+1)\n",
        "  y=y+1\n",
        "  s=s+1/f\n",
        "print(s)"
      ],
      "execution_count": null,
      "outputs": []
    },
    {
      "cell_type": "code",
      "metadata": {
        "id": "VeWU3LS1DaV6"
      },
      "source": [
        "from mpmath import *\n",
        "print(mp)"
      ],
      "execution_count": null,
      "outputs": []
    },
    {
      "cell_type": "code",
      "metadata": {
        "id": "DIMpwQRNDaLX"
      },
      "source": [
        "mp.dps = 100 # Let's try 100 decimal digits precision.\n",
        "print(mp)"
      ],
      "execution_count": null,
      "outputs": []
    },
    {
      "cell_type": "code",
      "metadata": {
        "id": "q3DZR9X_Dcac"
      },
      "source": [
        "sqrt(2)  # mpf(...) stands for an mp-float."
      ],
      "execution_count": null,
      "outputs": []
    },
    {
      "cell_type": "code",
      "metadata": {
        "id": "Pi8ZjaTxDd9x"
      },
      "source": [
        "mpf(1.0)"
      ],
      "execution_count": null,
      "outputs": []
    },
    {
      "cell_type": "markdown",
      "metadata": {
        "id": "7NmHwFjH9fi2"
      },
      "source": [
        "Approximating $\\pi$.  "
      ]
    },
    {
      "cell_type": "code",
      "metadata": {
        "id": "vR2YaQcP9waz"
      },
      "source": [
        "type(sqrt(2)) # mpmath stores numbers in its own types!"
      ],
      "execution_count": null,
      "outputs": []
    },
    {
      "cell_type": "code",
      "metadata": {
        "id": "7PwLqLeS9xMB"
      },
      "source": [
        "pi**2"
      ],
      "execution_count": null,
      "outputs": []
    },
    {
      "cell_type": "code",
      "metadata": {
        "id": "5IyuooSM9h-C"
      },
      "source": [
        "p=4*sqrt(2)\n",
        "P=8\n",
        "for n in range(1,166):\n",
        "    P = (2*p*P)/(p + P)\n",
        "    p = sqrt(p*P)\n",
        "print(p/2)\n",
        "print(P/2)"
      ],
      "execution_count": null,
      "outputs": []
    }
  ]
}