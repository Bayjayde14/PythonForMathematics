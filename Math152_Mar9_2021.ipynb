{
  "nbformat": 4,
  "nbformat_minor": 0,
  "metadata": {
    "colab": {
      "name": "Math152_Mar9_2021.ipynb",
      "provenance": [],
      "authorship_tag": "ABX9TyO7QCTXErRRe7gR6ilV47Uh",
      "include_colab_link": true
    },
    "kernelspec": {
      "name": "python3",
      "display_name": "Python 3"
    }
  },
  "cells": [
    {
      "cell_type": "markdown",
      "metadata": {
        "id": "view-in-github",
        "colab_type": "text"
      },
      "source": [
        "<a href=\"https://colab.research.google.com/github/MartyWeissman/PythonForMathematics/blob/main/Math152_Mar9_2021.ipynb\" target=\"_parent\"><img src=\"https://colab.research.google.com/assets/colab-badge.svg\" alt=\"Open In Colab\"/></a>"
      ]
    },
    {
      "cell_type": "markdown",
      "metadata": {
        "id": "aoc2blRm9q_e"
      },
      "source": [
        "# Teaching notebook, March 9, 2021\n",
        "\n",
        "Starting to understand randomness, and \"null-hypotheses\" in mathematics."
      ]
    },
    {
      "cell_type": "code",
      "metadata": {
        "id": "G8IkwsXF9nPj"
      },
      "source": [
        "import numpy as np\n",
        "import matplotlib.pyplot as plt"
      ],
      "execution_count": null,
      "outputs": []
    },
    {
      "cell_type": "code",
      "metadata": {
        "id": "5F_AX4yU917J"
      },
      "source": [
        "A = np.random.random(100000)\n",
        "print(A[:10]) # I like to print the first 10 elements."
      ],
      "execution_count": null,
      "outputs": []
    },
    {
      "cell_type": "code",
      "metadata": {
        "id": "b34FuWZn_Ka6"
      },
      "source": [
        "plt.hist(A)"
      ],
      "execution_count": null,
      "outputs": []
    },
    {
      "cell_type": "code",
      "metadata": {
        "id": "UUDwWOoK9-F_"
      },
      "source": [
        "import seaborn as sns"
      ],
      "execution_count": null,
      "outputs": []
    },
    {
      "cell_type": "code",
      "metadata": {
        "id": "cars8IAu_rE0"
      },
      "source": [
        "sns.histplot(A)"
      ],
      "execution_count": null,
      "outputs": []
    },
    {
      "cell_type": "code",
      "metadata": {
        "id": "SoqC44oC_sDs"
      },
      "source": [
        "my_bins = np.linspace(0,1.0,101)\n",
        "my_bins[:10]"
      ],
      "execution_count": null,
      "outputs": []
    },
    {
      "cell_type": "code",
      "metadata": {
        "id": "Lz1AEuVD_0Q7"
      },
      "source": [
        "sns.histplot(A, bins=my_bins)"
      ],
      "execution_count": null,
      "outputs": []
    },
    {
      "cell_type": "code",
      "metadata": {
        "id": "g9tZ6IogDWXP"
      },
      "source": [
        "np.histogram(A, bins=my_bins) # Get histogram data instead of plot."
      ],
      "execution_count": null,
      "outputs": []
    },
    {
      "cell_type": "code",
      "metadata": {
        "id": "ZVTWW_9lDlgy"
      },
      "source": [
        "A_binned = np.histogram(A, bins=my_bins)[0]\n",
        "sns.histplot(A_binned, kde=True)"
      ],
      "execution_count": null,
      "outputs": []
    },
    {
      "cell_type": "code",
      "metadata": {
        "id": "KxEgvLVXAGhJ"
      },
      "source": [
        "N_array = np.arange(100000)\n",
        "sqrt_array = np.sqrt(N_array)\n",
        "# Look at digits after decimal point."
      ],
      "execution_count": null,
      "outputs": []
    },
    {
      "cell_type": "code",
      "metadata": {
        "id": "B870uz5rARp_"
      },
      "source": [
        "sqrt_array[:10]"
      ],
      "execution_count": null,
      "outputs": []
    },
    {
      "cell_type": "code",
      "metadata": {
        "id": "rV1YO3BrCzeF"
      },
      "source": [
        "from math import gcd # Uses Euclidean algorithm.\n",
        "gcd(49,91)"
      ],
      "execution_count": null,
      "outputs": []
    },
    {
      "cell_type": "code",
      "metadata": {
        "id": "ceKTCW4SC01A"
      },
      "source": [
        "gcd(0,17)"
      ],
      "execution_count": null,
      "outputs": []
    },
    {
      "cell_type": "code",
      "metadata": {
        "id": "K0hdnUYtCr53"
      },
      "source": [
        "def make_Fbins(max_denominator):\n",
        "    '''\n",
        "    Makes an array of rational numbers\n",
        "    between 0/1 and 1/1, with maximum \n",
        "    denominator max_denominator\n",
        "    '''\n",
        "    R_list = []\n",
        "    for denominator in range(1,max_denominator+1):\n",
        "        for numerator in range(0,denominator+1):\n",
        "            if gcd(numerator, denominator) == 1:  # Only use reduced fractions.\n",
        "                R_list.append(numerator / denominator)  \n",
        "    R_list.sort() # Sort the list!  Works \"in place\"\n",
        "    return np.array(R_list) # We like numpy arrays here."
      ],
      "execution_count": null,
      "outputs": []
    }
  ]
}