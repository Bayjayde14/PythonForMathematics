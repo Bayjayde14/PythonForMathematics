{
  "nbformat": 4,
  "nbformat_minor": 0,
  "metadata": {
    "colab": {
      "name": "Untitled6.ipynb",
      "provenance": [],
      "authorship_tag": "ABX9TyN6sTCCRSf5JVCvE6HWykQR",
      "include_colab_link": true
    },
    "kernelspec": {
      "name": "python3",
      "display_name": "Python 3"
    }
  },
  "cells": [
    {
      "cell_type": "markdown",
      "metadata": {
        "id": "view-in-github",
        "colab_type": "text"
      },
      "source": [
        "<a href=\"https://colab.research.google.com/github/MartyWeissman/PythonForMathematics/blob/main/Math152_Feb16_2021.ipynb\" target=\"_parent\"><img src=\"https://colab.research.google.com/assets/colab-badge.svg\" alt=\"Open In Colab\"/></a>"
      ]
    },
    {
      "cell_type": "markdown",
      "metadata": {
        "id": "V_Jxj4BR1oXH"
      },
      "source": [
        "# Collatz problem\n",
        "\n",
        "Begin with a positive integer.  If it's even, divide by 2.  If it's odd, triple it and add one.  Then repeat.\n",
        "\n",
        "For example, if you begin with 3, the next number is 10, and then 5, and then 16, then 8, then 4, then 2, then 1, then 4, then 2, then 1, etc.\n",
        "\n",
        "The Collatz (or $3n+1$) conjecture states that no matter what positive integer you begin with, this process eventually leads to the repeating sequence 4,2,1,4,2,1.  Here are three approaches to checking this conjecture.\n",
        "\n",
        "In each of these approaches, discuss the following questions with your group:\n",
        "\n",
        "1.  What does the code do?\n",
        "2.  Can you see any ways to make the code run faster or use less memory, while accomplishing the same task?\n",
        "3.  Is there anything risky about the code?\n",
        "4.  Is there a way to make the code more useful, while not significantly slower?"
      ]
    },
    {
      "cell_type": "markdown",
      "metadata": {
        "id": "XbNl9vFG0zm1"
      },
      "source": [
        "## Collatz code 1"
      ]
    },
    {
      "cell_type": "code",
      "metadata": {
        "id": "prxYWvNI0Ovz"
      },
      "source": [
        "def efficient_collatz(n):\n",
        "  '''\n",
        "  The modified_collatz function below is pretty inefficient because there are lots of intermediate steps for each calculation.\n",
        "  This is about as efficient as I think the usual collatz function can get, but if someone has a better idea, feel free to put it in.\n",
        "  '''\n",
        "  while n > 1:\n",
        "    if n %2 == 0:\n",
        "      n = n//2\n",
        "    else:\n",
        "      n = 3*n + 1\n",
        "  return True"
      ],
      "execution_count": null,
      "outputs": []
    },
    {
      "cell_type": "markdown",
      "metadata": {
        "id": "I84cEwIi0qrO"
      },
      "source": [
        "Now we will test to see if the conjecture holds up to a substantially large number, say n=1000000."
      ]
    },
    {
      "cell_type": "code",
      "metadata": {
        "id": "bSPkdSKV0nsA"
      },
      "source": [
        "i = 1\n",
        "max_tested = 10000\n",
        "while i < max_tested: # Test all starting values between 1 and max_tested to see if they eventually reach 1\n",
        "  if efficient_collatz(i):\n",
        "    i = i + 1\n",
        "print(i) #Should be the same as max_tested, which verifies the Collatz conjecture for all starting values less than max_tested."
      ],
      "execution_count": null,
      "outputs": []
    },
    {
      "cell_type": "markdown",
      "metadata": {
        "id": "sXSBdYvs0x9t"
      },
      "source": [
        "## Collatz code 2"
      ]
    },
    {
      "cell_type": "code",
      "metadata": {
        "id": "jQFb7oQ10y_e"
      },
      "source": [
        "'''\n",
        "This is the code for checking the conjecture works for all positive\n",
        "numbers up to a big number. This code will make the list of number end\n",
        "with \"4\" after a \"4, 2, 1\" cycle. Which can prove that all positive numbers\n",
        "in the range follows the Collatz Conjecture.\n",
        "'''\n",
        "def collatz_conjec(x): \n",
        "  a = []\n",
        "  if (x == 0):\n",
        "    raise TypeError(\"The number you input could not be ZERO(0)\")\n",
        "  while (a.count(x) <= 1):\n",
        "    if (x % 2 == 0):\n",
        "      x = x // 2 \n",
        "    else:\n",
        "      x = 3 * x + 1\n",
        "    a.append(x)\n",
        "  return print(a)\n",
        "for a in range(1,1000): #list all positive numbers up to 999. \n",
        "  collatz_conjec(a)      # Check for the \"4, 2, 1\" repeating."
      ],
      "execution_count": null,
      "outputs": []
    },
    {
      "cell_type": "code",
      "metadata": {
        "id": "YA2jr03B2Et9"
      },
      "source": [
        "%timeit collatz_conjec"
      ],
      "execution_count": null,
      "outputs": []
    },
    {
      "cell_type": "code",
      "metadata": {
        "id": "v5oJgk0G2ElX"
      },
      "source": [
        "from sys import getsizeof"
      ],
      "execution_count": null,
      "outputs": []
    },
    {
      "cell_type": "code",
      "metadata": {
        "id": "MWs9bmjb2HWL"
      },
      "source": [
        "getsizeof(collatz_conjec)"
      ],
      "execution_count": null,
      "outputs": []
    },
    {
      "cell_type": "markdown",
      "metadata": {
        "id": "KxNFUXnG09-6"
      },
      "source": [
        "## Collatz code 3"
      ]
    },
    {
      "cell_type": "code",
      "metadata": {
        "id": "mmRUTGFq0_Bd"
      },
      "source": [
        "def collatz_check(n): #check all numbers less than or equal to n\n",
        "  for i in range(3,n+1,2): #only check odd numbers\n",
        "    c = i # i will remain constant, c will change\n",
        "    while c >= i:\n",
        "      if c % 2 == 0:\n",
        "        c //= 2\n",
        "      if c % 2 == 1:\n",
        "        c = (3 * c + 1) // 2 # we can do two steps at once since 3c+1 is always even\n",
        "  print(\"Verified up to {}\".format(n))"
      ],
      "execution_count": null,
      "outputs": []
    },
    {
      "cell_type": "code",
      "metadata": {
        "id": "u-C2IbAl1RXF"
      },
      "source": [
        "collatz_check(10**7)"
      ],
      "execution_count": null,
      "outputs": []
    },
    {
      "cell_type": "markdown",
      "metadata": {
        "id": "iIb5Bv_i4Cjn"
      },
      "source": [
        "# List problem\n",
        "\n",
        "In a problem on NB 3, you were asked to create the list [1,100,3,98,5,96,...,99,2], where the odd nubmers go forward from 1 to 99 and the even numbers go backwards from 100 down to 2.  There were multiple approaches to this problem.\n",
        "\n",
        "Here are three solutions.  For each of them, discuss the following with your group:\n",
        "\n",
        "1.  How does the code work?  Do you understand what each step is doing?  Are there any steps that seem unusual to you?\n",
        "\n",
        "2.  How could you make the code more understandable, without changing how it works?  \n",
        "\n",
        "3.  How efficient is this code?  Try to wrap it in a function `make_list(N)`, so that the existing existing code would arise from setting N=100.  Use timeit to analyze the speed of `make_list(100)` and `make_list(1000)` and `make_list(1000000)`, etc.  But remember:  *don't use `print` statements* within a %timeit command!  Otherwise your screen will fill with messages and might crash!\n"
      ]
    },
    {
      "cell_type": "markdown",
      "metadata": {
        "id": "fb4ViUFI1SXD"
      },
      "source": [
        "## List code 1"
      ]
    },
    {
      "cell_type": "code",
      "metadata": {
        "colab": {
          "base_uri": "https://localhost:8080/"
        },
        "id": "WvH-wEqT1TNr",
        "outputId": "2f145493-d1af-45f1-cc25-0f16b3d8458a"
      },
      "source": [
        "even=[]\n",
        "odd=[]\n",
        "L=[]\n",
        "for n in range(50):\n",
        "  even.append(2*(n+1))\n",
        "even = even[-1::-1]\n",
        "for n in range(50):\n",
        "  odd.append(2*n+1)\n",
        "for n in range(50):\n",
        "  L.append(odd[n])\n",
        "  L.append(even[n]) \n",
        "print (L)"
      ],
      "execution_count": 4,
      "outputs": [
        {
          "output_type": "stream",
          "text": [
            "[1, 100, 3, 98, 5, 96, 7, 94, 9, 92, 11, 90, 13, 88, 15, 86, 17, 84, 19, 82, 21, 80, 23, 78, 25, 76, 27, 74, 29, 72, 31, 70, 33, 68, 35, 66, 37, 64, 39, 62, 41, 60, 43, 58, 45, 56, 47, 54, 49, 52, 51, 50, 53, 48, 55, 46, 57, 44, 59, 42, 61, 40, 63, 38, 65, 36, 67, 34, 69, 32, 71, 30, 73, 28, 75, 26, 77, 24, 79, 22, 81, 20, 83, 18, 85, 16, 87, 14, 89, 12, 91, 10, 93, 8, 95, 6, 97, 4, 99, 2]\n"
          ],
          "name": "stdout"
        }
      ]
    },
    {
      "cell_type": "markdown",
      "metadata": {
        "id": "Iu0GXGfl3odO"
      },
      "source": [
        "## List code 2"
      ]
    },
    {
      "cell_type": "code",
      "metadata": {
        "id": "VDd7_hKC3Rbx"
      },
      "source": [
        "#Exercise 5\n",
        "L=list(range(1,101))\n",
        "print(L)\n",
        "L[1::2]=L[-1:0:-2]\n",
        "print(L)"
      ],
      "execution_count": null,
      "outputs": []
    },
    {
      "cell_type": "markdown",
      "metadata": {
        "id": "nQq3jzn437_h"
      },
      "source": [
        "## List code 3"
      ]
    },
    {
      "cell_type": "code",
      "metadata": {
        "id": "IkeX0L4k381q"
      },
      "source": [
        "L1 = list(range(0,101))\n",
        "L2 =  list(range(0,101))\n",
        "L3 = L2[-1::-1]\n",
        "for i in L3:\n",
        "        if i % 2 == 1:\n",
        "            L3.remove(i)\n",
        "        i = i + 1\n",
        "L1[::2] = L3\n",
        "print(L1)"
      ],
      "execution_count": null,
      "outputs": []
    },
    {
      "cell_type": "markdown",
      "metadata": {
        "id": "LVaWxrt85oyF"
      },
      "source": [
        "# New lists from old lists\n",
        "\n",
        "In the following cells, create a function `gap_list(L)`.  The input to this function should be a list `L` of positive integers.  The result should be a list of the gaps between consecutive elements of `L`.  For example, if the list `[1,3,5,10]` is input, the list `[2,2,5]` should be returned.  \n",
        "\n",
        "Experiment to make this function as fast as possible.  Try list comprehensions, arrays, etc.  "
      ]
    },
    {
      "cell_type": "markdown",
      "metadata": {
        "id": "8oGgokop5FJc"
      },
      "source": [
        ""
      ]
    },
    {
      "cell_type": "markdown",
      "metadata": {
        "id": "Hi1ztc4P6IPD"
      },
      "source": [
        "Now, create a function `redblue(L)`.  The input to this function should be a list of integers.  The output should be two lists `R` and `B` (your function should end with `return R,B`).  The list `R` should contain all elements of `L` which have the form $4n+1$ for some integer $n$.  The list `B` should contain all elements of `L` which have the form $4n+3$ for some integer $n$."
      ]
    },
    {
      "cell_type": "code",
      "metadata": {
        "id": "KMIB0BvM6nfA"
      },
      "source": [
        ""
      ],
      "execution_count": null,
      "outputs": []
    }
  ]
}